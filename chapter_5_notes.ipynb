{
 "cells": [
  {
   "cell_type": "markdown",
   "id": "9fccc9bf-1b17-4b9b-bb7f-92bf76a1b835",
   "metadata": {},
   "source": [
    "# Chapter 5\n",
    "## Compressing data via dimensionality reduction\n",
    "\n",
    "Instead of simply choosing a subset of features to reduce dimensionality, *feature extraction* can also be used. This is when data is projected onto a new feature space, without loosing data information.  This not only improves resource use, but can also prevent the curse of dimensionality.  This becomes important when using non-regularized models.\n",
    "\n",
    "## Main steps in Principle Component Analysis\n",
    "\n",
    "*Principle component analysis* (PCA) tries to find directions of maximum variance in high dimensional datasets, then projects the data onto a space with fewer dimensions.  \n",
    "\n",
    "A transformation matrix, $W = d \\times k$, that transforms a training record $x$ onto a $k$-dimensional feature space.  If:\n",
    "$$\n",
    "    x = [x_1, \\dots, x_d] \\in \\mathbb{R}^d\n",
    "$$\n",
    "Then apply $W$ to $x$:\n",
    "$$\n",
    "    xW = z\n",
    "$$\n",
    "such that\n",
    "$$\n",
    "    z = [z_1, \\dots, z_k] \\in \\mathbb{R}^k\n",
    "$$\n",
    "where $k<d$, typically $k \\ll d$.\n",
    "\n",
    "The algorithm can be summarized in the following steps:\n",
    "1. Standardize the $d$-dimensional feature space\n",
    "2. Construct the covariance matrix, $\\Sigma$\n",
    "3. Decompose $\\Sigma$ into eigenvectors and eigenvalues\n",
    "4. Sort eigenvalues in decreasing order to rank the corresponding eigenvectors\n",
    "5. Select $k$ eigenvectors based on their eigenvalues; $k$ is the dimensionality of the new feature space  \n",
    "6. Construct the transformation matrix, $W$, from the $k$ eigenvectors\n",
    "7. Transform the dataset, $X$, via $W$\n",
    "\n",
    "More information:\n",
    "- [Eigenvectors](https://mathworld.wolfram.com/Eigenvector.html)\n",
    "    - recall that the characteristic polynomial must have zero roots, in this case they should be real valued, not complex valued.\n",
    "    - also note that $\\text{det} (A- \\lambda I) = 0$, which leads to a reduction in dimensions\n",
    "- [Determinant](https://en.wikipedia.org/wiki/Determinant)\n",
    "    - note: \"... the determinant is nonzero if and only if the matrix is invertible and the linear map represented by the matrix is an isomorphism.\"\n",
    "- [Eigen decomposition](https://mathworld.wolfram.com/EigenDecomposition.html)\n",
    "\n",
    "## Extracting principle components step by step\n",
    "1. data is split and standardized"
   ]
  },
  {
   "cell_type": "code",
   "execution_count": 1,
   "id": "48f00e65-91c4-4670-8684-a7a0c41a9401",
   "metadata": {},
   "outputs": [],
   "source": [
    "import pandas as pd\n",
    "import numpy as np\n",
    "from sklearn.model_selection import train_test_split\n",
    "from sklearn.preprocessing import StandardScaler\n",
    "df_wine = pd.read_csv('wine_data.csv').drop(columns = ['Unnamed: 0'])\n",
    "#use a .7/.3 split\n",
    "X, y = df_wine.iloc[:, 1:].values, df_wine.iloc[:, 0].values\n",
    "X_train, X_test, y_train, y_test = train_test_split(X, y, test_size = 0.3, stratify = y, random_state = 0)\n",
    "sc = StandardScaler()\n",
    "X_train_std = sc.fit_transform(X_train)\n",
    "X_test_std = sc.transform(X_test)"
   ]
  },
  {
   "cell_type": "markdown",
   "id": "a81d5120-1961-478b-a784-3465b05070ff",
   "metadata": {
    "tags": []
   },
   "source": [
    "2. compute the covariance matrix\n",
    "\n",
    "The covariance matrix, $\\Sigma$, is the matrix that stores the pairwise covariances between features:\n",
    "$$\n",
    "    \\sigma_jk = \\frac{1}{n-1} \\sum_{i=1}^n (x_j^{(i)} - \\mu_j)(x_k^{(i)} - \\mu_k)\n",
    "$$\n",
    "\n",
    "The eigenvectors of $\\Sigma$ will be the principle components of teh maximum variance"
   ]
  },
  {
   "cell_type": "code",
   "execution_count": 2,
   "id": "123eb52b-f265-43c6-b7f7-2eb57f05fca5",
   "metadata": {},
   "outputs": [],
   "source": [
    "cov_mat = np.cov(X_train_std.T)"
   ]
  },
  {
   "cell_type": "markdown",
   "id": "bc9f2f22-819e-4191-ae51-6b40c0d761be",
   "metadata": {},
   "source": [
    "3. compute the eigenvalues and eigenvectors\n",
    "Recall the definition of eigenvectors:\n",
    "$$\n",
    "    \\Sigma v = \\lambda v\n",
    "$$\n",
    "where $v$ is the eigenvector and $\\lambda$ is the eigenvalue.\n",
    "\n",
    "(Note that the characteristic polynomial might have complex roots, but numpy has the `numpy.linalg.eigh` method which will use Hermetian matrices; these will be real valued eigenvectors)."
   ]
  },
  {
   "cell_type": "code",
   "execution_count": 3,
   "id": "9c504ae0-8109-4f17-9825-a8cf3a8253fb",
   "metadata": {},
   "outputs": [
    {
     "data": {
      "text/plain": [
       "array([4.84274532, 2.41602459, 1.54845825, 0.96120438, 0.84166161,\n",
       "       0.6620634 , 0.51828472, 0.34650377, 0.3131368 , 0.10754642,\n",
       "       0.21357215, 0.15362835, 0.1808613 ])"
      ]
     },
     "execution_count": 3,
     "metadata": {},
     "output_type": "execute_result"
    }
   ],
   "source": [
    "eigen_vals, eigen_vecs = np.linalg.eig(cov_mat)\n",
    "eigen_vals"
   ]
  },
  {
   "cell_type": "markdown",
   "id": "2d11f7fa-23cc-4b74-94b5-7f5aa17f1996",
   "metadata": {},
   "source": [
    "### Total and explained variance\n",
    "\n",
    "To map to a lower dimension feature space, only the eigenvectors with the highest variance are selected. This is determined by the explained variance ratio\n",
    "$$\n",
    "    \\frac{\\lambda_j}{\\sum_{j=1}^d \\lambda_j}\n",
    "$$\n",
    "\n",
    "This is calculated using the cumulative sum function in numpy, `cumsum`.  Note that the first two components account for almost 0.6 of the variance."
   ]
  },
  {
   "cell_type": "code",
   "execution_count": 4,
   "id": "9ffc5604-ab95-47be-a1e3-187e6137b9b6",
   "metadata": {},
   "outputs": [
    {
     "data": {
      "image/png": "[encoded data removed]",
      "text/plain": [
       "<Figure size 432x288 with 1 Axes>"
      ]
     },
     "metadata": {
      "needs_background": "light"
     },
     "output_type": "display_data"
    }
   ],
   "source": [
    "tot = sum(eigen_vals)\n",
    "var_exp = [(i / tot) for i in sorted(eigen_vals, reverse = True)]\n",
    "cum_var_exp = np.cumsum(var_exp)\n",
    "import matplotlib.pyplot as plt\n",
    "plt.bar(range(1,14), var_exp, align='center', label='Individual explained variance') \n",
    "plt.step(range(1,14), cum_var_exp, where='mid', label='Cumulative explained variance') \n",
    "plt.ylabel('Explained variance ratio')\n",
    "plt.xlabel('Principal component index')\n",
    "plt.legend(loc='best')\n",
    "plt.tight_layout()\n",
    "plt.show()"
   ]
  },
  {
   "cell_type": "markdown",
   "id": "4a78779c-b94b-430a-9647-e62b67b73968",
   "metadata": {},
   "source": [
    "## Feature transformtion\n",
    "\n",
    "1. Select $k$ eigenvectors, where $k$ is the required dimensions"
   ]
  },
  {
   "cell_type": "code",
   "execution_count": 5,
   "id": "7ce1a019-473d-4264-b9ab-f6ae8a69ffc4",
   "metadata": {},
   "outputs": [],
   "source": [
    "eigen_pairs = [(np.abs(eigen_vals[i]), eigen_vecs[:, i]) for i in range(len(eigen_vals))]\n",
    "eigen_pairs.sort(key=lambda k : k[0], reverse = True)"
   ]
  },
  {
   "cell_type": "markdown",
   "id": "0a41eedc-aa95-4697-a992-26736e57f3dd",
   "metadata": {},
   "source": [
    "2. Get the $k$ eigenvectors to make $W$, the transformation matrix.\n",
    "\n",
    "Note that $W$ is a $13 \\times 2$, so the new feature space with be $1 \\times 2$; recalling: $xW = z$"
   ]
  },
  {
   "cell_type": "code",
   "execution_count": 6,
   "id": "8f7eebd8-3bb0-40d4-a41c-18a549613ddc",
   "metadata": {},
   "outputs": [
    {
     "data": {
      "text/plain": [
       "array([[-0.13724218,  0.50303478],\n",
       "       [ 0.24724326,  0.16487119],\n",
       "       [-0.02545159,  0.24456476],\n",
       "       [ 0.20694508, -0.11352904],\n",
       "       [-0.15436582,  0.28974518],\n",
       "       [-0.39376952,  0.05080104],\n",
       "       [-0.41735106, -0.02287338],\n",
       "       [ 0.30572896,  0.09048885],\n",
       "       [-0.30668347,  0.00835233],\n",
       "       [ 0.07554066,  0.54977581],\n",
       "       [-0.32613263, -0.20716433],\n",
       "       [-0.36861022, -0.24902536],\n",
       "       [-0.29669651,  0.38022942]])"
      ]
     },
     "execution_count": 6,
     "metadata": {},
     "output_type": "execute_result"
    }
   ],
   "source": [
    "w = np.hstack((eigen_pairs[0][1][:, np.newaxis], eigen_pairs[1][1][:, np.newaxis]))\n",
    "w"
   ]
  },
  {
   "cell_type": "markdown",
   "id": "c4ac2eed-a281-4f24-b9fe-47d2701f4dad",
   "metadata": {},
   "source": [
    "Now apply the trasnformation matrix to obtain $x'$"
   ]
  },
  {
   "cell_type": "code",
   "execution_count": 7,
   "id": "3a93ff81-e7fc-4277-8d43-b894c1e8752a",
   "metadata": {},
   "outputs": [
    {
     "data": {
      "text/plain": [
       "array([2.38299011, 0.45458499])"
      ]
     },
     "execution_count": 7,
     "metadata": {},
     "output_type": "execute_result"
    }
   ],
   "source": [
    "X_train_std[0].dot(w)"
   ]
  },
  {
   "cell_type": "markdown",
   "id": "2e3a079b-de21-4d49-900c-4094498645ac",
   "metadata": {
    "tags": []
   },
   "source": [
    "## Principal component analysis in scikit-learn\n",
    "\n",
    "`PCA` class in scikit-learn is a transformer. "
   ]
  },
  {
   "cell_type": "code",
   "execution_count": 8,
   "id": "026eb002-2ebb-4f46-a768-b2cbc31c32ff",
   "metadata": {},
   "outputs": [],
   "source": [
    "from matplotlib.colors import ListedColormap\n",
    "def plot_decision_regions(X, y, classifier, test_idx=None, resolution=0.02):\n",
    "    # setup marker generator and color map\n",
    "    markers = ('o', 's', '^', 'v', '<')\n",
    "    colors = ('red', 'blue', 'lightgreen', 'gray', 'cyan')\n",
    "    cmap = ListedColormap(colors[:len(np.unique(y))])\n",
    "    # plot the decision surface\n",
    "    x1_min, x1_max = X[:, 0].min() - 1, X[:, 0].max() + 1\n",
    "    x2_min, x2_max = X[:, 1].min() - 1, X[:, 1].max() + 1\n",
    "    xx1, xx2 = np.meshgrid(np.arange(x1_min, x1_max, resolution),\n",
    "                           np.arange(x2_min, x2_max, resolution))\n",
    "    lab = classifier.predict(np.array([xx1.ravel(), xx2.ravel()]).T)\n",
    "    lab = lab.reshape(xx1.shape)\n",
    "    plt.contourf(xx1, xx2, lab, alpha=0.3, cmap=cmap)\n",
    "    plt.xlim(xx1.min(), xx1.max())\n",
    "    plt.ylim(xx2.min(), xx2.max())\n",
    "    # plot class examples\n",
    "    for idx, cl in enumerate(np.unique(y)):\n",
    "        plt.scatter(x=X[y == cl, 0],\n",
    "                    y=X[y == cl, 1],\n",
    "                    alpha=0.8,\n",
    "                    c=colors[idx],\n",
    "                    marker=markers[idx],\n",
    "                    label=f'Class {cl}',\n",
    "                    edgecolor='black')"
   ]
  },
  {
   "cell_type": "code",
   "execution_count": 9,
   "id": "de3ac4a4-1b90-420a-a91d-25453dca99d0",
   "metadata": {},
   "outputs": [
    {
     "data": {
      "image/png": "[encoded data removed]",
      "text/plain": [
       "<Figure size 432x288 with 1 Axes>"
      ]
     },
     "metadata": {
      "needs_background": "light"
     },
     "output_type": "display_data"
    }
   ],
   "source": [
    "from sklearn.linear_model import LogisticRegression \n",
    "from sklearn.decomposition import PCA\n",
    "\n",
    "pca = PCA(n_components = 2)\n",
    "lr = LogisticRegression(multi_class = 'ovr', random_state = 1, solver = 'lbfgs')\n",
    "X_train_pca = pca.fit_transform(X_train_std)\n",
    "X_test_pcs = pca.transform(X_test_std)\n",
    "lr.fit(X_train_pca, y_train)\n",
    "plot_decision_regions(X_train_pca, y_train, classifier=lr)\n",
    "plt.xlabel('PC 1')\n",
    "plt.ylabel('PC 2')\n",
    "plt.legend(loc='lower left')\n",
    "plt.tight_layout()\n",
    "plt.show()"
   ]
  },
  {
   "cell_type": "markdown",
   "id": "eb3c3b18-ed9a-489d-8acf-05a4e883e0af",
   "metadata": {},
   "source": [
    "PCA is also useful for calculating the explained variance by passing `None` for `n_components`."
   ]
  },
  {
   "cell_type": "code",
   "execution_count": 10,
   "id": "24c0fb32-d18b-4e1d-8536-d72694a1386e",
   "metadata": {},
   "outputs": [
    {
     "data": {
      "text/plain": [
       "array([0.36951469, 0.18434927, 0.11815159, 0.07334252, 0.06422108,\n",
       "       0.05051724, 0.03954654, 0.02643918, 0.02389319, 0.01629614,\n",
       "       0.01380021, 0.01172226, 0.00820609])"
      ]
     },
     "execution_count": 10,
     "metadata": {},
     "output_type": "execute_result"
    }
   ],
   "source": [
    "pca = PCA(n_components = None)\n",
    "X_train_pca = pca.fit_transform(X_train_std)\n",
    "pca.explained_variance_ratio_"
   ]
  },
  {
   "cell_type": "markdown",
   "id": "628d2ab1-9c06-40a2-8a5c-95ef7fdc43af",
   "metadata": {},
   "source": [
    "### Assessing feature contributions\n",
    "\n",
    "- *loadings* : how much each individual feature contributes to a given principle component.  It is equal to $v\\sqrt{\\lambda}$, eigenvector scaled by the square root of the eigenvalue.\n",
    "\n",
    "Note that these are correlations: a value of $1$ is a strong positive correlations and $-1$ is a strong negative correlation.  Features $6$ and $7$ are the strongest negative correlations, and $8$ is strongly positive correlation."
   ]
  },
  {
   "cell_type": "code",
   "execution_count": 11,
   "id": "b99c12ae-1f67-4cf6-9f58-f1fa4ea54123",
   "metadata": {},
   "outputs": [],
   "source": [
    "loadings = eigen_vecs * np.sqrt(eigen_vals)\n",
    "#can also use the scikitlearn object\n",
    "sklearn_loadings = pca.components_.T * np.sqrt(pca.explained_variance_)"
   ]
  },
  {
   "cell_type": "code",
   "execution_count": 12,
   "id": "ffe37012-5d94-4ae7-9b96-03f422fee6e6",
   "metadata": {},
   "outputs": [
    {
     "data": {
      "image/png": "[encoded data removed]",
      "text/plain": [
       "<Figure size 432x288 with 1 Axes>"
      ]
     },
     "metadata": {
      "needs_background": "light"
     },
     "output_type": "display_data"
    }
   ],
   "source": [
    "fig, ax = plt.subplots()\n",
    "ax.bar(range(13), loadings[:, 0], align='center') \n",
    "ax.set_ylabel('Loadings for PC 1')\n",
    "ax.set_xticks(range(13))\n",
    "ax.set_xticklabels(df_wine.columns[1:], rotation=90) \n",
    "plt.ylim([-1, 1])\n",
    "plt.tight_layout()\n",
    "plt.show()"
   ]
  },
  {
   "cell_type": "code",
   "execution_count": 13,
   "id": "53270d3f-cc3a-485d-a9d0-be9b8b9647d7",
   "metadata": {},
   "outputs": [
    {
     "data": {
      "image/png": "[encoded data removed]",
      "text/plain": [
       "<Figure size 432x288 with 1 Axes>"
      ]
     },
     "metadata": {
      "needs_background": "light"
     },
     "output_type": "display_data"
    }
   ],
   "source": [
    "#plot for scikitlearn loadings\n",
    "fig, ax = plt.subplots()\n",
    "ax.bar(range(13), sklearn_loadings[:, 0], align='center') \n",
    "ax.set_ylabel('Loadings for PC 1')\n",
    "ax.set_xticks(range(13))\n",
    "ax.set_xticklabels(df_wine.columns[1:], rotation=90) \n",
    "plt.ylim([-1, 1])\n",
    "plt.tight_layout()\n",
    "plt.show()"
   ]
  },
  {
   "cell_type": "markdown",
   "id": "a7be4eb7-6e15-4274-8fa3-771c3e8611f8",
   "metadata": {},
   "source": [
    "## Supervised data compression via linear discriminant analysis\n",
    "The goal of *linear discriminant analysis* (LDA) is to find feature subspaces that optimize class seperability. Like PCA, it is a linear transformation technique; therefore, it finds a transformtion matrix, $W$, such that $xW=z$ where $z$ is in a feature subspace. LDA assumes:\n",
    "- Data is normally distributed\n",
    "- Classes have identical covariance matrices\n",
    "- Training samples are independent of each other\n",
    "However, LDA can work reasonably well when these are violated slightly.\n",
    "\n",
    "### LDA workings\n",
    "\n",
    "1. standardize $d$ dimensional dataset\n",
    "2. for each class compute the $d$ dimensional mean vector\n",
    "3. construct a between-class scatter matrix, $S_B$, and a within class scatter matrix, $S_W$.\n",
    "4. computer eigenvectors and eigenvalues of $S_B^{-1}S_B$\n",
    "5. sort eigenvalues in decreasing order, and sort their corresponding eigenvectors\n",
    "6. choose $k$ eigenvectors that correspond to the $k$ largest eigenvalues and use these as the columns of the $W$ transformation matrix\n",
    "7. use $W$ to project the features onto the new feature subspace\n",
    "\n",
    "Note that the algorithm is very similar to PCA; however, the mean (in the form of a mean vector for each class and scatter matrices) is used which assumes that there are already existing class groupings.\n",
    "\n",
    "#### Computing scatter matrices\n",
    "(example will use the already stadardized `df_wine` dataset)\n",
    "\n",
    "Computing the scatter matrices first requires the computation of the mean vectors for each of $i$ classes:\n",
    "$$\n",
    "    m_i = \\frac{1}{n_i} \\sum_{x \\in D_i} x_m\n",
    "$$\n",
    "This makes a mean vector for each class.  The mean vector for the $i$th class, $m_i$, looks like:\n",
    "$$\n",
    "    m_i = \\left[\\begin{matrix} \\mu_1 \\\\ \\vdots \\\\ \\mu_k \\end{matrix}\\right]\n",
    "$$\n",
    "where $k$ is the number of features."
   ]
  },
  {
   "cell_type": "code",
   "execution_count": 14,
   "id": "0b5fee8a-3449-4d49-a374-97763aed0ae8",
   "metadata": {},
   "outputs": [
    {
     "name": "stdout",
     "output_type": "stream",
     "text": [
      "MV 1: [ 0.9065826  -0.34973457  0.32010329 -0.71891449  0.50558678  0.88069702\n",
      "  0.95894709 -0.55161049  0.54159322  0.23383109  0.58971299  0.65631399\n",
      "  1.20749382]\n",
      "\n",
      "MV 2: [-0.87487963 -0.28480003 -0.37347228  0.31571225 -0.38480347 -0.04332505\n",
      "  0.06345321 -0.09460613  0.07034749 -0.82860474  0.31436962  0.36084258\n",
      " -0.72528643]\n",
      "\n",
      "MV 3: [ 0.199215    0.8660339   0.168163    0.41484489 -0.04511771 -1.02855532\n",
      " -1.28756034  0.82867687 -0.77947565  0.96494432 -1.20899133 -1.36215159\n",
      " -0.40130076]\n",
      "\n"
     ]
    }
   ],
   "source": [
    "mean_vecs = list()\n",
    "for label in range(1,4):\n",
    "    mean_vecs.append(\n",
    "        np.mean(X_train_std[y_train==label], axis = 0) #take the mean along the column (axis = 0)\n",
    "    )\n",
    "    print(f'MV {label}: {mean_vecs[label - 1]}\\n')"
   ]
  },
  {
   "cell_type": "markdown",
   "id": "c06223b4-b38a-4dcd-8723-313815dbb964",
   "metadata": {},
   "source": [
    "Using the mean vectors, we can compute the scatter matrices.  Within class:\n",
    "$$\n",
    "    S_W = \\sum_{i=1}^c S_i\n",
    "$$\n",
    "where we sum the scatter matrix for each class:\n",
    "$$\n",
    "    S_i = \\sum_{x \\in D_i} (x - m_i)(x - m_i)^T \n",
    "$$\n",
    "\n",
    "(Note, we are adding matrices in each sum, so the overall sum is a matrix)"
   ]
  },
  {
   "cell_type": "code",
   "execution_count": 15,
   "id": "1b8a1a2a-b708-486e-989a-62b98e6f3fea",
   "metadata": {},
   "outputs": [
    {
     "name": "stdout",
     "output_type": "stream",
     "text": [
      "Within-class scatter matrix: 13x13\n"
     ]
    }
   ],
   "source": [
    "d = 13 #number of features\n",
    "S_W = np.zeros((d, d))\n",
    "for label, mv in zip(range(1, 4), mean_vecs):\n",
    "    class_scatter = np.zeros((d, d))\n",
    "    for row in X_train_std[y_train == label]:\n",
    "        row, mv = row.reshape(d, 1), mv.reshape(d, 1)\n",
    "        class_scatter += (row - mv).dot((row - mv).T)\n",
    "    S_W += class_scatter\n",
    "print(f'Within-class scatter matrix: {S_W.shape[0]}x{S_W.shape[1]}')"
   ]
  },
  {
   "cell_type": "markdown",
   "id": "bb689782-b71e-41e6-8b51-22b67d8c5ed2",
   "metadata": {},
   "source": [
    "Note that the labels are not evenly distributed:"
   ]
  },
  {
   "cell_type": "code",
   "execution_count": 16,
   "id": "17165aac-0513-4ecb-81d1-e9cb805fd222",
   "metadata": {},
   "outputs": [
    {
     "name": "stdout",
     "output_type": "stream",
     "text": [
      "Class label distribution: [41 50 33]\n"
     ]
    }
   ],
   "source": [
    "print(f'Class label distribution: {np.bincount(y_train)[1:]}')"
   ]
  },
  {
   "cell_type": "markdown",
   "id": "48422a0a-ac13-4b1b-9030-72c34efddd87",
   "metadata": {},
   "source": [
    "This is contrary to the assumptions of LDA. Therefore, each $S_i$ needs to be scaled before summing as $S_W$.  In order to scale, we divide by $n_i$, the number of examples in class $i$:\n",
    "$$\n",
    "    \\frac{1}{n_i} \\sum_{x \\in D_i} (x - m_i)(x - m_i)^T\n",
    "$$\n",
    "Note that this is the covariance matrix for the $i$th class, $\\Sigma_i$."
   ]
  },
  {
   "cell_type": "code",
   "execution_count": 17,
   "id": "2a8f422b-8aa5-4967-bc5a-e2241b8fd2e2",
   "metadata": {},
   "outputs": [
    {
     "name": "stdout",
     "output_type": "stream",
     "text": [
      "Scaled within-class scatter matrix: 13x13\n"
     ]
    }
   ],
   "source": [
    "d = 13 # number of features\n",
    "S_W = np.zeros((d, d))\n",
    "for label,mv in zip(range(1, 4), mean_vecs):\n",
    "    class_scatter = np.cov(X_train_std[y_train==label].T)\n",
    "    S_W += class_scatter\n",
    "print(f'Scaled within-class scatter matrix: {S_W.shape[0]}x{S_W.shape[1]}')"
   ]
  },
  {
   "cell_type": "markdown",
   "id": "94761ceb-dc8a-4170-87f1-ec6c84ff3f3a",
   "metadata": {},
   "source": [
    "Now compute the between class scatter matrix:\n",
    "$$\n",
    "    S_B = \\sum_{i=1}^c n_i(m_i - m)(m_i - m)^T\n",
    "$$\n",
    "where $m$ is the overall mean (i.e. includes data from all classes)."
   ]
  },
  {
   "cell_type": "code",
   "execution_count": 18,
   "id": "74a37913-9e97-4a39-8e44-2ff78cc5aa95",
   "metadata": {},
   "outputs": [
    {
     "name": "stdout",
     "output_type": "stream",
     "text": [
      "Between-class scatter matrix: 13x13\n"
     ]
    }
   ],
   "source": [
    "mean_overall = np.mean(X_train_std, axis=0) \n",
    "mean_overall = mean_overall.reshape(d, 1)\n",
    "d = 13 # number of features\n",
    "S_B = np.zeros((d, d))\n",
    "for i, mean_vec in enumerate(mean_vecs):\n",
    "    n = X_train_std[y_train == i + 1, :].shape[0]\n",
    "    mean_vec = mean_vec.reshape(d, 1) # make column vector\n",
    "    S_B += n * (mean_vec - mean_overall).dot((mean_vec - mean_overall).T)\n",
    "print(f'Between-class scatter matrix: {S_B.shape[0]}x{S_B.shape[1]}')"
   ]
  },
  {
   "cell_type": "markdown",
   "id": "f0a88263-ddb5-4901-ba2f-8cab7f6d42e7",
   "metadata": {},
   "source": [
    "#### Selecting linear discriminant for the new feature space\n",
    "- The remaining steps are similar to PCA\n",
    "\n",
    "Compute the eigenvectors and eigenvalues of $S_W^{-1}S_B$ (Does it matter that some are complex valued?)"
   ]
  },
  {
   "cell_type": "code",
   "execution_count": 19,
   "id": "a1e61432-f3f2-4919-899f-32f6c1b28ac9",
   "metadata": {},
   "outputs": [
    {
     "data": {
      "text/plain": [
       "array([ 5.68434189e-14+0.00000000e+00j,  1.72761522e+02+0.00000000e+00j,\n",
       "        3.49617809e+02+0.00000000e+00j, -3.63360049e-14+0.00000000e+00j,\n",
       "       -1.59197501e-14+2.44271400e-14j, -1.59197501e-14-2.44271400e-14j,\n",
       "       -1.47445915e-14+0.00000000e+00j, -1.05959798e-14+1.19958279e-14j,\n",
       "       -1.05959798e-14-1.19958279e-14j,  1.65329587e-14+1.07237868e-15j,\n",
       "        1.65329587e-14-1.07237868e-15j,  6.27139861e-15+0.00000000e+00j,\n",
       "       -2.04742590e-15+0.00000000e+00j])"
      ]
     },
     "execution_count": 19,
     "metadata": {},
     "output_type": "execute_result"
    }
   ],
   "source": [
    "eigen_vals, eigen_vecs = np.linalg.eig(np.linalg.inv(S_W).dot(S_B))\n",
    "eigen_vals"
   ]
  },
  {
   "cell_type": "markdown",
   "id": "e05d3ab7-5e3c-472d-84bd-2e24540cfffe",
   "metadata": {},
   "source": [
    "Sort them in descending order:"
   ]
  },
  {
   "cell_type": "code",
   "execution_count": 20,
   "id": "a8e79e9d-dc40-4203-8c20-8fd0ccf86371",
   "metadata": {},
   "outputs": [
    {
     "name": "stdout",
     "output_type": "stream",
     "text": [
      "Eigenvalues in descending order:\n",
      "\n",
      "349.617808905994\n",
      "172.76152218979394\n",
      "5.684341886080802e-14\n",
      "3.63360048868007e-14\n",
      "2.9156879278165203e-14\n",
      "2.9156879278165203e-14\n",
      "1.6567701054331684e-14\n",
      "1.6567701054331684e-14\n",
      "1.6005457633433247e-14\n",
      "1.6005457633433247e-14\n",
      "1.4744591544911198e-14\n",
      "6.2713986138368715e-15\n",
      "2.0474258990949274e-15\n"
     ]
    }
   ],
   "source": [
    "eigen_pairs = [(np.abs(eigen_vals[i]), eigen_vecs[:,i]) for i in range(len(eigen_vals))]\n",
    "eigen_pairs = sorted(eigen_pairs, key=lambda k: k[0], reverse=True)\n",
    "print('Eigenvalues in descending order:\\n') \n",
    "for eigen_val in eigen_pairs:\n",
    "    print(eigen_val[0])"
   ]
  },
  {
   "cell_type": "markdown",
   "id": "8e1d08a1-6c92-4d0d-a729-dba4969a9c3f",
   "metadata": {},
   "source": [
    "At most there will be $c - 1$ linear discriminants, where $c$ is the number of class labels (note: if we can discriminate two of the three class, then whatever is left must be the third class).  Here there are 3 class labels and two non-zero linear discriminats (the other low values are due to floating point arithmetic).\n",
    "\n",
    "To measure how well they distinguish the classes, we can take the ratio of the real part of the eigenvalue and the sum of all the real parts of the eigenvalues.  This is the *discriminability*; as can be seen, the two eigenvectors reach 1.00 of the data."
   ]
  },
  {
   "cell_type": "code",
   "execution_count": 21,
   "id": "6334ea04-b1a2-4a5d-84bf-923dd0eb4dfd",
   "metadata": {},
   "outputs": [
    {
     "data": {
      "image/png": "[encoded data removed]",
      "text/plain": [
       "<Figure size 432x288 with 1 Axes>"
      ]
     },
     "metadata": {
      "needs_background": "light"
     },
     "output_type": "display_data"
    }
   ],
   "source": [
    "tot = sum(eigen_vals.real)\n",
    "discr = [(i / tot) for i in sorted(eigen_vals.real, reverse=True)] \n",
    "cum_discr = np.cumsum(discr)\n",
    "plt.bar(range(1, 14), discr, align='center', label='Individual discriminability')\n",
    "plt.step(range(1, 14), cum_discr, where='mid', label='Cumulative discriminability') \n",
    "plt.ylabel('\"Discriminability\" ratio')\n",
    "plt.xlabel('Linear Discriminants')\n",
    "plt.ylim([-0.1, 1.1]) \n",
    "plt.legend(loc='best') \n",
    "plt.tight_layout() \n",
    "plt.show()"
   ]
  },
  {
   "cell_type": "markdown",
   "id": "84e7973b-9568-4e59-85db-44ee3ada9db7",
   "metadata": {},
   "source": [
    "Make $W$, the transformation matrix, by stacking the two eigenvectors next to each other."
   ]
  },
  {
   "cell_type": "code",
   "execution_count": 22,
   "id": "cce13b19-ff9e-453b-b7e4-f5d9cdf95711",
   "metadata": {},
   "outputs": [
    {
     "name": "stdout",
     "output_type": "stream",
     "text": [
      "Matrix W:\n",
      " [[-0.14808266 -0.40918668]\n",
      " [ 0.09076942 -0.15765978]\n",
      " [-0.01678204 -0.35371242]\n",
      " [ 0.14840098  0.32231568]\n",
      " [-0.0163456  -0.08168973]\n",
      " [ 0.19130756  0.08419165]\n",
      " [-0.73377547  0.28234956]\n",
      " [-0.07501992 -0.01015645]\n",
      " [ 0.00184929  0.09065024]\n",
      " [ 0.29402743 -0.2152308 ]\n",
      " [-0.03282632  0.27470975]\n",
      " [-0.35466909 -0.01243875]\n",
      " [-0.39151562 -0.59578685]]\n"
     ]
    }
   ],
   "source": [
    "w = np.hstack((eigen_pairs[0][1][:, np.newaxis].real, eigen_pairs[1][1][:, np.newaxis].real)) \n",
    "print('Matrix W:\\n', w)"
   ]
  },
  {
   "cell_type": "markdown",
   "id": "3f134481-af77-4ff2-887c-9e5dab891cfb",
   "metadata": {},
   "source": [
    "#### Using $W$ to project into the new feature space\n",
    "Use:\n",
    "$$\n",
    "    X' = XW\n",
    "$$\n",
    "\n",
    "It become clear that the classes are now linearly seperable."
   ]
  },
  {
   "cell_type": "code",
   "execution_count": 23,
   "id": "c04dfe07-32bf-4685-8d96-6696ac9de48a",
   "metadata": {},
   "outputs": [
    {
     "data": {
      "image/png": "[encoded data removed]",
      "text/plain": [
       "<Figure size 432x288 with 1 Axes>"
      ]
     },
     "metadata": {
      "needs_background": "light"
     },
     "output_type": "display_data"
    }
   ],
   "source": [
    "X_train_lda = X_train_std.dot(w)\n",
    "colors = ['r', 'b', 'g']\n",
    "markers = ['o', 's', '^']\n",
    "for l, c, m in zip(np.unique(y_train), colors, markers):\n",
    "    plt.scatter(X_train_lda[y_train==l, 0],\n",
    "        X_train_lda[y_train==l, 1] * (-1),\n",
    "        c=c, label= f'Class {l}', marker=m)\n",
    "plt.xlabel('LD 1')\n",
    "plt.ylabel('LD 2')\n",
    "plt.legend(loc='lower right') \n",
    "plt.tight_layout()\n",
    "plt.show()\n"
   ]
  },
  {
   "cell_type": "markdown",
   "id": "2786aade-82d9-4dbf-bc88-199430b7f491",
   "metadata": {},
   "source": [
    "### LDA in scikit-learn\n",
    "\n"
   ]
  },
  {
   "cell_type": "code",
   "execution_count": 25,
   "id": "ee42ae95-c718-486c-b7db-6b1ed196d31b",
   "metadata": {},
   "outputs": [],
   "source": [
    "from sklearn.discriminant_analysis import LinearDiscriminantAnalysis as LDA \n",
    "lda = LDA(n_components=2)\n",
    "X_train_lda = lda.fit_transform(X_train_std, y_train)"
   ]
  },
  {
   "cell_type": "code",
   "execution_count": 27,
   "id": "012d92c7-8709-4dd9-b387-1d11773ae3f4",
   "metadata": {},
   "outputs": [
    {
     "data": {
      "image/png": "[encoded data removed]",
      "text/plain": [
       "<Figure size 432x288 with 1 Axes>"
      ]
     },
     "metadata": {
      "needs_background": "light"
     },
     "output_type": "display_data"
    }
   ],
   "source": [
    "lr = LogisticRegression(multi_class='ovr', random_state=1, solver='lbfgs')\n",
    "lr = lr.fit(X_train_lda, y_train)\n",
    "plot_decision_regions(X_train_lda, y_train, classifier=lr) \n",
    "plt.xlabel('LD 1')\n",
    "plt.ylabel('LD 2')\n",
    "plt.legend(loc='lower left') \n",
    "plt.tight_layout()\n",
    "plt.show()"
   ]
  },
  {
   "cell_type": "markdown",
   "id": "de863fbc-6c92-40e6-8db9-02d2403d3eb3",
   "metadata": {
    "tags": []
   },
   "source": [
    "Lowering regularization might reclassify the one example that is classified wrong.  However, consider the test set which is all correctly classified:"
   ]
  },
  {
   "cell_type": "code",
   "execution_count": 28,
   "id": "91e352fe-70da-42c4-ac45-fbea1a5484f0",
   "metadata": {},
   "outputs": [
    {
     "data": {
      "image/png": "[encoded data removed]",
      "text/plain": [
       "<Figure size 432x288 with 1 Axes>"
      ]
     },
     "metadata": {
      "needs_background": "light"
     },
     "output_type": "display_data"
    }
   ],
   "source": [
    "X_test_lda = lda.transform(X_test_std)\n",
    "plot_decision_regions(X_test_lda, y_test, classifier=lr) \n",
    "plt.xlabel('LD 1')\n",
    "plt.ylabel('LD 2')\n",
    "plt.legend(loc='lower left')\n",
    "plt.tight_layout()\n",
    "plt.show()"
   ]
  },
  {
   "cell_type": "markdown",
   "id": "85feb15d-d8e9-4d49-be9a-945ac19e45d3",
   "metadata": {
    "tags": []
   },
   "source": [
    "## Nonlinear dimensionality reduction and visualization\n",
    "\n",
    "#### Why consider nonlinear dimensionality reduction\n",
    "Many of the ML algorithms assume linear seperability; however, data often is not linearly seperable. Nonlinear reduction techniques are implemented in scikit-learn.  Nonlinear dimensionality reduction are also called *manifold learning* because a *manifold* is a lower dimensional space contained within a higher dimensionsional space.\n",
    "\n",
    "[Manifolds](https://en.wikipedia.org/wiki/Manifold) - \"an n-dimensional manifold, or n-manifold for short, is a topological space with the property that each point has a neighborhood that is homeomorphic to an open subset of n-dimensional Euclidean space.\"\n",
    "\n",
    "Note that manifold learning is hard to use, with uncertain results. This is due to multi-dimensional data being hard to understand topologically. \n",
    "\n",
    "### t-SNE \n",
    "- t-SNE : *t-distributed stochastic neighbor embedding*\n",
    "\n",
    "t-SNE models pair-wise points based on their distance in the original (higher dimensional) feature space, and finds a similar distribution of distances in the lower dimensional space to the distribution in the higher dimensional space.  Note that t-SNE is unsupervised, and the `y_digits` set is only used for visualization.\n",
    "\n",
    "To illustrate with scikit-learn, use the digits dataset; this dataset contains images of handwritten digits in 8 px by 8 px images."
   ]
  },
  {
   "cell_type": "code",
   "execution_count": 29,
   "id": "00dd3d45-51b4-43ce-981a-0a21f7b6bdd2",
   "metadata": {},
   "outputs": [],
   "source": [
    "from sklearn.datasets import load_digits \n",
    "digits = load_digits()"
   ]
  },
  {
   "cell_type": "code",
   "execution_count": 32,
   "id": "f089a51c-56e9-44ab-b371-a067c198a80f",
   "metadata": {},
   "outputs": [
    {
     "data": {
      "image/png": "[encoded data removed]",
      "text/plain": [
       "<Figure size 432x288 with 4 Axes>"
      ]
     },
     "metadata": {
      "needs_background": "light"
     },
     "output_type": "display_data"
    }
   ],
   "source": [
    "fig, ax = plt.subplots(1, 4)\n",
    "for i in range(4):\n",
    "    ax[i].imshow(digits.images[i], cmap='Greys') \n",
    "plt.show()"
   ]
  },
  {
   "cell_type": "markdown",
   "id": "7f10de01-59bf-419c-903d-740f6b540f2d",
   "metadata": {},
   "source": [
    "Access a tabular version of this dataset where images are represented by rows and columns are pixels:"
   ]
  },
  {
   "cell_type": "code",
   "execution_count": 34,
   "id": "0114759c-93c9-4b0d-867d-5fda0d7a8f1a",
   "metadata": {},
   "outputs": [
    {
     "data": {
      "text/plain": [
       "(1797, 64)"
      ]
     },
     "execution_count": 34,
     "metadata": {},
     "output_type": "execute_result"
    }
   ],
   "source": [
    "digits.data.shape"
   ]
  },
  {
   "cell_type": "code",
   "execution_count": 35,
   "id": "d3607322-2b39-4eba-a7e1-f56bd4f23b78",
   "metadata": {},
   "outputs": [],
   "source": [
    "y_digits = digits.target #the label of the number\n",
    "X_digits = digits.data #the pixels"
   ]
  },
  {
   "cell_type": "markdown",
   "id": "de4cdb10-8271-429b-9008-f81abf54b918",
   "metadata": {},
   "source": [
    "Now apply t-SNE via scikit-learn"
   ]
  },
  {
   "cell_type": "code",
   "execution_count": 40,
   "id": "8e12a757-08c6-4835-8da9-70586c89f968",
   "metadata": {},
   "outputs": [
    {
     "name": "stderr",
     "output_type": "stream",
     "text": [
      "/opt/homebrew/anaconda3/lib/python3.9/site-packages/sklearn/manifold/_t_sne.py:790: FutureWarning: The default learning rate in TSNE will change from 200.0 to 'auto' in 1.2.\n",
      "  warnings.warn(\n",
      "/opt/homebrew/anaconda3/lib/python3.9/site-packages/sklearn/manifold/_t_sne.py:982: FutureWarning: The PCA initialization in TSNE will change to have the standard deviation of PC1 equal to 1e-4 in 1.2. This will ensure better convergence.\n",
      "  warnings.warn(\n"
     ]
    }
   ],
   "source": [
    "from sklearn.manifold import TSNE\n",
    "tsne = TSNE(n_components=2, init='pca', random_state=123)\n",
    "X_digits_tsne = tsne.fit_transform(X_digits)"
   ]
  },
  {
   "cell_type": "code",
   "execution_count": 42,
   "id": "a065d6b9-1bf7-4e5a-8c4e-6a6b67d7ed9d",
   "metadata": {},
   "outputs": [
    {
     "data": {
      "text/plain": [
       "(1797, 2)"
      ]
     },
     "execution_count": 42,
     "metadata": {},
     "output_type": "execute_result"
    }
   ],
   "source": [
    "X_digits_tsne.shape #the data is now two dimensional"
   ]
  },
  {
   "cell_type": "markdown",
   "id": "5cfd2868-902b-442d-98b8-e46c4171aaab",
   "metadata": {},
   "source": [
    "Note that `init='pca'` initializes the algorithm with PCA. Note that there are other hyperparameters such as *perplexity* and *learning rate*."
   ]
  },
  {
   "cell_type": "code",
   "execution_count": 43,
   "id": "31020724-c17c-41cd-8f0e-d71da391d470",
   "metadata": {},
   "outputs": [
    {
     "data": {
      "image/png": "[encoded data removed]",
      "text/plain": [
       "<Figure size 576x576 with 1 Axes>"
      ]
     },
     "metadata": {
      "needs_background": "light"
     },
     "output_type": "display_data"
    }
   ],
   "source": [
    "import matplotlib.patheffects as PathEffects \n",
    "def plot_projection(x, colors):\n",
    "    f = plt.figure(figsize=(8, 8)) \n",
    "    ax = plt.subplot(aspect='equal') \n",
    "    for i in range(10):\n",
    "        plt.scatter(x[colors == i, 0],\n",
    "                x[colors == i, 1])\n",
    "    for i in range(10):\n",
    "        xtext, ytext = np.median(x[colors == i, :], axis=0) \n",
    "        txt = ax.text(xtext, ytext, str(i), fontsize=24) \n",
    "        txt.set_path_effects([\n",
    "            PathEffects.Stroke(linewidth=5, foreground=\"w\"),\n",
    "            PathEffects.Normal()])\n",
    "        \n",
    "plot_projection(X_digits_tsne, y_digits)\n",
    "plt.show()"
   ]
  },
  {
   "cell_type": "code",
   "execution_count": null,
   "id": "e1905848-7030-4786-8e46-21fb2a732c5c",
   "metadata": {},
   "outputs": [],
   "source": []
  }
 ],
 "metadata": {
  "kernelspec": {
   "display_name": "Python 3 (ipykernel)",
   "language": "python",
   "name": "python3"
  },
  "language_info": {
   "codemirror_mode": {
    "name": "ipython",
    "version": 3
   },
   "file_extension": ".py",
   "mimetype": "text/x-python",
   "name": "python",
   "nbconvert_exporter": "python",
   "pygments_lexer": "ipython3",
   "version": "3.9.12"
  }
 },
 "nbformat": 4,
 "nbformat_minor": 5
}
