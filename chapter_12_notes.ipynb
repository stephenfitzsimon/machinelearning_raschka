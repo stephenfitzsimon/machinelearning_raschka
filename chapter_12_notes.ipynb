{
 "cells": [
  {
   "cell_type": "markdown",
   "id": "d055b319-6a92-4e71-a13b-12da4cb6261f",
   "metadata": {},
   "source": [
    "# Chapter 12 : Parallelizing Neural Network Training with Pytorch\n",
    "\n",
    "## PyTorch and training performance\n",
    "\n",
    "### Performance challenges \n",
    "\n",
    "Python is limited by the Global Interpreter Lock (GIL) to one core.  Since MLP network with many hidden layers can quickly grow in parameters, this limitation can be bypassed by using the GPU, which are better value for computations.\n",
    "\n",
    "### What is PyTorch?\n",
    "\n",
    "*PyTorch* is a programming interface for running machine learning algorithms.  It allows a script to use CPU and GPU and TLU devices. \n",
    "\n",
    "PyTorch is built around a computation graph composed of a set of nodes.  Each node represents an operation with zero or more inputs or outputs. \n",
    "\n",
    "PyTorch uses tensors which are analogous to NumPy arrays, but optimized for GPU computations.  They act as scalars (rank 1), vectors (rank 2), matrices (rank 3), etc. \n",
    "\n",
    "### How to learn PyTorch\n",
    "\n",
    "- understand tensors and how to use an manipulate them\n",
    "- understand how to load data and use `torch.utils.data`\n",
    "- use `torch.nn` neural network module, and then build machine learning modules\n",
    "\n",
    "## First Steps with PyTorch\n",
    "- install via `pip`\n",
    "\n",
    "### Making Tensors\n",
    "\n",
    "Tensors can be made from lists and NumPy arrays.\n",
    "- Pass lists to `.tensor`\n",
    "- Pass arrays to `from_numpy`"
   ]
  },
  {
   "cell_type": "code",
   "execution_count": 1,
   "id": "d51da666-5b36-4ee0-85f6-2372f31bc470",
   "metadata": {},
   "outputs": [
    {
     "name": "stdout",
     "output_type": "stream",
     "text": [
      "tensor([1, 2, 3])\n",
      "tensor([4, 5, 6], dtype=torch.int32)\n"
     ]
    }
   ],
   "source": [
    "import torch\n",
    "import numpy as np\n",
    "np.set_printoptions(precision=3)\n",
    "a = [1, 2, 3]\n",
    "b = np.array([4, 5, 6], dtype=np.int32) \n",
    "t_a = torch.tensor(a)\n",
    "t_b = torch.from_numpy(b)\n",
    "print(t_a)\n",
    "print(t_b)"
   ]
  },
  {
   "cell_type": "markdown",
   "id": "9da3e1d8-c222-40b1-b1d9-bb816f77f87f",
   "metadata": {},
   "source": [
    "Just like an array, tensors have `.shape`:"
   ]
  },
  {
   "cell_type": "code",
   "execution_count": 2,
   "id": "6996b92f-08c9-4624-9a83-24e47c9981f8",
   "metadata": {},
   "outputs": [
    {
     "name": "stdout",
     "output_type": "stream",
     "text": [
      "tensor([[1., 1., 1.],\n",
      "        [1., 1., 1.]])\n"
     ]
    },
    {
     "data": {
      "text/plain": [
       "torch.Size([2, 3])"
      ]
     },
     "execution_count": 2,
     "metadata": {},
     "output_type": "execute_result"
    }
   ],
   "source": [
    "t_ones = torch.ones(2, 3) \n",
    "print(t_ones)\n",
    "t_ones.shape"
   ]
  },
  {
   "cell_type": "markdown",
   "id": "4b8924ec-6a40-41b8-8db1-3b0d9e987f0a",
   "metadata": {},
   "source": [
    "A tensor of random values can be created:"
   ]
  },
  {
   "cell_type": "code",
   "execution_count": 19,
   "id": "6b2d39da-98e7-4b30-b98f-9916da65c50a",
   "metadata": {},
   "outputs": [
    {
     "name": "stdout",
     "output_type": "stream",
     "text": [
      "tensor([[0.5098, 0.5946, 0.4730],\n",
      "        [0.5654, 0.4023, 0.3465]])\n"
     ]
    }
   ],
   "source": [
    "rand_tensor = torch.rand(2,3)\n",
    "print(rand_tensor)"
   ]
  },
  {
   "cell_type": "markdown",
   "id": "8c55ecad-b481-45b8-ba5f-e8f5c6a3399d",
   "metadata": {},
   "source": [
    "### Manipulating the data type and shape of a tensor\n",
    "\n",
    "`.to()` is used to cast to a different datatype:"
   ]
  },
  {
   "cell_type": "code",
   "execution_count": 20,
   "id": "bafee83a-367f-444b-b5c1-909fd3a7c314",
   "metadata": {},
   "outputs": [
    {
     "name": "stdout",
     "output_type": "stream",
     "text": [
      "torch.int64\n"
     ]
    }
   ],
   "source": [
    "t_a_new = t_a.to(torch.int64)\n",
    "print(t_a_new.dtype)"
   ]
  },
  {
   "cell_type": "markdown",
   "id": "7b86b7e9-59a8-47a7-8698-8dc809b3efb0",
   "metadata": {},
   "source": [
    "Some operations need tensors of a certain rank; therefore, the size and/or shape of a tensor might need to be manipulated.\n",
    "\n",
    "Transposing: use `.transpose`"
   ]
  },
  {
   "cell_type": "code",
   "execution_count": 21,
   "id": "45f81779-bb93-47e6-af0b-26813bf7fcb5",
   "metadata": {},
   "outputs": [
    {
     "name": "stdout",
     "output_type": "stream",
     "text": [
      "torch.Size([3, 5])  -->  torch.Size([5, 3])\n"
     ]
    }
   ],
   "source": [
    "t = torch.rand(3, 5)\n",
    "t_tr = torch.transpose(t, 0, 1)\n",
    "print(t.shape, ' --> ', t_tr.shape)"
   ]
  },
  {
   "cell_type": "markdown",
   "id": "b8533f4e-82c5-4251-a473-343ae3b3e661",
   "metadata": {},
   "source": [
    "Reshaping: use `.reshape`"
   ]
  },
  {
   "cell_type": "code",
   "execution_count": 23,
   "id": "c387ac42-0403-4833-9d71-5303d96e216c",
   "metadata": {},
   "outputs": [
    {
     "name": "stdout",
     "output_type": "stream",
     "text": [
      "torch.Size([30])  --->  torch.Size([5, 6])\n"
     ]
    }
   ],
   "source": [
    "t = torch.zeros(30)\n",
    "t_reshape = t.reshape(5, 6) \n",
    "print(t.shape, ' ---> ', t_reshape.shape)"
   ]
  },
  {
   "cell_type": "markdown",
   "id": "604cc604-8a26-4c00-862d-190172aa5fd9",
   "metadata": {},
   "source": [
    "Removing a dimension: use `.squeeze`"
   ]
  },
  {
   "cell_type": "code",
   "execution_count": 24,
   "id": "6146d0f6-561f-4e19-be42-2b1c05a2b571",
   "metadata": {},
   "outputs": [
    {
     "name": "stdout",
     "output_type": "stream",
     "text": [
      "torch.Size([1, 2, 1, 4, 1])  -->  torch.Size([1, 2, 4, 1])\n"
     ]
    }
   ],
   "source": [
    "t = torch.zeros(1, 2, 1, 4, 1)\n",
    "t_sqz = torch.squeeze(t, 2)\n",
    "print(t.shape, ' --> ', t_sqz.shape)"
   ]
  },
  {
   "cell_type": "code",
   "execution_count": null,
   "id": "7b576ef9-d232-42d8-be75-24b8ee9862d8",
   "metadata": {},
   "outputs": [],
   "source": []
  }
 ],
 "metadata": {
  "kernelspec": {
   "display_name": "Python 3 (ipykernel)",
   "language": "python",
   "name": "python3"
  },
  "language_info": {
   "codemirror_mode": {
    "name": "ipython",
    "version": 3
   },
   "file_extension": ".py",
   "mimetype": "text/x-python",
   "name": "python",
   "nbconvert_exporter": "python",
   "pygments_lexer": "ipython3",
   "version": "3.9.12"
  }
 },
 "nbformat": 4,
 "nbformat_minor": 5
}
