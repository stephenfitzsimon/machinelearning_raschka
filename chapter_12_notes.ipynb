{
 "cells": [
  {
   "cell_type": "markdown",
   "id": "d055b319-6a92-4e71-a13b-12da4cb6261f",
   "metadata": {},
   "source": [
    "# Chapter 12 : Parallelizing Neural Network Training with Pytorch\n",
    "\n",
    "## PyTorch and training performance\n",
    "\n",
    "### Performance challenges \n",
    "\n",
    "Python is limited by the Global Interpreter Lock (GIL) to one core.  Since MLP network with many hidden layers can quickly grow in parameters, this limitation can be bypassed by using the GPU, which are better value for computations.\n",
    "\n",
    "### What is PyTorch?\n",
    "\n",
    "*PyTorch* is a programming interface for running machine learning algorithms.  It allows a script to use CPU and GPU and TLU devices. \n",
    "\n",
    "PyTorch is built around a computation graph composed of a set of nodes.  Each node represents an operation with zero or more inputs or outputs. \n",
    "\n",
    "PyTorch uses tensors which are analogous to NumPy arrays, but optimized for GPU computations.  They act as scalars (rank 1), vectors (rank 2), matrices (rank 3), etc. \n",
    "\n",
    "### How to learn PyTorch\n",
    "\n",
    "- understand tensors and how to use an manipulate them\n",
    "- understand how to load data and use `torch.utils.data`\n",
    "- use `torch.nn` neural network module, and then build machine learning modules\n",
    "\n",
    "## First Steps with PyTorch\n",
    "- install via `pip`\n",
    "\n",
    "### Making Tensors\n",
    "\n",
    "Tensors can be made from lists and NumPy arrays.\n",
    "- Pass lists to `.tensor`\n",
    "- Pass arrays to `from_numpy`"
   ]
  },
  {
   "cell_type": "code",
   "execution_count": 1,
   "id": "d51da666-5b36-4ee0-85f6-2372f31bc470",
   "metadata": {},
   "outputs": [
    {
     "name": "stdout",
     "output_type": "stream",
     "text": [
      "tensor([1, 2, 3])\n",
      "tensor([4, 5, 6], dtype=torch.int32)\n"
     ]
    }
   ],
   "source": [
    "import torch\n",
    "import numpy as np\n",
    "np.set_printoptions(precision=3)\n",
    "a = [1, 2, 3]\n",
    "b = np.array([4, 5, 6], dtype=np.int32) \n",
    "t_a = torch.tensor(a)\n",
    "t_b = torch.from_numpy(b)\n",
    "print(t_a)\n",
    "print(t_b)"
   ]
  },
  {
   "cell_type": "markdown",
   "id": "9da3e1d8-c222-40b1-b1d9-bb816f77f87f",
   "metadata": {},
   "source": [
    "Just like an array, tensors have `.shape`:"
   ]
  },
  {
   "cell_type": "code",
   "execution_count": 2,
   "id": "6996b92f-08c9-4624-9a83-24e47c9981f8",
   "metadata": {},
   "outputs": [
    {
     "name": "stdout",
     "output_type": "stream",
     "text": [
      "tensor([[1., 1., 1.],\n",
      "        [1., 1., 1.]])\n"
     ]
    },
    {
     "data": {
      "text/plain": [
       "torch.Size([2, 3])"
      ]
     },
     "execution_count": 2,
     "metadata": {},
     "output_type": "execute_result"
    }
   ],
   "source": [
    "t_ones = torch.ones(2, 3) \n",
    "print(t_ones)\n",
    "t_ones.shape"
   ]
  },
  {
   "cell_type": "markdown",
   "id": "4b8924ec-6a40-41b8-8db1-3b0d9e987f0a",
   "metadata": {},
   "source": [
    "A tensor of random values can be created:"
   ]
  },
  {
   "cell_type": "code",
   "execution_count": 19,
   "id": "6b2d39da-98e7-4b30-b98f-9916da65c50a",
   "metadata": {},
   "outputs": [
    {
     "name": "stdout",
     "output_type": "stream",
     "text": [
      "tensor([[0.5098, 0.5946, 0.4730],\n",
      "        [0.5654, 0.4023, 0.3465]])\n"
     ]
    }
   ],
   "source": [
    "rand_tensor = torch.rand(2,3)\n",
    "print(rand_tensor)"
   ]
  },
  {
   "cell_type": "markdown",
   "id": "8c55ecad-b481-45b8-ba5f-e8f5c6a3399d",
   "metadata": {},
   "source": [
    "### Manipulating the data type and shape of a tensor\n",
    "\n",
    "`.to()` is used to cast to a different datatype:"
   ]
  },
  {
   "cell_type": "code",
   "execution_count": 20,
   "id": "bafee83a-367f-444b-b5c1-909fd3a7c314",
   "metadata": {},
   "outputs": [
    {
     "name": "stdout",
     "output_type": "stream",
     "text": [
      "torch.int64\n"
     ]
    }
   ],
   "source": [
    "t_a_new = t_a.to(torch.int64)\n",
    "print(t_a_new.dtype)"
   ]
  },
  {
   "cell_type": "markdown",
   "id": "7b86b7e9-59a8-47a7-8698-8dc809b3efb0",
   "metadata": {},
   "source": [
    "Some operations need tensors of a certain rank; therefore, the size and/or shape of a tensor might need to be manipulated.\n",
    "\n",
    "Transposing: use `.transpose`"
   ]
  },
  {
   "cell_type": "code",
   "execution_count": 21,
   "id": "45f81779-bb93-47e6-af0b-26813bf7fcb5",
   "metadata": {},
   "outputs": [
    {
     "name": "stdout",
     "output_type": "stream",
     "text": [
      "torch.Size([3, 5])  -->  torch.Size([5, 3])\n"
     ]
    }
   ],
   "source": [
    "t = torch.rand(3, 5)\n",
    "t_tr = torch.transpose(t, 0, 1)\n",
    "print(t.shape, ' --> ', t_tr.shape)"
   ]
  },
  {
   "cell_type": "markdown",
   "id": "b8533f4e-82c5-4251-a473-343ae3b3e661",
   "metadata": {},
   "source": [
    "Reshaping: use `.reshape`"
   ]
  },
  {
   "cell_type": "code",
   "execution_count": 23,
   "id": "c387ac42-0403-4833-9d71-5303d96e216c",
   "metadata": {},
   "outputs": [
    {
     "name": "stdout",
     "output_type": "stream",
     "text": [
      "torch.Size([30])  --->  torch.Size([5, 6])\n"
     ]
    }
   ],
   "source": [
    "t = torch.zeros(30)\n",
    "t_reshape = t.reshape(5, 6) \n",
    "print(t.shape, ' ---> ', t_reshape.shape)"
   ]
  },
  {
   "cell_type": "markdown",
   "id": "604cc604-8a26-4c00-862d-190172aa5fd9",
   "metadata": {},
   "source": [
    "Removing a dimension: use `.squeeze`"
   ]
  },
  {
   "cell_type": "code",
   "execution_count": 24,
   "id": "6146d0f6-561f-4e19-be42-2b1c05a2b571",
   "metadata": {},
   "outputs": [
    {
     "name": "stdout",
     "output_type": "stream",
     "text": [
      "torch.Size([1, 2, 1, 4, 1])  -->  torch.Size([1, 2, 4, 1])\n"
     ]
    }
   ],
   "source": [
    "t = torch.zeros(1, 2, 1, 4, 1)\n",
    "t_sqz = torch.squeeze(t, 2)\n",
    "print(t.shape, ' --> ', t_sqz.shape)"
   ]
  },
  {
   "cell_type": "markdown",
   "id": "9567a610-9934-4b3a-8f2e-d355c0dc8f4c",
   "metadata": {},
   "source": [
    "### Applying mathematical operations to tensors\n",
    "\n",
    "Recall, nearly all the algorithms are applications of linear algebra. \n",
    "\n",
    "Make two random tensors--one uniform and the other normally distributed.  These are both $5 \\times 2$ size matrices."
   ]
  },
  {
   "cell_type": "code",
   "execution_count": 27,
   "id": "bd976794-41da-4817-b24d-ae7a48db208b",
   "metadata": {},
   "outputs": [
    {
     "name": "stdout",
     "output_type": "stream",
     "text": [
      "tensor([[ 0.5153, -0.4414],\n",
      "        [-0.1939,  0.4694],\n",
      "        [-0.9414,  0.5997],\n",
      "        [-0.2057,  0.5087],\n",
      "        [ 0.1390, -0.1224]])\n",
      "tensor([[ 0.8590,  0.7056],\n",
      "        [-0.3406, -1.2720],\n",
      "        [-1.1948,  0.0250],\n",
      "        [-0.7627,  1.3969],\n",
      "        [-0.3245,  0.2879]])\n"
     ]
    }
   ],
   "source": [
    "torch.manual_seed(1)\n",
    "t1 = 2 * torch.rand(5, 2) - 1\n",
    "t2 = torch.normal(mean=0, std=1, size=(5, 2))\n",
    "print(t1)\n",
    "print(t2)"
   ]
  },
  {
   "cell_type": "markdown",
   "id": "be196c19-974a-4fcd-93ea-a72e29d301f8",
   "metadata": {},
   "source": [
    "Multiplication:"
   ]
  },
  {
   "cell_type": "code",
   "execution_count": 28,
   "id": "dfc67757-62c0-4e58-bb8a-9cd96ce41b0b",
   "metadata": {},
   "outputs": [
    {
     "name": "stdout",
     "output_type": "stream",
     "text": [
      "tensor([[ 0.4426, -0.3114],\n",
      "        [ 0.0660, -0.5970],\n",
      "        [ 1.1249,  0.0150],\n",
      "        [ 0.1569,  0.7107],\n",
      "        [-0.0451, -0.0352]])\n"
     ]
    }
   ],
   "source": [
    "t3 = torch.multiply(t1, t2)\n",
    "print(t3)"
   ]
  },
  {
   "cell_type": "markdown",
   "id": "918f3b7b-851e-4dc4-8fe7-44126aa299e9",
   "metadata": {},
   "source": [
    "Mean, sum and standard deviation:"
   ]
  },
  {
   "cell_type": "code",
   "execution_count": 31,
   "id": "ca26427b-89f1-4be7-893c-852ef94a12e0",
   "metadata": {},
   "outputs": [
    {
     "name": "stdout",
     "output_type": "stream",
     "text": [
      "Mean = tensor([-0.1373,  0.2028])\n",
      "Sum = tensor([-0.6867,  1.0140])\n",
      "Std = tensor([0.5378, 0.4591])\n"
     ]
    }
   ],
   "source": [
    "t4 = torch.mean(t1, axis=0)\n",
    "t4_b = torch.sum(t1, axis=0)\n",
    "t4_c = torch.std(t1, axis=0)\n",
    "print(f\"Mean = {t4}\")\n",
    "print(f\"Sum = {t4_b}\")\n",
    "print(f\"Std = {t4_c}\")"
   ]
  },
  {
   "cell_type": "markdown",
   "id": "5b146a8a-4705-4fcb-a7fa-95b2e42e30be",
   "metadata": {
    "tags": []
   },
   "source": [
    "Matric product, i.e. $t_1 \\times t_2^T$:"
   ]
  },
  {
   "cell_type": "code",
   "execution_count": 32,
   "id": "0e3a938e-ea98-4d2c-8887-8c4bc92beac0",
   "metadata": {},
   "outputs": [
    {
     "name": "stdout",
     "output_type": "stream",
     "text": [
      "tensor([[ 0.1312,  0.3860, -0.6267, -1.0096, -0.2943],\n",
      "        [ 0.1647, -0.5310,  0.2434,  0.8035,  0.1980],\n",
      "        [-0.3855, -0.4422,  1.1399,  1.5558,  0.4781],\n",
      "        [ 0.1822, -0.5771,  0.2585,  0.8676,  0.2132],\n",
      "        [ 0.0330,  0.1084, -0.1692, -0.2771, -0.0804]])\n"
     ]
    }
   ],
   "source": [
    "t5 = torch.matmul(t1, torch.transpose(t2, 0, 1))\n",
    "print(t5)"
   ]
  },
  {
   "cell_type": "markdown",
   "id": "8fcaeb38-e941-458a-94be-b1bcce4d4e8c",
   "metadata": {},
   "source": [
    "Since matrix multiplication is not commutative, $t_1^T \\times t_2$:"
   ]
  },
  {
   "cell_type": "code",
   "execution_count": 33,
   "id": "86c2d535-7fdd-40e8-be27-e3c682aadacc",
   "metadata": {},
   "outputs": [
    {
     "name": "stdout",
     "output_type": "stream",
     "text": [
      "tensor([[ 1.7453,  0.3392],\n",
      "        [-1.6038, -0.2180]])\n"
     ]
    }
   ],
   "source": [
    "t6 = torch.matmul(torch.transpose(t1, 0, 1), t2)\n",
    "print(t6)"
   ]
  },
  {
   "cell_type": "markdown",
   "id": "8fbf7bed-d6d8-48d9-8984-f7b03cd6e5db",
   "metadata": {},
   "source": [
    "Compute the $L^2$ norm of a tensor:"
   ]
  },
  {
   "cell_type": "code",
   "execution_count": 34,
   "id": "c5d1e150-3fcb-4f46-a753-a53bf11da977",
   "metadata": {
    "tags": []
   },
   "outputs": [
    {
     "name": "stdout",
     "output_type": "stream",
     "text": [
      "tensor([0.6785, 0.5078, 1.1162, 0.5488, 0.1853])\n"
     ]
    }
   ],
   "source": [
    "norm_t1 = torch.linalg.norm(t1, ord=2, dim=1)\n",
    "print(norm_t1)"
   ]
  },
  {
   "cell_type": "markdown",
   "id": "82587fb6-650f-4693-81bf-0202da7d1d4f",
   "metadata": {},
   "source": [
    "### Split, stack and concatenate tensors\n",
    "\n",
    "`torch.chunk` will split a tensor into equally sized tensors:"
   ]
  },
  {
   "cell_type": "code",
   "execution_count": 36,
   "id": "cf3dde64-2910-454b-b4ea-b19bef4862a4",
   "metadata": {},
   "outputs": [
    {
     "name": "stdout",
     "output_type": "stream",
     "text": [
      "tensor([0.7576, 0.2793, 0.4031, 0.7347, 0.0293, 0.7999])\n"
     ]
    },
    {
     "data": {
      "text/plain": [
       "[array([0.758, 0.279], dtype=float32),\n",
       " array([0.403, 0.735], dtype=float32),\n",
       " array([0.029, 0.8  ], dtype=float32)]"
      ]
     },
     "execution_count": 36,
     "metadata": {},
     "output_type": "execute_result"
    }
   ],
   "source": [
    "torch.manual_seed(1)\n",
    "t = torch.rand(6)\n",
    "print(t)\n",
    "t_splits = torch.chunk(t, 3) #splits the 6 column tensor into 3 tensors with 2 columns\n",
    "[item.numpy() for item in t_splits]"
   ]
  },
  {
   "cell_type": "markdown",
   "id": "9ca8c0ac-3d42-4228-a4a6-f68e8daf387b",
   "metadata": {},
   "source": [
    "The splits do not need to be the same size; a list can be passed:"
   ]
  },
  {
   "cell_type": "code",
   "execution_count": 37,
   "id": "cc95c424-5e9e-4386-bdb0-6eb5572670e6",
   "metadata": {},
   "outputs": [
    {
     "name": "stdout",
     "output_type": "stream",
     "text": [
      "tensor([0.7576, 0.2793, 0.4031, 0.7347, 0.0293])\n"
     ]
    },
    {
     "data": {
      "text/plain": [
       "[array([0.758, 0.279, 0.403], dtype=float32),\n",
       " array([0.735, 0.029], dtype=float32)]"
      ]
     },
     "execution_count": 37,
     "metadata": {},
     "output_type": "execute_result"
    }
   ],
   "source": [
    "torch.manual_seed(1)\n",
    "t = torch.rand(5)\n",
    "print(t)\n",
    "t_splits = torch.split(t, split_size_or_sections=[3, 2]) #split into two tensors with 3 and 2 columns\n",
    "[item.numpy() for item in t_splits]"
   ]
  },
  {
   "cell_type": "markdown",
   "id": "c698c3d1-a1ff-4ed0-b871-89c6a9e5d650",
   "metadata": {},
   "source": [
    "Tensors are concatenated using `torch.cat`"
   ]
  },
  {
   "cell_type": "code",
   "execution_count": 38,
   "id": "bd1ba03b-ba7c-4531-a158-4ce5ce936d3c",
   "metadata": {},
   "outputs": [
    {
     "name": "stdout",
     "output_type": "stream",
     "text": [
      "tensor([1., 1., 1., 0., 0.])\n"
     ]
    }
   ],
   "source": [
    "A = torch.ones(3)\n",
    "B = torch.zeros(2)\n",
    "C = torch.cat([A, B], axis=0) \n",
    "print(C)"
   ]
  },
  {
   "cell_type": "markdown",
   "id": "e246d93c-310f-49fb-9d5c-0b2efc52af9b",
   "metadata": {
    "tags": []
   },
   "source": [
    "They can also be stacked using `torch.stack`:"
   ]
  },
  {
   "cell_type": "code",
   "execution_count": 39,
   "id": "c7bef20a-c62b-448a-8431-b71673881704",
   "metadata": {},
   "outputs": [
    {
     "name": "stdout",
     "output_type": "stream",
     "text": [
      "tensor([[1., 0.],\n",
      "        [1., 0.],\n",
      "        [1., 0.]])\n"
     ]
    }
   ],
   "source": [
    "A = torch.ones(3)\n",
    "B = torch.zeros(3)\n",
    "S = torch.stack([A, B], axis=1) \n",
    "print(S)"
   ]
  },
  {
   "cell_type": "markdown",
   "id": "55203cc7-efb3-4010-904d-05fd06de3c18",
   "metadata": {},
   "source": [
    "## Building input pipelines in PyTorch\n",
    "\n",
    "NN models are commonly trained incrementally. This is because training sets are often too large for memory. This is called *batch* training (**not** mini-batch).  This type of training often requires a preprocessing pipeline. In PyTorch, this is done via `Dataset` and `DataLoader` modules.\n",
    "\n",
    "### Creating a PyTorch DataLoader from existing tensors\n",
    "\n",
    "For existing data in a list or NumPy array, use `DataLoader`:"
   ]
  },
  {
   "cell_type": "code",
   "execution_count": 41,
   "id": "9df4e7d8-4aab-41a9-bb57-141039dc7440",
   "metadata": {},
   "outputs": [
    {
     "name": "stdout",
     "output_type": "stream",
     "text": [
      "tensor([0.])\n",
      "tensor([1.])\n",
      "tensor([2.])\n",
      "tensor([3.])\n",
      "tensor([4.])\n",
      "tensor([5.])\n"
     ]
    }
   ],
   "source": [
    "from torch.utils.data import DataLoader \n",
    "t = torch.arange(6, dtype=torch.float32)  #make a \n",
    "data_loader = DataLoader(t)\n",
    "for item in data_loader: \n",
    "    print(item)"
   ]
  },
  {
   "cell_type": "markdown",
   "id": "c3b9a4bc-b40e-49c5-96d0-af7217515784",
   "metadata": {},
   "source": [
    "Batch sizes can also be defined via `batch_size`:"
   ]
  },
  {
   "cell_type": "code",
   "execution_count": 42,
   "id": "b8851136-3a28-472a-b6e9-0a91f7934805",
   "metadata": {},
   "outputs": [
    {
     "name": "stdout",
     "output_type": "stream",
     "text": [
      "batch 1: tensor([0.])\n",
      "batch 2: tensor([1.])\n",
      "batch 3: tensor([2.])\n",
      "batch 4: tensor([3.])\n",
      "batch 5: tensor([4.])\n",
      "batch 6: tensor([5.])\n"
     ]
    }
   ],
   "source": [
    "Data_loader = DataLoader(t, batch_size=3, drop_last=False) \n",
    "for i, batch in enumerate(data_loader, 1):\n",
    "    print(f'batch {i}:', batch)"
   ]
  },
  {
   "cell_type": "markdown",
   "id": "79d54a43-380e-416c-9d85-fdcae6888810",
   "metadata": {},
   "source": [
    "### Combining two tensors in a joint dataset\n",
    "\n",
    "Example, `t_y` holds class labels and `t_x` hold column values."
   ]
  },
  {
   "cell_type": "code",
   "execution_count": 43,
   "id": "528aa459-320a-40a2-abff-cbed2daeb056",
   "metadata": {},
   "outputs": [],
   "source": [
    "torch.manual_seed(1)\n",
    "t_x = torch.rand([4, 3], dtype=torch.float32) \n",
    "t_y = torch.arange(4)"
   ]
  },
  {
   "cell_type": "markdown",
   "id": "0cae8673-32fa-48a0-980d-393bb103c1f7",
   "metadata": {},
   "source": [
    "A joint dataset class can be made. `__getitem__` will return a same at a given index."
   ]
  },
  {
   "cell_type": "code",
   "execution_count": 45,
   "id": "3e69aae1-f450-4ff5-b6b1-771ffe945602",
   "metadata": {},
   "outputs": [],
   "source": [
    "from torch.utils.data import Dataset\n",
    "class JointDataset(Dataset):\n",
    "    def __init__(self, x, y):\n",
    "        self.x = x\n",
    "        self.y = y \n",
    "    def __len__(self):\n",
    "        return len(self.x)\n",
    "    def __getitem__(self, idx):\n",
    "        return self.x[idx], self.y[idx]\n",
    "    \n",
    "joint_dataset = JointDataset(t_x, t_y)"
   ]
  },
  {
   "cell_type": "code",
   "execution_count": 46,
   "id": "52aa2411-3e29-4029-a1ad-0e3eeb331402",
   "metadata": {},
   "outputs": [
    {
     "name": "stdout",
     "output_type": "stream",
     "text": [
      " x:  tensor([0.7576, 0.2793, 0.4031])  y:  tensor(0)\n",
      " x:  tensor([0.7347, 0.0293, 0.7999])  y:  tensor(1)\n",
      " x:  tensor([0.3971, 0.7544, 0.5695])  y:  tensor(2)\n",
      " x:  tensor([0.4388, 0.6387, 0.5247])  y:  tensor(3)\n"
     ]
    }
   ],
   "source": [
    "for example in joint_dataset:\n",
    "    print(' x: ', example[0], ' y: ', example[1])"
   ]
  },
  {
   "cell_type": "markdown",
   "id": "c578e591-e51d-412f-922c-82a31a2583e7",
   "metadata": {},
   "source": [
    "### Shuffle, batch and repeat\n",
    "\n",
    "Recall that training NN in batches requires randomized samples of data.\n",
    "\n",
    "Begin by making a random batch, and shuffling it with the `shuffle` parameter:"
   ]
  },
  {
   "cell_type": "code",
   "execution_count": 48,
   "id": "ebb0e06e-15a4-4712-a115-1e0a670f7750",
   "metadata": {},
   "outputs": [],
   "source": [
    "torch.manual_seed(1)\n",
    "data_loader = DataLoader(dataset=joint_dataset, batch_size=2, shuffle=True)"
   ]
  },
  {
   "cell_type": "markdown",
   "id": "fdef08d4-5835-42c8-94e5-7f41d36e99af",
   "metadata": {},
   "source": [
    "Now can move through the batches."
   ]
  },
  {
   "cell_type": "code",
   "execution_count": 49,
   "id": "345f1c99-0a51-4317-b24d-07f495f64cb7",
   "metadata": {},
   "outputs": [
    {
     "name": "stdout",
     "output_type": "stream",
     "text": [
      "batch 1: x: tensor([[0.3971, 0.7544, 0.5695],\n",
      "        [0.7576, 0.2793, 0.4031]]) \n",
      "         y: tensor([2, 0])\n",
      "batch 2: x: tensor([[0.7347, 0.0293, 0.7999],\n",
      "        [0.4388, 0.6387, 0.5247]]) \n",
      "         y: tensor([1, 3])\n"
     ]
    }
   ],
   "source": [
    "for i, batch in enumerate(data_loader, 1):\n",
    "    print(f'batch {i}:', 'x:', batch[0],\n",
    "              '\\n         y:', batch[1])"
   ]
  },
  {
   "cell_type": "markdown",
   "id": "78482c96-41a6-4138-86f0-02757507c06f",
   "metadata": {},
   "source": [
    "Now can move through for each epic, as if a model was being trained:"
   ]
  },
  {
   "cell_type": "code",
   "execution_count": 51,
   "id": "3c5606f4-6f60-40c0-88b3-ef18d1bd399b",
   "metadata": {},
   "outputs": [
    {
     "name": "stdout",
     "output_type": "stream",
     "text": [
      "epoch 1\n",
      "batch 1: x: tensor([[0.4388, 0.6387, 0.5247],\n",
      "        [0.3971, 0.7544, 0.5695]]) \n",
      "         y: tensor([3, 2])\n",
      "batch 2: x: tensor([[0.7576, 0.2793, 0.4031],\n",
      "        [0.7347, 0.0293, 0.7999]]) \n",
      "         y: tensor([0, 1])\n",
      "epoch 2\n",
      "batch 1: x: tensor([[0.7576, 0.2793, 0.4031],\n",
      "        [0.4388, 0.6387, 0.5247]]) \n",
      "         y: tensor([0, 3])\n",
      "batch 2: x: tensor([[0.3971, 0.7544, 0.5695],\n",
      "        [0.7347, 0.0293, 0.7999]]) \n",
      "         y: tensor([2, 1])\n"
     ]
    }
   ],
   "source": [
    "for epoch in range(2):\n",
    "    print(f'epoch {epoch+1}')\n",
    "    for i, batch in enumerate(data_loader, 1):\n",
    "        print(f'batch {i}:', 'x:', batch[0], '\\n         y:', batch[1])"
   ]
  },
  {
   "cell_type": "code",
   "execution_count": null,
   "id": "cff090cc-8414-452d-a7b7-9b9ee26fc974",
   "metadata": {},
   "outputs": [],
   "source": []
  }
 ],
 "metadata": {
  "kernelspec": {
   "display_name": "Python 3 (ipykernel)",
   "language": "python",
   "name": "python3"
  },
  "language_info": {
   "codemirror_mode": {
    "name": "ipython",
    "version": 3
   },
   "file_extension": ".py",
   "mimetype": "text/x-python",
   "name": "python",
   "nbconvert_exporter": "python",
   "pygments_lexer": "ipython3",
   "version": "3.9.12"
  }
 },
 "nbformat": 4,
 "nbformat_minor": 5
}
