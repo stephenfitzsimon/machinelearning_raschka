{
 "cells": [
  {
   "cell_type": "markdown",
   "id": "d055b319-6a92-4e71-a13b-12da4cb6261f",
   "metadata": {},
   "source": [
    "# Chapter 12 : Parallelizing Neural Network Training with Pytorch\n",
    "\n",
    "## PyTorch and training performance\n",
    "\n",
    "### Performance challenges \n",
    "\n",
    "Python is limited by the Global Interpreter Lock (GIL) to one core.  Since MLP network with many hidden layers can quickly grow in parameters, this limitation can be bypassed by using the GPU, which are better value for computations.\n",
    "\n",
    "### What is PyTorch?\n",
    "\n",
    "*PyTorch* is a programming interface for running machine learning algorithms.  It allows a script to use CPU and GPU and TLU devices. \n",
    "\n",
    "PyTorch is built around a computation graph composed of a set of nodes.  Each node represents an operation with zero or more inputs or outputs. \n",
    "\n",
    "PyTorch uses tensors which are analogous to NumPy arrays, but optimized for GPU computations.  They act as scalars (rank 1), vectors (rank 2), matrices (rank 3), etc. \n",
    "\n",
    "### How to learn PyTorch\n",
    "\n",
    "- understand tensors and how to use an manipulate them\n",
    "- understand how to load data and use `torch.utils.data`\n",
    "- use `torch.nn` neural network module, and then build machine learning modules"
   ]
  },
  {
   "cell_type": "code",
   "execution_count": 1,
   "id": "d51da666-5b36-4ee0-85f6-2372f31bc470",
   "metadata": {},
   "outputs": [],
   "source": [
    "import torch"
   ]
  },
  {
   "cell_type": "code",
   "execution_count": null,
   "id": "122ce789-ec08-4d2f-99a8-77a801848b15",
   "metadata": {},
   "outputs": [],
   "source": []
  }
 ],
 "metadata": {
  "kernelspec": {
   "display_name": "Python 3 (ipykernel)",
   "language": "python",
   "name": "python3"
  },
  "language_info": {
   "codemirror_mode": {
    "name": "ipython",
    "version": 3
   },
   "file_extension": ".py",
   "mimetype": "text/x-python",
   "name": "python",
   "nbconvert_exporter": "python",
   "pygments_lexer": "ipython3",
   "version": "3.9.12"
  }
 },
 "nbformat": 4,
 "nbformat_minor": 5
}
