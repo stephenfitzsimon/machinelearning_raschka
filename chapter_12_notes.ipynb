{
 "cells": [
  {
   "cell_type": "markdown",
   "id": "d055b319-6a92-4e71-a13b-12da4cb6261f",
   "metadata": {},
   "source": [
    "# Chapter 12 : Parallelizing Neural Network Training with Pytorch\n",
    "\n"
   ]
  },
  {
   "cell_type": "code",
   "execution_count": null,
   "id": "d51da666-5b36-4ee0-85f6-2372f31bc470",
   "metadata": {},
   "outputs": [],
   "source": []
  }
 ],
 "metadata": {
  "kernelspec": {
   "display_name": "Python 3 (ipykernel)",
   "language": "python",
   "name": "python3"
  },
  "language_info": {
   "codemirror_mode": {
    "name": "ipython",
    "version": 3
   },
   "file_extension": ".py",
   "mimetype": "text/x-python",
   "name": "python",
   "nbconvert_exporter": "python",
   "pygments_lexer": "ipython3",
   "version": "3.9.12"
  }
 },
 "nbformat": 4,
 "nbformat_minor": 5
}
