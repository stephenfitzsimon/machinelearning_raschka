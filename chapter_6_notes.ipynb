{
 "cells": [
  {
   "cell_type": "markdown",
   "id": "2b958fb2-027a-4663-9cac-bd3ac543a035",
   "metadata": {},
   "source": [
    "# Chapter 6: Learning best practices for model evaluation and hyperparameter tuning\n",
    "\n",
    "## Streamlining workflows with pipelines\n",
    "\n",
    "Piplines allow for fitting a model usign an arbitrary number of transformations steps\n",
    "\n",
    "### reading in the data:\n",
    "\n",
    "1. get the data"
   ]
  },
  {
   "cell_type": "code",
   "execution_count": 1,
   "id": "bf894637-8241-48f5-b863-c0cf0ff4b339",
   "metadata": {},
   "outputs": [],
   "source": [
    "import pandas as pd\n",
    "df = pd.read_csv('wdbc.data')"
   ]
  },
  {
   "cell_type": "markdown",
   "id": "d696ed97-5dbc-46cd-a6a8-6b5fc361464c",
   "metadata": {},
   "source": [
    "2. use label encoder to transform the data into numerics\n",
    "\n",
    "(M = malignant tumors)"
   ]
  },
  {
   "cell_type": "code",
   "execution_count": 2,
   "id": "e7d3be76-e0ee-4542-b463-9470a155eede",
   "metadata": {},
   "outputs": [
    {
     "data": {
      "text/plain": [
       "array(['B', 'M'], dtype=object)"
      ]
     },
     "execution_count": 2,
     "metadata": {},
     "output_type": "execute_result"
    }
   ],
   "source": [
    "from sklearn.preprocessing import LabelEncoder \n",
    "X = df.iloc[:, 2:].values\n",
    "y = df.iloc[:, 1].values\n",
    "le = LabelEncoder()\n",
    "y = le.fit_transform(y)\n",
    "le.classes_"
   ]
  },
  {
   "cell_type": "code",
   "execution_count": 3,
   "id": "5f342ae4-aa64-40d7-ae22-81fc16e743bb",
   "metadata": {},
   "outputs": [
    {
     "data": {
      "text/plain": [
       "array([1, 0])"
      ]
     },
     "execution_count": 3,
     "metadata": {},
     "output_type": "execute_result"
    }
   ],
   "source": [
    "le.transform(['M', 'B'])"
   ]
  },
  {
   "cell_type": "markdown",
   "id": "0dedfb00-1a11-409f-94eb-71728f249782",
   "metadata": {},
   "source": [
    "3. split the data"
   ]
  },
  {
   "cell_type": "code",
   "execution_count": 4,
   "id": "a4451736-e6b4-42b4-b4c6-3290a51f4d07",
   "metadata": {},
   "outputs": [],
   "source": [
    "from sklearn.model_selection import train_test_split \n",
    "X_train, X_test, y_train, y_test = train_test_split(X, y, test_size=0.20, stratify=y, random_state=1)"
   ]
  },
  {
   "cell_type": "markdown",
   "id": "5905fd46-fd1d-4c91-a43c-ba4129981883",
   "metadata": {},
   "source": [
    "### Now apply the transforms with pipeline\n",
    "\n",
    "Data will need to be standardized.  And, to reduce the 30 features, PCA will be used."
   ]
  },
  {
   "cell_type": "code",
   "execution_count": 5,
   "id": "f90dadb6-91d0-455f-9be8-38723a23d6f3",
   "metadata": {},
   "outputs": [],
   "source": [
    "from sklearn.preprocessing import StandardScaler \n",
    "from sklearn.decomposition import PCA\n",
    "from sklearn.linear_model import LogisticRegression \n",
    "from sklearn.pipeline import make_pipeline #this will make the pipeline"
   ]
  },
  {
   "cell_type": "markdown",
   "id": "e229e780-5f1b-43bd-8762-edf5a56c52a1",
   "metadata": {},
   "source": [
    "Make a pipeline using the scaler, PCA dimensionality reductiona, and then apply the model. `make_pipeline` will take an arbitrary number of transformer objects which are followed by an estimator. The pipeline object then acts like a \"meta-estimator\"."
   ]
  },
  {
   "cell_type": "code",
   "execution_count": 6,
   "id": "d54e5e27-584b-4e92-8a36-bb7e1eee5759",
   "metadata": {},
   "outputs": [],
   "source": [
    "pipe_lr = make_pipeline(StandardScaler(), PCA(n_components=2), LogisticRegression())"
   ]
  },
  {
   "cell_type": "markdown",
   "id": "7a0c3b05-191c-4c5d-b7e8-effd554c1f07",
   "metadata": {},
   "source": [
    "`pipe_lr` will now act like a model object for the data:"
   ]
  },
  {
   "cell_type": "code",
   "execution_count": 7,
   "id": "44805fa6-4061-4cab-b1ee-0e59fd1b09c4",
   "metadata": {},
   "outputs": [
    {
     "name": "stdout",
     "output_type": "stream",
     "text": [
      "Test accuracy: 0.930\n"
     ]
    }
   ],
   "source": [
    "pipe_lr.fit(X_train, y_train)\n",
    "y_pred = pipe_lr.predict(X_test)\n",
    "test_acc = pipe_lr.score(X_test, y_test)\n",
    "print(f'Test accuracy: {test_acc:.3f}')"
   ]
  },
  {
   "cell_type": "markdown",
   "id": "a030208e-c21f-4d8a-ac65-a98fc76cc58b",
   "metadata": {},
   "source": [
    "The `pipeline.fit()` will be used with training data and the `pipeline.predict()` is used with test data.  The training data passes through the `fit` and `transform` methods of the transformers/estimators, whereas the test data only passes through the `transform` methods.\n",
    "\n",
    "## Using k-fold cross validation to assess model performance\n",
    "\n",
    "### Holdout method\n",
    "\n",
    "*Holdout cross-validation* is when a test set is held out to test a model on unseen data. However, this can be extended to holding out a validation set on which to tune hyperparameters for a model, and to help with model selection. Then the final model and hyperparameters are selected and used to predict on the test data set.  However, models might be sensitive to how the train/validate/test are partitioned.\n",
    "\n",
    "### K-fold cross validation\n",
    "\n",
    "*K-fold cross validation* is a more robust way of cross validation. The training set is subset into $k$ folds without replacement, and $k - 1$ are training folds with the last fold as the test fold which is used for performance evaluation. This is repeated $k$ times for $k$ models.\n",
    "\n",
    "Each model is then hyperparameter tuned to a single fold of the $k-1$ train folds and tested on the test fold. Once hyperparameters are tuned, the model is trained on the entire train set and evaluated on the test set.  Then all of the $k$ models (having been hyperparameter tuned) can be evaluated against the test set.\n",
    "\n",
    "Estimated performance can be computed for the $k$ folds by:\n",
    "$$\n",
    "    E = \\sum^k_{i=0} \\frac{E_i}{k}\n",
    "$$\n",
    "Where $E_i$ is the evaluation metric for each of the models.\n",
    "\n",
    "K-fold validation uses all the datapoints, unlike the holdout method.  However, an efficient choice of $k$ should be chosen; a good standard is 10.\n",
    "\n",
    "(Note: each model gets a single fold to train on.  Only the final model is trained on the entire train fold.  Before the final model, each model is trained on $\\frac{1}{k}$ of the data).\n",
    "\n",
    "Smaller datasets can benefit from a larger $k$, so that more of the data is used in each iteration.  This increases runtime and variance. Larger datasets  benefit from a smaller $k$ because in decreases runtime.\n",
    "\n",
    "*Leave one out cross-validation* : set $k=n$, and leave a single record out to predict.  Every iteration, a different record is left out to predict.  This is useful for small datasets.\n",
    "\n",
    "*Stratified k-fold cross-validation* : target labels are stratified in the training and test sets. Use scikit-learn's `StratifiedKFold`. "
   ]
  },
  {
   "cell_type": "code",
   "execution_count": 8,
   "id": "c731d69f-da53-4940-bce8-f1360af30eac",
   "metadata": {},
   "outputs": [
    {
     "name": "stdout",
     "output_type": "stream",
     "text": [
      "Fold: 01, Class distr.: [256 152], Acc.: 0.913\n",
      "Fold: 02, Class distr.: [256 152], Acc.: 0.935\n",
      "Fold: 03, Class distr.: [256 152], Acc.: 0.957\n",
      "Fold: 04, Class distr.: [256 152], Acc.: 0.891\n",
      "Fold: 05, Class distr.: [257 152], Acc.: 0.978\n",
      "Fold: 06, Class distr.: [257 152], Acc.: 0.978\n",
      "Fold: 07, Class distr.: [257 152], Acc.: 0.978\n",
      "Fold: 08, Class distr.: [257 152], Acc.: 0.911\n",
      "Fold: 09, Class distr.: [257 152], Acc.: 0.933\n",
      "Fold: 10, Class distr.: [256 153], Acc.: 0.978\n"
     ]
    }
   ],
   "source": [
    "import numpy as np\n",
    "from sklearn.model_selection import StratifiedKFold\n",
    "kfold = StratifiedKFold(n_splits=10).split(X_train, y_train) \n",
    "scores = []\n",
    "for k, (train, test) in enumerate(kfold):\n",
    "    pipe_lr.fit(X_train[train], y_train[train])\n",
    "    score = pipe_lr.score(X_train[test], y_train[test]) \n",
    "    scores.append(score)\n",
    "    print(f\"Fold: {k+1:02d}, Class distr.: {np.bincount(y_train[train])}, Acc.: {score:.3f}\")"
   ]
  },
  {
   "cell_type": "markdown",
   "id": "8675473d-d7b8-4714-8c8c-0b50d44a1db8",
   "metadata": {},
   "source": [
    "- `n_splits` = $k$\n",
    "- `.split()` is where the target variable is defined\n",
    "- Then the splits are looped over for training and scoring."
   ]
  },
  {
   "cell_type": "code",
   "execution_count": 9,
   "id": "1aab07a4-94a8-4c52-a60f-e022905077f8",
   "metadata": {},
   "outputs": [
    {
     "name": "stdout",
     "output_type": "stream",
     "text": [
      "\n",
      "CV accuracy: 0.945 +/- 0.031\n"
     ]
    }
   ],
   "source": [
    "mean_acc = np.mean(scores)\n",
    "std_acc = np.std(scores)\n",
    "print(f'\\nCV accuracy: {mean_acc:.3f} +/- {std_acc:.3f}')"
   ]
  },
  {
   "cell_type": "markdown",
   "id": "6f933cc4-1e06-4fde-8e19-ae013ef6425d",
   "metadata": {},
   "source": [
    "The average metrics are calculated. `cross_val_score` can also be used, where `cv` is the number of splits.  Note that `n_jobs` will distribute the computation across multiple CPUs."
   ]
  },
  {
   "cell_type": "code",
   "execution_count": 10,
   "id": "33768952-9b12-4751-8a58-2712ab1f34f1",
   "metadata": {},
   "outputs": [
    {
     "name": "stdout",
     "output_type": "stream",
     "text": [
      "CV accuracy scores: [0.91304348 0.93478261 0.95652174 0.89130435 0.97777778 0.97777778\n",
      " 0.97777778 0.91111111 0.93333333 0.97777778]\n",
      "CV accuracy: 0.945 +/- 0.031\n"
     ]
    }
   ],
   "source": [
    "from sklearn.model_selection import cross_val_score \n",
    "scores = cross_val_score(estimator=pipe_lr, X=X_train, y=y_train, cv=10, n_jobs=1)\n",
    "print(f'CV accuracy scores: {scores}')\n",
    "print(f'CV accuracy: {np.mean(scores):.3f} +/- {np.std(scores):.3f}')"
   ]
  },
  {
   "cell_type": "markdown",
   "id": "3c6170d9-bc6a-4675-80ac-9900ae170ff1",
   "metadata": {},
   "source": [
    "## Debugging learning algorithms with a learning and validation curves\n",
    "\n",
    "### Diagnosing bias and variance problems with learning curves\n",
    "The train and validate accuracy can be plotted as a function of number of training samples to determine the optimal variance and bias trade-off; this is called a *learning curve*. Recall that a model will high bias (underfitting) can be made better by:\n",
    "- increasing model parameters\n",
    "- collecting and constructing new features\n",
    "- decreasing regularization strength\n",
    "Whereas a model with high variance (overfitting) can be made better by:\n",
    "- collecting more training data\n",
    "- reducing model complexity\n",
    "- increasing regularization strength\n",
    "If regularization is not possible, using dimensionality reduction techniques can improve a model; either feature selection, or feature extraction.\n",
    "\n",
    "Scikit-learn has the `learning_curve` method to help analyze these."
   ]
  },
  {
   "cell_type": "code",
   "execution_count": 11,
   "id": "e30c04a1-0392-4d68-8e1c-cfb35387eed1",
   "metadata": {},
   "outputs": [],
   "source": [
    "import matplotlib.pyplot as plt\n",
    "from sklearn.model_selection import learning_curve\n",
    "#max_iter = 10_000 prevents convergence issues\n",
    "pipe_lr = make_pipeline(StandardScaler(),LogisticRegression(penalty='l2',max_iter=10000))\n",
    "train_sizes, train_scores, test_scores = \\\n",
    "    learning_curve( #this is the funciton we're interested in\n",
    "        estimator=pipe_lr,\n",
    "        X=X_train,\n",
    "        y=y_train,\n",
    "        train_sizes=np.linspace(0.1, 1.0, 10), #Controls the number of training samples used to make the curves\n",
    "        cv=10, #by default the function uses k-fold cross validation via the cv parameter\n",
    "        n_jobs=1\n",
    "    )\n",
    "#now calculate the mu and sigma for the two sets.\n",
    "train_mean = np.mean(train_scores, axis=1) \n",
    "train_std = np.std(train_scores, axis=1) \n",
    "test_mean = np.mean(test_scores, axis=1) \n",
    "test_std = np.std(test_scores, axis=1)"
   ]
  },
  {
   "cell_type": "code",
   "execution_count": 12,
   "id": "012fcc75-a503-4940-af82-227cbde0191e",
   "metadata": {},
   "outputs": [
    {
     "data": {
      "image/png": "[encoded data removed]",
      "text/plain": [
       "<Figure size 432x288 with 1 Axes>"
      ]
     },
     "metadata": {
      "needs_background": "light"
     },
     "output_type": "display_data"
    }
   ],
   "source": [
    "plt.plot(train_sizes, train_mean,color='blue', marker='o',markersize=5, label='Training accuracy') \n",
    "plt.fill_between(train_sizes,train_mean + train_std,train_mean - train_std,alpha=0.15, color='blue') \n",
    "plt.plot(train_sizes, test_mean,color='green', linestyle='--',marker='s', markersize=5,label='Validation accuracy') \n",
    "plt.fill_between(train_sizes,test_mean + test_std,test_mean - test_std,alpha=0.15, color='green')\n",
    "plt.grid()\n",
    "plt.xlabel('Number of training examples') \n",
    "plt.ylabel('Accuracy')\n",
    "plt.legend(loc='lower right')\n",
    "plt.ylim([0.8, 1.03])\n",
    "plt.show()"
   ]
  },
  {
   "cell_type": "markdown",
   "id": "176e0b21-9eca-4adf-9191-75d2c27a6f95",
   "metadata": {},
   "source": [
    "### Addressing over- and under-fitting with validation curves\n",
    "\n",
    "*Validation curves* plot the accuracy in terms of a model parameter.  For example, below the `C` (inverse regularization) is plotted.  The graph shows a high regularization strength leads to model underfitting, but a low regularization strength leads to overfitting.  Ideal is around $0.01$."
   ]
  },
  {
   "cell_type": "code",
   "execution_count": 13,
   "id": "0df09c9b-496b-46dc-b745-7bddce72c899",
   "metadata": {},
   "outputs": [
    {
     "data": {
      "image/png": "[encoded data removed]",
      "text/plain": [
       "<Figure size 432x288 with 1 Axes>"
      ]
     },
     "metadata": {
      "needs_background": "light"
     },
     "output_type": "display_data"
    }
   ],
   "source": [
    "from sklearn.model_selection import validation_curve \n",
    "param_range = [0.001, 0.01, 0.1, 1.0, 10.0, 100.0] \n",
    "train_scores, test_scores = validation_curve( \n",
    "    estimator=pipe_lr, \n",
    "    X=X_train, \n",
    "    y=y_train, \n",
    "    param_name='logisticregression__C', #access the inverse regularization\n",
    "    param_range=param_range, #C values to loop over\n",
    "    cv=10 #k-fold with k=10\n",
    "    )\n",
    "train_mean = np.mean(train_scores, axis=1) \n",
    "train_std = np.std(train_scores, axis=1) \n",
    "test_mean = np.mean(test_scores, axis=1) \n",
    "test_std = np.std(test_scores, axis=1)\n",
    "plt.plot(param_range, train_mean, color='blue', marker='o', markersize=5, label='Training accuracy')\n",
    "plt.fill_between(param_range, train_mean + train_std, train_mean - train_std, alpha=0.15, color='blue') \n",
    "plt.plot(param_range, test_mean, color='green', linestyle='--', marker='s', markersize=5, label='Validation accuracy') \n",
    "plt.fill_between(param_range, test_mean + test_std, test_mean - test_std, alpha=0.15, color='green')\n",
    "plt.grid()\n",
    "plt.xscale('log')\n",
    "plt.legend(loc='lower right')\n",
    "plt.xlabel('Parameter C')\n",
    "plt.ylabel('Accuracy')\n",
    "plt.ylim([0.8, 1.0])\n",
    "plt.show()"
   ]
  },
  {
   "cell_type": "markdown",
   "id": "1e5873dd-542b-4176-929c-618b09606765",
   "metadata": {},
   "source": [
    "## Finetuning models via grid search\n",
    "\n",
    "*Grid search* finds the optimal hyperparameters by taking the product of lists of paramters and returning the metric for each set.\n",
    "\n",
    "This is done in scikit-learn via the following:\n",
    "1. make a parameter range\n",
    "2. make a parameter grid\n",
    "3. call `GridSearchCV`\n",
    "\n",
    "Note: this is a brute force technique.  It checks every single combination of parameters; therefore it is computationaly heavy.  This can be sped up by using the `n_jobs` parameter."
   ]
  },
  {
   "cell_type": "code",
   "execution_count": 14,
   "id": "cef7028a-da83-46d0-9edf-d6a16a6b3ae7",
   "metadata": {},
   "outputs": [
    {
     "name": "stdout",
     "output_type": "stream",
     "text": [
      "0.9779710144927536\n",
      "{'svc__C': 10.0, 'svc__gamma': 0.01, 'svc__kernel': 'rbf'}\n"
     ]
    }
   ],
   "source": [
    "from sklearn.model_selection import GridSearchCV \n",
    "from sklearn.svm import SVC\n",
    "pipe_svc = make_pipeline(StandardScaler(), SVC(random_state=1)) \n",
    "param_range = [0.0001, 0.001, 0.01, 0.1, 1.0, 10.0, 100.0, 1000.0] #a range of parameters\n",
    "param_grid = [ #used to tune the various parameters\n",
    "    {'svc__C': param_range, 'svc__kernel': ['linear']},\n",
    "    {'svc__C': param_range, 'svc__gamma': param_range, 'svc__kernel': ['rbf']}\n",
    "]\n",
    "gs = GridSearchCV(estimator=pipe_svc,\n",
    "    param_grid=param_grid,\n",
    "    scoring='accuracy',\n",
    "    cv=10, #gird search uses k-fold. set k=10\n",
    "    refit=True,\n",
    "    n_jobs=None #uses all the processors to speed up the search if set to -1\n",
    ")\n",
    "gs = gs.fit(X_train, y_train) #fit the gridsearch\n",
    "#get the best scores and the best combination of parameters\n",
    "print(gs.best_score_)\n",
    "print(gs.best_params_)"
   ]
  },
  {
   "cell_type": "markdown",
   "id": "d7692491-d64d-48b8-a450-fbcef8dad386",
   "metadata": {},
   "source": [
    "Finally, the `best_estimator_` attribute can be used to fit a mode and predicitons are made on a test set.  Note: there is also a `refit` parameter that will use the whole training set is set to `True` (this is the default)."
   ]
  },
  {
   "cell_type": "code",
   "execution_count": 15,
   "id": "6912d4ec-08c1-4fa5-ba12-957fd9d73e61",
   "metadata": {},
   "outputs": [
    {
     "name": "stdout",
     "output_type": "stream",
     "text": [
      "Test accuracy: 0.965\n"
     ]
    }
   ],
   "source": [
    "clf = gs.best_estimator_\n",
    "clf.fit(X_train, y_train)\n",
    "print(f'Test accuracy: {clf.score(X_test, y_test):.3f}')"
   ]
  },
  {
   "cell_type": "markdown",
   "id": "25bd98cd-e3bd-4edc-a124-f23278b89f6d",
   "metadata": {},
   "source": [
    "## Hyperparameter tuning with randomized search\n",
    "\n",
    "*Randomized search* takes a random sample of the model parameters range.  This allows for a wider range od values to be tried out. By randomized across a range instead of using a grid (product of discrete values), sometimes better hyperparameters are found if the parameter space is sparse.\n",
    "\n",
    "Scikit-learn used `RandomizedSearchCV`.  Note in the example below, the best parameter for `C` is a more specific value that improves the score by almost 2 points."
   ]
  },
  {
   "cell_type": "code",
   "execution_count": 16,
   "id": "f13a8b90-5072-417f-8ab7-b15c4ee6df05",
   "metadata": {},
   "outputs": [
    {
     "name": "stdout",
     "output_type": "stream",
     "text": [
      "0.9823671497584542\n",
      "{'svc__C': 0.05971247755848464, 'svc__kernel': 'linear'}\n"
     ]
    }
   ],
   "source": [
    "from scipy.stats import loguniform\n",
    "from sklearn.model_selection import RandomizedSearchCV\n",
    "param_range = loguniform(0.0001, 1000.0) # a continuous range is drawn from\n",
    "param_grid = [\n",
    "    {'svc__C': param_range, 'svc__kernel': ['linear']},\n",
    "    {'svc__C': param_range, 'svc__gamma': param_range, 'svc__kernel': ['rbf']}\n",
    "]\n",
    "rs = RandomizedSearchCV(estimator=pipe_svc,\n",
    "    param_distributions=param_grid,\n",
    "    scoring='accuracy',\n",
    "    refit=True,\n",
    "    n_iter=20,\n",
    "    cv=10,\n",
    "    random_state=1,\n",
    "    n_jobs=-1)\n",
    "rs = rs.fit(X_train, y_train) \n",
    "print(rs.best_score_)\n",
    "print(rs.best_params_)"
   ]
  },
  {
   "cell_type": "markdown",
   "id": "371780fe-1831-46a8-942b-94951ce66a64",
   "metadata": {},
   "source": [
    "## Resource efficient hyperparameter tuning search with successive halving\n",
    "\n",
    "Implemented via the `HalvingRandomSearchCV` in scikit-learn. It uses the following steps:\n",
    "1. Draw candidate configs via random sampling\n",
    "2. Train a model with limited resources (example: a subset of `train`)\n",
    "3. Discard the bottom half based on predictive performance\n",
    "4. Repeat 2 and below, but with more resources for training.\n",
    "\n",
    "Steps are repeated until only one hyperparameter configuration remains."
   ]
  },
  {
   "cell_type": "code",
   "execution_count": 19,
   "id": "fa175381-b3e6-4677-ac38-5b65cc0e4561",
   "metadata": {},
   "outputs": [
    {
     "name": "stdout",
     "output_type": "stream",
     "text": [
      "0.9735294117647058\n",
      "{'svc__C': 0.05971247755848464, 'svc__kernel': 'linear'}\n",
      "Test accuracy: 0.930\n"
     ]
    }
   ],
   "source": [
    "#halving is experimental so it neeeds to be enabled\n",
    "from sklearn.experimental import enable_halving_search_cv\n",
    "from sklearn.model_selection import HalvingRandomSearchCV\n",
    "hs = HalvingRandomSearchCV(pipe_svc,\n",
    "    param_distributions=param_grid,\n",
    "    n_candidates='exhaust',\n",
    "    resource='n_samples', #n_samples means training set size will be varied in halvings\n",
    "    factor=1.5, #about 66% of configuration will make it to the next iteration\n",
    "    random_state=1,\n",
    "    n_jobs=None\n",
    ")\n",
    "hs = hs.fit(X_train, y_train) \n",
    "print(hs.best_score_)\n",
    "print(hs.best_params_)\n",
    "clf = hs.best_estimator_\n",
    "print(f'Test accuracy: {hs.score(X_test, y_test):.3f}')"
   ]
  },
  {
   "cell_type": "markdown",
   "id": "7716e651-261c-4d33-bb5d-be047a1167ac",
   "metadata": {},
   "source": [
    "## Algorithm selection with nested cross-validation\n",
    "\n",
    "*Nested cross-validation* : Data is split into $k$-fold train and test folds for $k$ estimators; the train folds are then split again for each estimator's hyperparameter tuning. This is sometimes called $5 \\times 2$ *cross validation* when the first split uses $k=5$ folds and the second split uses $k=2$ folds."
   ]
  },
  {
   "cell_type": "code",
   "execution_count": 20,
   "id": "6b7b1038-4270-4aae-936a-3805427786c7",
   "metadata": {},
   "outputs": [
    {
     "name": "stdout",
     "output_type": "stream",
     "text": [
      "CV accuracy: 0.978 +/- 0.012\n"
     ]
    }
   ],
   "source": [
    "param_range = [0.0001, 0.001, 0.01, 0.1, 1.0, 10.0, 100.0, 1000.0]\n",
    "param_grid = [\n",
    "    {'svc__C': param_range, 'svc__kernel': ['linear']},\n",
    "    {'svc__C': param_range, 'svc__gamma': param_range, 'svc__kernel': ['rbf']}\n",
    "]\n",
    "#make a grid search with k=2\n",
    "gs = GridSearchCV(estimator=pipe_svc, param_grid=param_grid, scoring='accuracy', cv=2)\n",
    "#now use the cross validation by the gridsearch object\n",
    "#note that the folds are now k=5\n",
    "scores = cross_val_score(gs, X_train, y_train, scoring='accuracy', cv=5)\n",
    "print(f'CV accuracy: {np.mean(scores):.3f} +/- {np.std(scores):.3f}')"
   ]
  },
  {
   "cell_type": "markdown",
   "id": "cbf28b9c-f75c-4408-b0dd-c90c7b837988",
   "metadata": {},
   "source": [
    "Now the SVC model can be compare with a decision tree classifier"
   ]
  },
  {
   "cell_type": "code",
   "execution_count": 21,
   "id": "a5ea9dcd-c1ac-40c0-b0a2-720a9f5aded0",
   "metadata": {},
   "outputs": [
    {
     "name": "stdout",
     "output_type": "stream",
     "text": [
      "CV accuracy: 0.932 +/- 0.017\n"
     ]
    }
   ],
   "source": [
    "from sklearn.tree import DecisionTreeClassifier\n",
    "gs = GridSearchCV(\n",
    "    estimator=DecisionTreeClassifier(random_state=0),\n",
    "    param_grid=[{'max_depth': [1, 2, 3, 4, 5, 6, 7, None]}],\n",
    "    scoring='accuracy',\n",
    "    cv=2\n",
    ")\n",
    "scores = cross_val_score(gs, X_train, y_train, scoring='accuracy', cv=5)\n",
    "print(f'CV accuracy: {np.mean(scores):.3f} +/- {np.std(scores):.3f}')"
   ]
  },
  {
   "cell_type": "markdown",
   "id": "b0fa7cf7-3501-44a2-a7b5-3b97e7090635",
   "metadata": {},
   "source": [
    "## Looking at different performance metrics\n",
    "\n",
    "### Reading a confusion matrix\n",
    "\n",
    "<table>\n",
    "    <tr>\n",
    "        <th></th><th colspan = 2>Predicted Class</th>\n",
    "    </tr>\n",
    "    <tr>\n",
    "        <th rowspan = 2> Actual Class</th><th>True Positives</th><th>False Negatives</th>\n",
    "    <tr>\n",
    "        <th>False Positives</th><th>True Negatives</th>\n",
    "    </tr>\n",
    "</table>\n",
    "\n",
    "This can be implemented in scikit-learn using `metrics.confusion_matrix`."
   ]
  },
  {
   "cell_type": "code",
   "execution_count": 22,
   "id": "29bab956-e0f1-4da5-a1e5-c6a3dc1c8c5c",
   "metadata": {},
   "outputs": [
    {
     "name": "stdout",
     "output_type": "stream",
     "text": [
      "[[72  0]\n",
      " [ 5 37]]\n"
     ]
    }
   ],
   "source": [
    "from sklearn.metrics import confusion_matrix\n",
    "pipe_svc.fit(X_train, y_train)\n",
    "y_pred = pipe_svc.predict(X_test)\n",
    "confmat = confusion_matrix(y_true=y_test, y_pred=y_pred) \n",
    "print(confmat)"
   ]
  },
  {
   "cell_type": "code",
   "execution_count": 24,
   "id": "00ae95a8-2045-4640-bc19-fb48e02ebd58",
   "metadata": {},
   "outputs": [
    {
     "data": {
      "image/png": "[encoded data removed]",
      "text/plain": [
       "<Figure size 180x180 with 1 Axes>"
      ]
     },
     "metadata": {
      "needs_background": "light"
     },
     "output_type": "display_data"
    }
   ],
   "source": [
    "fig, ax = plt.subplots(figsize=(2.5, 2.5))\n",
    "ax.matshow(confmat, cmap=plt.cm.Blues, alpha=0.3) \n",
    "for i in range(confmat.shape[0]):\n",
    "    for j in range(confmat.shape[1]): \n",
    "        ax.text(x=j, y=i, s=confmat[i, j], va='center', ha='center')\n",
    "ax.xaxis.set_ticks_position('bottom') \n",
    "plt.xlabel('Predicted label')\n",
    "plt.ylabel('True label') \n",
    "plt.show()"
   ]
  },
  {
   "cell_type": "markdown",
   "id": "1b1110d2-3fcb-4367-b09f-21c2cbfe5a08",
   "metadata": {},
   "source": [
    "### Optimizing precision and recall\n",
    "\n",
    "Let $T = FP + FN + TP + TN$ (total number of predictions)\n",
    "\n",
    "Error is calculated as:\n",
    "$$\n",
    "    ERR = \\frac{FP + FN}{T}\n",
    "$$\n",
    "Accuracy is calculated as:\n",
    "$$\n",
    "    ACC = \\frac{TP + TN}{T} = 1 - ERR\n",
    "$$\n",
    "True Positive rate is calculated as:\n",
    "$$\n",
    "    TPR = \\frac{FP}{N} = \\frac{FP}{FP + TN}\n",
    "$$\n",
    "False positive rate is calculated as:\n",
    "$$\n",
    "    FPR = \\frac{TP}{P} = \\frac{TP}{FN + TP}\n",
    "$$\n",
    "\n",
    "Note that the case decides the metric used. Missed cancer diagnoses are dangerous (no false negatives), but also worrisome for patients (no false positives).\n",
    "\n",
    "*Recall* is another name for the True Positive Rate. Precision is calculated as \n",
    "$$\n",
    "    PRE = \\frac{TP}{TP + FP}\n",
    "$$\n",
    "For example, optimizing recall makes sure all cancer is detected by a test, but there will be more false positives; but if precision were optimized, cancer diagnoses will be more certain, but some cancers will be missed. \n",
    "\n",
    "The *F1* score is often used and is the harmonic mean of $REC$ and $PRE$:\n",
    "$$\n",
    "    F1 = 2 \\times \\frac{PRE \\times REC}{PRE + REC} \n",
    "$$\n",
    "\n",
    "Sometimes the *Matthews Correlation Coefficient* (MCC) is used, especially in biological sciences:\n",
    "$$\n",
    "    MCC = \\frac{TP \\times TN - FP \\times FN}{\\sqrt{(TP + FP)(TP + FN)(TN + FP)(TN + FN)}}\n",
    "$$\n",
    "The MCC is a number between $1$ and $-1$.\n",
    "\n",
    "These are all in scikit-learn."
   ]
  },
  {
   "cell_type": "code",
   "execution_count": 26,
   "id": "78e92258-cbcd-4062-9208-3dbfee93960c",
   "metadata": {},
   "outputs": [
    {
     "name": "stdout",
     "output_type": "stream",
     "text": [
      "Precision: 1.000\n",
      "Recall: 0.881\n",
      "F1: 0.937\n",
      "MCC: 0.908\n"
     ]
    }
   ],
   "source": [
    "from sklearn.metrics import precision_score\n",
    "from sklearn.metrics import recall_score, f1_score \n",
    "from sklearn.metrics import matthews_corrcoef\n",
    "pre_val = precision_score(y_true=y_test, y_pred=y_pred) \n",
    "print(f'Precision: {pre_val:.3f}')\n",
    "rec_val = recall_score(y_true=y_test, y_pred=y_pred) \n",
    "print(f'Recall: {rec_val:.3f}')\n",
    "f1_val = f1_score(y_true=y_test, y_pred=y_pred)\n",
    "print(f'F1: {f1_val:.3f}')\n",
    "mcc_val = matthews_corrcoef(y_true=y_test, y_pred=y_pred) \n",
    "print(f'MCC: {mcc_val:.3f}')"
   ]
  },
  {
   "cell_type": "markdown",
   "id": "c4425ad9-b7eb-4ee7-8d3c-913e8465b6f8",
   "metadata": {},
   "source": [
    "A positive label can be set using `make_scorer` which can then be provided as the `scoring` parameter:"
   ]
  },
  {
   "cell_type": "code",
   "execution_count": 28,
   "id": "2deac4bf-9cdf-470f-a67f-93a235bebbfe",
   "metadata": {},
   "outputs": [
    {
     "name": "stdout",
     "output_type": "stream",
     "text": [
      "0.9828077166509601\n",
      "{'svc__C': 10.0, 'svc__gamma': 0.01, 'svc__kernel': 'rbf'}\n"
     ]
    }
   ],
   "source": [
    "from sklearn.metrics import make_scorer \n",
    "c_gamma_range = [0.01, 0.1, 1.0, 10.0] \n",
    "param_grid = [\n",
    "    {'svc__C': c_gamma_range,'svc__kernel': ['linear']},\n",
    "    {'svc__C': c_gamma_range, 'svc__gamma': c_gamma_range, 'svc__kernel': ['rbf']}\n",
    "]\n",
    "scorer = make_scorer(f1_score, pos_label=0)\n",
    "gs = GridSearchCV(estimator=pipe_svc, param_grid=param_grid, scoring=scorer, cv=10)\n",
    "gs = gs.fit(X_train, y_train)\n",
    "print(gs.best_score_)\n",
    "print(gs.best_params_)"
   ]
  },
  {
   "cell_type": "markdown",
   "id": "e2f8d6a3-347b-44e8-8d5b-06f2cc7ffee5",
   "metadata": {},
   "source": [
    "### Plotting a receiver operating characteristic\n",
    "\n",
    "*Receiver operating characteristic* (ROC) plot the false positive rate ($x$) against the true positive rate ($y$).  A diagonal line ($x=y$), is interpreted as random guessing.  Lines above represent better models; lines below represent worse models. *ROC area under the curve* then characterizes the performance of a classification model; the greater the area, the better the model.\n",
    "\n",
    "Simialarly, *precision-recall curves* can be used.\n",
    "\n",
    "Below, the ROC is plotted using only two features."
   ]
  },
  {
   "cell_type": "code",
   "execution_count": 33,
   "id": "733d27d5-15b1-4b89-b757-53c1d8b304d0",
   "metadata": {},
   "outputs": [
    {
     "data": {
      "image/png": "[encoded data removed]",
      "text/plain": [
       "<Figure size 504x360 with 1 Axes>"
      ]
     },
     "metadata": {
      "needs_background": "light"
     },
     "output_type": "display_data"
    }
   ],
   "source": [
    "from sklearn.metrics import roc_curve, auc \n",
    "from numpy import interp\n",
    "pipe_lr = make_pipeline(\n",
    "    StandardScaler(),\n",
    "    PCA(n_components=2),\n",
    "    LogisticRegression(penalty='l2', random_state=1, solver='lbfgs', C=100.0)\n",
    ")\n",
    "X_train2 = X_train[:, [4, 14]]\n",
    "cv = list(StratifiedKFold(n_splits=3).split(X_train, y_train)) \n",
    "fig = plt.figure(figsize=(7, 5))\n",
    "mean_tpr = 0.0\n",
    "mean_fpr = np.linspace(0, 1, 100)\n",
    "all_tpr = []\n",
    "for i, (train, test) in enumerate(cv):\n",
    "    probas = pipe_lr.fit(\n",
    "        X_train2[train],\n",
    "        y_train[train],\n",
    "        ).predict_proba(X_train2[test])\n",
    "    #for each k-fold, make an ROC curve\n",
    "    fpr, tpr, thresholds = roc_curve(y_train[test], probas[:, 1], pos_label = 1)\n",
    "    #get the mean tpr\n",
    "    mean_tpr += interp(mean_fpr, fpr, tpr)\n",
    "    mean_tpr[0] = 0.0\n",
    "    #auc = area under curve\n",
    "    roc_auc = auc(fpr, tpr)\n",
    "    plt.plot(fpr,\n",
    "    tpr,\n",
    "    label=f'ROC fold {i+1} (area = {roc_auc:.2f})')\n",
    "plt.plot([0, 1],\n",
    "    [0, 1],\n",
    "    linestyle='--',\n",
    "    color=(0.6, 0.6, 0.6),\n",
    "    label='Random guessing (area=0.5)')\n",
    "mean_tpr /= len(cv)\n",
    "mean_tpr[-1] = 1.0\n",
    "mean_auc = auc(mean_fpr, mean_tpr)\n",
    "plt.plot(mean_fpr, mean_tpr, 'k--',\n",
    "    label=f'Mean ROC (area = {mean_auc:.2f})', lw=2) \n",
    "plt.plot([0, 0, 1],\n",
    "    [0, 1, 1],\n",
    "    linestyle=':',\n",
    "    color='black',\n",
    "    label='Perfect performance (area=1.0)') \n",
    "plt.xlim([-0.05, 1.05])\n",
    "plt.ylim([-0.05, 1.05])\n",
    "plt.xlabel('False positive rate')\n",
    "plt.ylabel('True positive rate')\n",
    "plt.legend(loc='lower right')\n",
    "plt.show()"
   ]
  },
  {
   "cell_type": "markdown",
   "id": "84b6c88e-a023-4a05-b60f-e1ce06039b55",
   "metadata": {},
   "source": [
    "Instead of using the `auc` scikitlearn function, it can also be calculated via `roc_auc_score`.  Note that ROC AUC generally agrees with accuracy scores.\n",
    "\n",
    "### Scoring metrics for multiclass classification problems\n",
    "\n",
    "Metrics in scikit learn are generalized in micro and macro averages for OvA classifications. Letting $k$ be the number of classes:\n",
    "$$\n",
    "    PRE_{micro} = \\frac{\\sum TP_k}{\\sum TP_k + \\sum FP_k}\n",
    "$$\n",
    "$$\n",
    "    PRE_{macro} = \\frac{\\sum PRE_k}{k}\n",
    "$$\n",
    "\n",
    "Micro averaging weights each prediction equally; macro is precision per class. The macro average can be weighted using the number of true instances in a class. Weighted macro average is the default in scikit learn; however, this can be specified in the `make_scorer` function:"
   ]
  },
  {
   "cell_type": "code",
   "execution_count": 35,
   "id": "58698aa5-7b4c-4cca-8a90-7221eca9dfb3",
   "metadata": {},
   "outputs": [],
   "source": [
    "pre_scorer = make_scorer(score_func=precision_score, pos_label=1, greater_is_better=True, average='micro')"
   ]
  },
  {
   "cell_type": "markdown",
   "id": "5784dd56-ad80-41f0-98e4-6a6e8d7555cb",
   "metadata": {},
   "source": [
    "### Dealing with class imbalance\n",
    "\n",
    "With imbalance classes, it makes sense to not focus on accuracy.  Class imbalances also effect the machine learning algorithm itself; they can become biased towards the majority class because it easily optimizes the loss function. Hence, some wrong predictions to the minority class (i.e. a minority class record is mispredicted) might be penalized via the `class_weight` parameter (this is for most classifiers). "
   ]
  },
  {
   "cell_type": "code",
   "execution_count": 38,
   "id": "e641eb67-e1b6-4d96-8f4e-4399ec6223c7",
   "metadata": {},
   "outputs": [
    {
     "data": {
      "text/plain": [
       "89.92443324937027"
      ]
     },
     "execution_count": 38,
     "metadata": {},
     "output_type": "execute_result"
    }
   ],
   "source": [
    "#create an imbalanced data set from the breast cancer data\n",
    "X_imb = np.vstack((X[y == 0], X[y == 1][:40])) \n",
    "y_imb = np.hstack((y[y == 0], y[y == 1][:40]))\n",
    "#note that now if we predict always benign, our accuracy is high\n",
    "y_pred = np.zeros(y_imb.shape[0]) \n",
    "np.mean(y_pred == y_imb) * 100"
   ]
  },
  {
   "cell_type": "markdown",
   "id": "6938c18d-886e-46ad-b37f-c2cf0b0b0bf3",
   "metadata": {},
   "source": [
    "Alternatively, the training set can upsample the minority class or generate synthetic training samples. Scikit learn implements `resample` to upsample/downsample.  The example below draws samples with replacement until the classes are balanced."
   ]
  },
  {
   "cell_type": "code",
   "execution_count": 42,
   "id": "e6fc0421-7cd7-4fcc-9876-ca72f68fc502",
   "metadata": {},
   "outputs": [
    {
     "name": "stdout",
     "output_type": "stream",
     "text": [
      "Number of class 1 examples before: 40\n",
      "Number of class 1 examples after: 357\n"
     ]
    }
   ],
   "source": [
    "from sklearn.utils import resample\n",
    "print(f'Number of class 1 examples before: {X_imb[y_imb == 1].shape[0]}')\n",
    "X_upsampled, y_upsampled = resample(\n",
    "    #if we wanted to downsample, we would use the class label 0\n",
    "    X_imb[y_imb == 1],\n",
    "    y_imb[y_imb == 1],\n",
    "    replace=True,\n",
    "    n_samples=X_imb[y_imb == 0].shape[0],\n",
    "    random_state=123)\n",
    "print(f'Number of class 1 examples after: {X_upsampled.shape[0]}')"
   ]
  },
  {
   "cell_type": "code",
   "execution_count": 43,
   "id": "deb93289-0411-461d-98ba-e0a03e8039d4",
   "metadata": {},
   "outputs": [
    {
     "data": {
      "text/plain": [
       "50.0"
      ]
     },
     "execution_count": 43,
     "metadata": {},
     "output_type": "execute_result"
    }
   ],
   "source": [
    "X_bal = np.vstack((X[y == 0], X_upsampled))\n",
    "y_bal = np.hstack((y[y == 0], y_upsampled))\n",
    "y_pred = np.zeros(y_bal.shape[0])\n",
    "np.mean(y_pred == y_bal) * 100"
   ]
  },
  {
   "cell_type": "markdown",
   "id": "1e4b877c-468e-46d9-98ef-f9813c9ed2cc",
   "metadata": {},
   "source": [
    "New training samples can also be generated.  A popular algorithm is *Synthetic Minority Over-sampling Technique* (SMOTE). The python library `imbalanced-learn` ([here](https://imbalanced-learn.org/stable/))includes an implementation."
   ]
  },
  {
   "cell_type": "code",
   "execution_count": null,
   "id": "766f4425-debf-4af7-9b6f-dc699342eaa1",
   "metadata": {},
   "outputs": [],
   "source": []
  }
 ],
 "metadata": {
  "kernelspec": {
   "display_name": "Python 3 (ipykernel)",
   "language": "python",
   "name": "python3"
  },
  "language_info": {
   "codemirror_mode": {
    "name": "ipython",
    "version": 3
   },
   "file_extension": ".py",
   "mimetype": "text/x-python",
   "name": "python",
   "nbconvert_exporter": "python",
   "pygments_lexer": "ipython3",
   "version": "3.9.12"
  }
 },
 "nbformat": 4,
 "nbformat_minor": 5
}
