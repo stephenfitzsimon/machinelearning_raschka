{
 "cells": [
  {
   "cell_type": "markdown",
   "id": "2b958fb2-027a-4663-9cac-bd3ac543a035",
   "metadata": {},
   "source": [
    "# Chapter 6: Learning best practices for model evaluation and hyperparameter tuning\n",
    "\n",
    "## Streamlining workflows with pipelines\n",
    "\n",
    "Piplines allow for fitting a model usign an arbitrary number of transformations steps\n",
    "\n",
    "### reading in the data:\n",
    "\n",
    "1. get the data"
   ]
  },
  {
   "cell_type": "code",
   "execution_count": 3,
   "id": "bf894637-8241-48f5-b863-c0cf0ff4b339",
   "metadata": {},
   "outputs": [],
   "source": [
    "import pandas as pd\n",
    "df = pd.read_csv('wdbc.data')"
   ]
  },
  {
   "cell_type": "markdown",
   "id": "d696ed97-5dbc-46cd-a6a8-6b5fc361464c",
   "metadata": {},
   "source": [
    "2. use label encoder to transform the data into numerics\n",
    "\n",
    "(M = malignant tumors)"
   ]
  },
  {
   "cell_type": "code",
   "execution_count": 5,
   "id": "e7d3be76-e0ee-4542-b463-9470a155eede",
   "metadata": {},
   "outputs": [
    {
     "data": {
      "text/plain": [
       "array(['B', 'M'], dtype=object)"
      ]
     },
     "execution_count": 5,
     "metadata": {},
     "output_type": "execute_result"
    }
   ],
   "source": [
    "from sklearn.preprocessing import LabelEncoder \n",
    "X = df.iloc[:, 2:].values\n",
    "y = df.iloc[:, 1].values\n",
    "le = LabelEncoder()\n",
    "y = le.fit_transform(y)\n",
    "le.classes_"
   ]
  },
  {
   "cell_type": "code",
   "execution_count": 6,
   "id": "5f342ae4-aa64-40d7-ae22-81fc16e743bb",
   "metadata": {},
   "outputs": [
    {
     "data": {
      "text/plain": [
       "array([1, 0])"
      ]
     },
     "execution_count": 6,
     "metadata": {},
     "output_type": "execute_result"
    }
   ],
   "source": [
    "le.transform(['M', 'B'])"
   ]
  },
  {
   "cell_type": "markdown",
   "id": "0dedfb00-1a11-409f-94eb-71728f249782",
   "metadata": {},
   "source": [
    "3. split the data"
   ]
  },
  {
   "cell_type": "code",
   "execution_count": 7,
   "id": "a4451736-e6b4-42b4-b4c6-3290a51f4d07",
   "metadata": {},
   "outputs": [],
   "source": [
    "from sklearn.model_selection import train_test_split \n",
    "X_train, X_test, y_train, y_test = train_test_split(X, y, test_size=0.20, stratify=y, random_state=1)"
   ]
  },
  {
   "cell_type": "markdown",
   "id": "5905fd46-fd1d-4c91-a43c-ba4129981883",
   "metadata": {},
   "source": [
    "### Now apply the transforms with pipeline\n",
    "\n",
    "Data will need to be standardized.  And, to reduce the 30 features, PCA will be used."
   ]
  },
  {
   "cell_type": "code",
   "execution_count": 8,
   "id": "f90dadb6-91d0-455f-9be8-38723a23d6f3",
   "metadata": {},
   "outputs": [],
   "source": [
    "from sklearn.preprocessing import StandardScaler \n",
    "from sklearn.decomposition import PCA\n",
    "from sklearn.linear_model import LogisticRegression \n",
    "from sklearn.pipeline import make_pipeline #this will make the pipeline"
   ]
  },
  {
   "cell_type": "markdown",
   "id": "e229e780-5f1b-43bd-8762-edf5a56c52a1",
   "metadata": {},
   "source": [
    "Make a pipeline using the scaler, PCA dimensionality reductiona, and then apply the model. `make_pipeline` will take an arbitrary number of transformer objects which are followed by an estimator. The pipeline object then acts like a \"meta-estimator\"."
   ]
  },
  {
   "cell_type": "code",
   "execution_count": 9,
   "id": "d54e5e27-584b-4e92-8a36-bb7e1eee5759",
   "metadata": {},
   "outputs": [],
   "source": [
    "pipe_lr = make_pipeline(StandardScaler(), PCA(n_components=2), LogisticRegression())"
   ]
  },
  {
   "cell_type": "markdown",
   "id": "7a0c3b05-191c-4c5d-b7e8-effd554c1f07",
   "metadata": {},
   "source": [
    "`pipe_lr` will now act like a model object for the data:"
   ]
  },
  {
   "cell_type": "code",
   "execution_count": 10,
   "id": "44805fa6-4061-4cab-b1ee-0e59fd1b09c4",
   "metadata": {},
   "outputs": [
    {
     "name": "stdout",
     "output_type": "stream",
     "text": [
      "Test accuracy: 0.930\n"
     ]
    }
   ],
   "source": [
    "pipe_lr.fit(X_train, y_train)\n",
    "y_pred = pipe_lr.predict(X_test)\n",
    "test_acc = pipe_lr.score(X_test, y_test)\n",
    "print(f'Test accuracy: {test_acc:.3f}')"
   ]
  },
  {
   "cell_type": "markdown",
   "id": "a030208e-c21f-4d8a-ac65-a98fc76cc58b",
   "metadata": {},
   "source": [
    "The `pipeline.fit()` will be used with training data and the `pipeline.predict()` is used with test data.  The training data passes through the `fit` and `transform` methods of the transformers/estimators, whereas the test data only passes through the `transform` methods.\n",
    "\n",
    "## Using k-fold cross validation to assess model performance\n",
    "\n"
   ]
  },
  {
   "cell_type": "code",
   "execution_count": null,
   "id": "c731d69f-da53-4940-bce8-f1360af30eac",
   "metadata": {},
   "outputs": [],
   "source": []
  }
 ],
 "metadata": {
  "kernelspec": {
   "display_name": "Python 3 (ipykernel)",
   "language": "python",
   "name": "python3"
  },
  "language_info": {
   "codemirror_mode": {
    "name": "ipython",
    "version": 3
   },
   "file_extension": ".py",
   "mimetype": "text/x-python",
   "name": "python",
   "nbconvert_exporter": "python",
   "pygments_lexer": "ipython3",
   "version": "3.9.12"
  }
 },
 "nbformat": 4,
 "nbformat_minor": 5
}
