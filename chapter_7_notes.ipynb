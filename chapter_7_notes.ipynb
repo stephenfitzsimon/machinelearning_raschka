{
 "cells": [
  {
   "cell_type": "markdown",
   "id": "eacb4024-0554-4ed4-a63c-152462acdfc0",
   "metadata": {},
   "source": [
    "# Chapter 7: Combining different models for ensemble learning\n",
    "\n",
    "\n",
    "## Learning with ensembles\n",
    "\n",
    "*Ensemble methods* combine multiple estimators into a single estimator that has better generalization than each classifier alone.  Many use *majority voting*, meaning a label must recieve more than 50% of the 'votes' in the component models; a generalization can be made with *plurality voting*, where the final label is decided by the label with the most votes.\n",
    "\n",
    "This can be written as:\n",
    "$$\n",
    "    \\hat{y}  = \\text{mode}\\{C_1(x), \\dots, C_m(x)\\}\n",
    "$$ \n",
    "for $m$ models.  If the error rates of each classifier are independent and all have an equal error rate, $\\epsilon$, then:\n",
    "$$\n",
    "    P(y \\geq k) = \\sum_k^n \\left\\langle \\begin{matrix} n \\\\ k \\end{matrix} \\right\\rangle \\epsilon^k(1-\\epsilon)^{n-k} = \\epsilon_{ensemble}\n",
    "$$\n",
    "Note that $\\epsilon \\leq 0$.  Therefore the error rate of the ensemble must be lower.  This sum can be implemented and graphed in Python."
   ]
  },
  {
   "cell_type": "code",
   "execution_count": 1,
   "id": "4d420a4c-b5ff-49ea-8573-3078cf2f68f2",
   "metadata": {},
   "outputs": [
    {
     "data": {
      "text/plain": [
       "0.03432750701904297"
      ]
     },
     "execution_count": 1,
     "metadata": {},
     "output_type": "execute_result"
    }
   ],
   "source": [
    "from scipy.special import comb\n",
    "import math\n",
    "\n",
    "def ensemble_error(n_classifier, error):\n",
    "    k_start = int(math.ceil(n_classifier / 2.))\n",
    "    probs = [comb(n_classifier, k) * error**k * (1-error)**(n_classifier - k) for k in range(k_start, n_classifier + 1)]\n",
    "    return sum(probs)\n",
    "\n",
    "ensemble_error(n_classifier=11, error=0.25)     "
   ]
  },
  {
   "cell_type": "markdown",
   "id": "cfb90230-b88f-47c0-a78e-7238aa98aa90",
   "metadata": {},
   "source": [
    "From the graph below it is clear that the ensemble error is always better than the base error."
   ]
  },
  {
   "cell_type": "code",
   "execution_count": 2,
   "id": "ba2c3edc-a5db-4eac-8278-f2d2c7c546a7",
   "metadata": {},
   "outputs": [
    {
     "data": {
      "image/png": "[encoded data removed]",
      "text/plain": [
       "<Figure size 432x288 with 1 Axes>"
      ]
     },
     "metadata": {
      "needs_background": "light"
     },
     "output_type": "display_data"
    }
   ],
   "source": [
    "import numpy as np\n",
    "import matplotlib.pyplot as plt\n",
    "error_range = np.arange(0.0, 1.01, 0.01)\n",
    "ens_errors = [ensemble_error(n_classifier=11, error=error) for error in error_range]\n",
    "plt.plot(error_range, ens_errors, label='Ensemble error', linewidth=2)\n",
    "plt.plot(error_range, error_range, linestyle='--', label='Base error', linewidth=2)\n",
    "plt.xlabel('Base error')\n",
    "plt.ylabel('Base/Ensemble error') \n",
    "plt.legend(loc='upper left')\n",
    "plt.grid(alpha=0.5)\n",
    "plt.show()"
   ]
  },
  {
   "cell_type": "markdown",
   "id": "a97068fb-bf82-40e6-9dd2-8911d1318416",
   "metadata": {},
   "source": [
    "## Combining classifier via majority vote\n",
    "\n",
    "### Implementing a simple majority vote classifier\n",
    "\n",
    "We will implement a weighted voting classifier.  A prediction can be written as:\n",
    "$$\n",
    "    \\hat{y} = \\text{arg max} \\sum{j=1}^m w_j \\chi_A(C_j(x) = i)\n",
    "$$\n",
    "where:\n",
    "- $w_j$ is the weight of the $j$th classifier\n",
    "- $A$ is the set of unique class labels\n",
    "- $\\chi_A$ is the characteristic function which returns 1 if the predicted class label matches the actual class label, $C_j(x) = i$\n",
    "\n",
    "If the weights are uniform (i.e. all the classifiers are considered equally) then: \n",
    "$$\n",
    "    \\hat{y}  = \\text{mode}\\{C_1(x), \\dots, C_m(x)\\}\n",
    "$$ \n",
    "\n",
    "`Numpy` has the `argmax` and `bincount` functions, so the weights can be easily implemented:"
   ]
  },
  {
   "cell_type": "code",
   "execution_count": 3,
   "id": "033040ee-4290-4fc9-9f11-7cd90180420b",
   "metadata": {},
   "outputs": [
    {
     "data": {
      "text/plain": [
       "1"
      ]
     },
     "execution_count": 3,
     "metadata": {},
     "output_type": "execute_result"
    }
   ],
   "source": [
    "import numpy as np\n",
    "np.argmax(np.bincount([0, 0, 1], weights=[0.2, 0.2, 0.6]))"
   ]
  },
  {
   "cell_type": "markdown",
   "id": "ac6de3bb-e67d-4884-bf2b-a529bb344381",
   "metadata": {},
   "source": [
    "One way to decide the weights is to use a classifier that can return the probability of a class label prediction via the `predict_proba` funciton of the estimator. Then:\n",
    "$$\n",
    " \\hat{y} = \\text{argmax} \\sum_{j=1}^m w_j p_{ij}\n",
    "$$\n",
    "where $p_{ij}$ is the probability of the $j$th classifier for the class label $i$.\n",
    "\n",
    "This can be implemented using the `average` function of Numpy:"
   ]
  },
  {
   "cell_type": "code",
   "execution_count": 4,
   "id": "2a2f4c00-9974-4f31-9b35-df4164f98697",
   "metadata": {},
   "outputs": [
    {
     "data": {
      "text/plain": [
       "(array([0.58, 0.42]), 0)"
      ]
     },
     "execution_count": 4,
     "metadata": {},
     "output_type": "execute_result"
    }
   ],
   "source": [
    "ex = np.array([[0.9, 0.1], [0.8, 0.2], [0.4, 0.6]])\n",
    "p = np.average(ex, axis=0, weights=[0.2, 0.2, 0.6])\n",
    "p, np.argmax(p)"
   ]
  },
  {
   "cell_type": "markdown",
   "id": "d356c66e-0d46-4e4d-b3a0-b65396851c8f",
   "metadata": {},
   "source": [
    "#### Code implementation"
   ]
  },
  {
   "cell_type": "code",
   "execution_count": 5,
   "id": "b6c53bc4-d5ff-43b2-8284-0f115b84fcda",
   "metadata": {},
   "outputs": [],
   "source": [
    "from sklearn.base import BaseEstimator\n",
    "from sklearn.base import ClassifierMixin\n",
    "from sklearn.preprocessing import LabelEncoder\n",
    "from sklearn.base import clone\n",
    "from sklearn.pipeline import _name_estimators\n",
    "import numpy as np\n",
    "import operator\n",
    "\n",
    "# inherit BaseEstimator and ClassifierMixin to get the \n",
    "# get_params and set_params and score functionalities\n",
    "class MajorityVoteClassifier(BaseEstimator, ClassifierMixin):\n",
    "    def __init__(self, classifiers, vote = 'classlabel', weights = None):\n",
    "        self.classifiers = classifiers\n",
    "        self.named_classifiers = {\n",
    "            key: value for key, value in _name_estimators(classifiers)\n",
    "        }\n",
    "        self.vote = vote\n",
    "        self.weights = weights\n",
    "        \n",
    "    def fit(self, X, y):\n",
    "        if self.vote not in ('probability', 'classlabel'):\n",
    "            raise ValueError(f\"vote must be 'probability' or 'classlabel' got (vote={self.vote}\")\n",
    "        if self.weights and len(self.weights) != len(self.classifiers):\n",
    "            raise ValueError(f'Number of classifiers and weights must be equal; got {len(self.weights)} weights, {len(self.classifiers)} classifiers')\n",
    "        self.lablenc_ = LabelEncoder() #ensures labels are 0 to n\n",
    "        self.lablenc_.fit(y)\n",
    "        self.classes_ = self.lablenc_.classes_\n",
    "        self.classifiers_ = []\n",
    "        for clf in self.classifiers:\n",
    "            fitted_clf = clone(clf).fit(X, self.lablenc_.transform(y))\n",
    "            self.classifiers_.append(fitted_clf)\n",
    "        return self\n",
    "    \n",
    "    def predict(self, X):\n",
    "        if self.vote == 'probability':\n",
    "            maj_vote = np.argmax(self.predict_proba(x), axis = 1)\n",
    "        else: #must be classlabel\n",
    "            predictions = np.asarray(\n",
    "                [clf.predict(X) for clf in self.classifiers_]\n",
    "            ).T\n",
    "            maj_vote = np.apply_along_axis(\n",
    "                lambda x: np.argmax(np.bincount(x, weights = self.weights)),\n",
    "                axis = 1,\n",
    "                arr = predictions\n",
    "            )\n",
    "        maj_vote = self.lablenc_.inverse_transform(maj_vote)\n",
    "        return maj_vote\n",
    "    \n",
    "    def predict_proba(self, X):\n",
    "        probas = np.array(\n",
    "            [clf.predict_proba(X) for clf in self.classifiers_]\n",
    "        )\n",
    "        avg_proba = np.average(probas, axis = 0, weights = self.weights)\n",
    "        return avg_proba\n",
    "    \n",
    "    #override the super class' get_params method\n",
    "    def get_params(self, deep = True):\n",
    "        if not deep:\n",
    "            return super().get_params(deep = False)\n",
    "        else:\n",
    "            out = self.named_classifiers.copy()\n",
    "            for name, step in self.named_classifiers.items():\n",
    "                for key, value in step.get_params(deep = True).items():\n",
    "                    out[f\"{name}__{key}\"] = value\n",
    "            return out"
   ]
  },
  {
   "cell_type": "markdown",
   "id": "69f89d47-284a-467e-b221-456600914054",
   "metadata": {
    "tags": []
   },
   "source": [
    "### Using the majority voting principle to make predictions\n",
    "\n",
    "Use the iris dataset with only sepal width and petal length (they are less correlated, thus making the classification more difficult); moreover, only try to predict versicolor or virginica."
   ]
  },
  {
   "cell_type": "code",
   "execution_count": 6,
   "id": "ef19e085-f36f-4b38-81bf-91debaac6fc8",
   "metadata": {},
   "outputs": [],
   "source": [
    "from sklearn import datasets\n",
    "from sklearn.model_selection import train_test_split \n",
    "from sklearn.preprocessing import StandardScaler \n",
    "from sklearn.preprocessing import LabelEncoder\n",
    "iris = datasets.load_iris()\n",
    "X, y = iris.data[50:, [1, 2]], iris.target[50:]\n",
    "le = LabelEncoder()\n",
    "y = le.fit_transform(y)\n",
    "X_train, X_test, y_train, y_test =train_test_split(\n",
    "    X, y,\n",
    "    test_size=0.5,\n",
    "    random_state=1,\n",
    "    stratify=y\n",
    ")"
   ]
  },
  {
   "cell_type": "markdown",
   "id": "dd0e8b20-eb0a-460b-b2f2-a75e9b5392b3",
   "metadata": {},
   "source": [
    "Now use the following classifiers:\n",
    "- logistic regression\n",
    "- decision tree\n",
    "- k-nearest neighbors"
   ]
  },
  {
   "cell_type": "code",
   "execution_count": 7,
   "id": "ba1e9abc-63cf-47fc-9dad-ae7d594279cf",
   "metadata": {},
   "outputs": [
    {
     "name": "stdout",
     "output_type": "stream",
     "text": [
      "10-fold cross validation:\n",
      "\n",
      "ROC AUC: 0.92 (+/- 0.15) [Logistic regression]\n",
      "ROC AUC: 0.87 (+/- 0.18) [Decision tree]\n",
      "ROC AUC: 0.85 (+/- 0.13) [KNN]\n"
     ]
    }
   ],
   "source": [
    "from sklearn.model_selection import cross_val_score \n",
    "from sklearn.linear_model import LogisticRegression \n",
    "from sklearn.tree import DecisionTreeClassifier \n",
    "from sklearn.neighbors import KNeighborsClassifier \n",
    "from sklearn.pipeline import Pipeline\n",
    "import numpy as np\n",
    "#make the models\n",
    "clf1 = LogisticRegression(penalty='l2', C=0.001, solver='lbfgs', random_state=1) \n",
    "clf2 = DecisionTreeClassifier(max_depth=1, criterion='entropy', random_state=0) \n",
    "clf3 = KNeighborsClassifier(n_neighbors=1, p=2, metric='minkowski') \n",
    "#need to also scale the data\n",
    "pipe1 = Pipeline([['sc', StandardScaler()],['clf', clf1]])\n",
    "pipe3 = Pipeline([['sc', StandardScaler()],['clf', clf3]])\n",
    "clf_labels = ['Logistic regression', 'Decision tree', 'KNN'] \n",
    "print('10-fold cross validation:\\n')\n",
    "for clf, label in zip([pipe1, clf2, pipe3], clf_labels):\n",
    "    scores = cross_val_score(estimator=clf,\n",
    "        X=X_train,\n",
    "        y=y_train,\n",
    "        cv=10,\n",
    "        scoring='roc_auc'\n",
    "    )\n",
    "    print(f'ROC AUC: {scores.mean():.2f} (+/- {scores.std():.2f}) [{label}]')"
   ]
  },
  {
   "cell_type": "markdown",
   "id": "468501ef-7a3c-4c54-89c6-84ab92a9852f",
   "metadata": {},
   "source": [
    "Now apply the voting classifier:"
   ]
  },
  {
   "cell_type": "code",
   "execution_count": 8,
   "id": "609058a1-967b-464c-b2c2-e72d7342c14a",
   "metadata": {},
   "outputs": [
    {
     "name": "stdout",
     "output_type": "stream",
     "text": [
      "ROC AUC: 0.92 (+/- 0.15) [Logistic regression]\n",
      "ROC AUC: 0.87 (+/- 0.18) [Decision tree]\n",
      "ROC AUC: 0.85 (+/- 0.13) [KNN]\n",
      "ROC AUC: 0.98 (+/- 0.05) [Majority voting]\n"
     ]
    }
   ],
   "source": [
    "mv_clf = MajorityVoteClassifier(classifiers=[pipe1, clf2, pipe3])\n",
    "clf_labels += ['Majority voting']\n",
    "all_clf = [pipe1, clf2, pipe3, mv_clf]\n",
    "for clf, label in zip(all_clf, clf_labels):\n",
    "    scores = cross_val_score(estimator=clf,\n",
    "        X = X_train,\n",
    "        y = y_train,\n",
    "        cv = 10,\n",
    "        scoring = 'roc_auc'\n",
    "    )\n",
    "    print(f'ROC AUC: {scores.mean():.2f} (+/- {scores.std():.2f}) [{label}]')"
   ]
  },
  {
   "cell_type": "markdown",
   "id": "cfd42f87-0e2f-451c-8168-a23376dfab82",
   "metadata": {},
   "source": [
    "### Evaluating and tuning the ensemble classifier\n",
    "\n",
    "Evaluation is done by the ROC curve for test data.  The MajorityVoteClassifier performs as well or better than the singular models."
   ]
  },
  {
   "cell_type": "code",
   "execution_count": 9,
   "id": "9363b582-31d2-41ee-a88a-521ce286ed59",
   "metadata": {},
   "outputs": [
    {
     "data": {
      "image/png": "[encoded data removed]",
      "text/plain": [
       "<Figure size 720x720 with 1 Axes>"
      ]
     },
     "metadata": {
      "needs_background": "light"
     },
     "output_type": "display_data"
    }
   ],
   "source": [
    "from sklearn.metrics import roc_curve\n",
    "from sklearn.metrics import auc\n",
    "import matplotlib.pyplot as plt\n",
    "colors = ['black', 'orange', 'blue', 'green'] \n",
    "linestyles = [':', '--', '-.', '-']\n",
    "plt.figure(figsize = (10,10))\n",
    "for clf, label, clr, ls in zip(all_clf, clf_labels, colors, linestyles): \n",
    "    # assuming the label of the positive class is 1 \n",
    "    y_pred = clf.fit(X_train, y_train).predict_proba(X_test)[:, 1]\n",
    "    fpr, tpr, thresholds = roc_curve(y_true=y_test, y_score=y_pred)\n",
    "    roc_auc = auc(x = fpr, y = tpr)\n",
    "    plt.plot(fpr,\n",
    "             tpr,\n",
    "             color = clr,\n",
    "             linestyle = ls,\n",
    "             label=f'{label} (auc = {roc_auc:.2f})'\n",
    "            )\n",
    "plt.legend()\n",
    "plt.plot(\n",
    "    [0,1], [0, 1],\n",
    "    linestyle = '--',\n",
    "    color = 'grey',\n",
    "    linewidth = 2)\n",
    "plt.xlim([-0.1, 1.1]) \n",
    "plt.ylim([-0.1, 1.1]) \n",
    "plt.grid(alpha=0.5)\n",
    "plt.xlabel('False positive rate (FPR)') \n",
    "plt.ylabel('True positive rate (TPR)') \n",
    "plt.show()"
   ]
  },
  {
   "cell_type": "markdown",
   "id": "19b44eda-24bc-4577-b6d9-7ea239850667",
   "metadata": {},
   "source": [
    "We can also plot the decision region.  The data is scaled so that the scale for all the data is the same (note that the KNN and LR models already scale the data, but the Decision Tree does not)."
   ]
  },
  {
   "cell_type": "code",
   "execution_count": 10,
   "id": "7856125f-465a-4244-9cc9-49000d51a057",
   "metadata": {},
   "outputs": [
    {
     "data": {
      "image/png": "[encoded data removed]",
      "text/plain": [
       "<Figure size 504x360 with 4 Axes>"
      ]
     },
     "metadata": {
      "needs_background": "light"
     },
     "output_type": "display_data"
    }
   ],
   "source": [
    "sc = StandardScaler()\n",
    "X_train_std = sc.fit_transform(X_train) \n",
    "from itertools import product\n",
    "x_min = X_train_std[:, 0].min() - 1\n",
    "x_max = X_train_std[:, 0].max() + 1\n",
    "y_min = X_train_std[:, 1].min() - 1\n",
    "y_max = X_train_std[:, 1].max() + 1\n",
    "xx, yy = np.meshgrid(np.arange(x_min, x_max, 0.1), np.arange(y_min, y_max, 0.1)) \n",
    "f, axarr = plt.subplots(nrows=2, ncols=2, sharex='col', sharey='row', figsize=(7, 5))\n",
    "for idx, clf, tt in zip(product([0, 1], [0, 1]),\n",
    "                    all_clf, clf_labels):\n",
    "    clf.fit(X_train_std, y_train)\n",
    "    Z = clf.predict(np.c_[xx.ravel(), yy.ravel()])\n",
    "    Z = Z.reshape(xx.shape)\n",
    "    axarr[idx[0], idx[1]].contourf(xx, yy, Z, alpha = 0.3)\n",
    "    axarr[idx[0], idx[1]].scatter(X_train_std[y_train==0, 0],\n",
    "                                 X_train_std[y_train==0, 1],\n",
    "                                 c = 'blue',\n",
    "                                 marker = '^',\n",
    "                                 s = 50\n",
    "                                 )\n",
    "    axarr[idx[0], idx[1]].scatter(X_train_std[y_train==1, 0],\n",
    "                                 X_train_std[y_train==1, 1],\n",
    "                                 c = 'green',\n",
    "                                 marker = 'o',\n",
    "                                 s = 50\n",
    "                                 )\n",
    "    axarr[idx[0], idx[1]].set_title(tt)\n",
    "plt.text(-3.5, -5., s='Sepal width [standardized]', ha='center', va='center', fontsize=12) \n",
    "plt.text(-12.5, 4.5, s='Petal length [standardized]', ha='center', va='center', fontsize=12, rotation=90) \n",
    "plt.show()"
   ]
  },
  {
   "cell_type": "markdown",
   "id": "33518ead-973f-46ca-8b93-305f9d5c3299",
   "metadata": {},
   "source": [
    "In order to tune the ensemble classifier, we can tune the constituent  models.  Note how the ensemble holds the parameters of the model:"
   ]
  },
  {
   "cell_type": "code",
   "execution_count": 11,
   "id": "89708d1a-cf25-40d6-ada5-092bf8c1fad3",
   "metadata": {},
   "outputs": [
    {
     "data": {
      "text/plain": [
       "{'pipeline-1': Pipeline(steps=[('sc', StandardScaler()),\n",
       "                 ['clf', LogisticRegression(C=0.001, random_state=1)]]),\n",
       " 'decisiontreeclassifier': DecisionTreeClassifier(criterion='entropy', max_depth=1, random_state=0),\n",
       " 'pipeline-2': Pipeline(steps=[('sc', StandardScaler()),\n",
       "                 ['clf', KNeighborsClassifier(n_neighbors=1)]]),\n",
       " 'pipeline-1__memory': None,\n",
       " 'pipeline-1__steps': [('sc', StandardScaler()),\n",
       "  ['clf', LogisticRegression(C=0.001, random_state=1)]],\n",
       " 'pipeline-1__verbose': False,\n",
       " 'pipeline-1__sc': StandardScaler(),\n",
       " 'pipeline-1__clf': LogisticRegression(C=0.001, random_state=1),\n",
       " 'pipeline-1__sc__copy': True,\n",
       " 'pipeline-1__sc__with_mean': True,\n",
       " 'pipeline-1__sc__with_std': True,\n",
       " 'pipeline-1__clf__C': 0.001,\n",
       " 'pipeline-1__clf__class_weight': None,\n",
       " 'pipeline-1__clf__dual': False,\n",
       " 'pipeline-1__clf__fit_intercept': True,\n",
       " 'pipeline-1__clf__intercept_scaling': 1,\n",
       " 'pipeline-1__clf__l1_ratio': None,\n",
       " 'pipeline-1__clf__max_iter': 100,\n",
       " 'pipeline-1__clf__multi_class': 'auto',\n",
       " 'pipeline-1__clf__n_jobs': None,\n",
       " 'pipeline-1__clf__penalty': 'l2',\n",
       " 'pipeline-1__clf__random_state': 1,\n",
       " 'pipeline-1__clf__solver': 'lbfgs',\n",
       " 'pipeline-1__clf__tol': 0.0001,\n",
       " 'pipeline-1__clf__verbose': 0,\n",
       " 'pipeline-1__clf__warm_start': False,\n",
       " 'decisiontreeclassifier__ccp_alpha': 0.0,\n",
       " 'decisiontreeclassifier__class_weight': None,\n",
       " 'decisiontreeclassifier__criterion': 'entropy',\n",
       " 'decisiontreeclassifier__max_depth': 1,\n",
       " 'decisiontreeclassifier__max_features': None,\n",
       " 'decisiontreeclassifier__max_leaf_nodes': None,\n",
       " 'decisiontreeclassifier__min_impurity_decrease': 0.0,\n",
       " 'decisiontreeclassifier__min_samples_leaf': 1,\n",
       " 'decisiontreeclassifier__min_samples_split': 2,\n",
       " 'decisiontreeclassifier__min_weight_fraction_leaf': 0.0,\n",
       " 'decisiontreeclassifier__random_state': 0,\n",
       " 'decisiontreeclassifier__splitter': 'best',\n",
       " 'pipeline-2__memory': None,\n",
       " 'pipeline-2__steps': [('sc', StandardScaler()),\n",
       "  ['clf', KNeighborsClassifier(n_neighbors=1)]],\n",
       " 'pipeline-2__verbose': False,\n",
       " 'pipeline-2__sc': StandardScaler(),\n",
       " 'pipeline-2__clf': KNeighborsClassifier(n_neighbors=1),\n",
       " 'pipeline-2__sc__copy': True,\n",
       " 'pipeline-2__sc__with_mean': True,\n",
       " 'pipeline-2__sc__with_std': True,\n",
       " 'pipeline-2__clf__algorithm': 'auto',\n",
       " 'pipeline-2__clf__leaf_size': 30,\n",
       " 'pipeline-2__clf__metric': 'minkowski',\n",
       " 'pipeline-2__clf__metric_params': None,\n",
       " 'pipeline-2__clf__n_jobs': None,\n",
       " 'pipeline-2__clf__n_neighbors': 1,\n",
       " 'pipeline-2__clf__p': 2,\n",
       " 'pipeline-2__clf__weights': 'uniform'}"
      ]
     },
     "execution_count": 11,
     "metadata": {},
     "output_type": "execute_result"
    }
   ],
   "source": [
    "mv_clf.get_params()"
   ]
  },
  {
   "cell_type": "markdown",
   "id": "1b824607-5ee8-450e-92c9-15d32addbccb",
   "metadata": {},
   "source": [
    "Now we can set the parameters with the GridSearch"
   ]
  },
  {
   "cell_type": "code",
   "execution_count": 15,
   "id": "4719a62d-0158-4520-b6d3-5755b6ab267e",
   "metadata": {},
   "outputs": [
    {
     "name": "stdout",
     "output_type": "stream",
     "text": [
      "0.983 +/- 0.05 {'decisiontreeclassifier__max_depth': 1, 'pipeline-1__clf__C': 0.001}\n",
      "0.983 +/- 0.05 {'decisiontreeclassifier__max_depth': 1, 'pipeline-1__clf__C': 0.1}\n",
      "0.967 +/- 0.10 {'decisiontreeclassifier__max_depth': 1, 'pipeline-1__clf__C': 100.0}\n",
      "0.983 +/- 0.05 {'decisiontreeclassifier__max_depth': 2, 'pipeline-1__clf__C': 0.001}\n",
      "0.983 +/- 0.05 {'decisiontreeclassifier__max_depth': 2, 'pipeline-1__clf__C': 0.1}\n",
      "0.967 +/- 0.10 {'decisiontreeclassifier__max_depth': 2, 'pipeline-1__clf__C': 100.0}\n",
      "Best parameters: {'decisiontreeclassifier__max_depth': 1, 'pipeline-1__clf__C': 0.001}\n",
      "ROC AUC : 0.98\n"
     ]
    }
   ],
   "source": [
    "from sklearn.model_selection import GridSearchCV\n",
    "#we pass the parameters using the above reference types from get_params:\n",
    "params = {'decisiontreeclassifier__max_depth': [1, 2], \n",
    "          'pipeline-1__clf__C': [0.001, 0.1, 100.0]} \n",
    "grid = GridSearchCV(estimator=mv_clf, param_grid=params, cv=10, scoring='roc_auc') \n",
    "grid.fit(X_train, y_train)\n",
    "#now print out the results for the gridsearch\n",
    "for r, _ in enumerate(grid.cv_results_['mean_test_score']):\n",
    "    mean_score = grid.cv_results_['mean_test_score'][r]\n",
    "    std_dev = grid.cv_results_['std_test_score'][r]\n",
    "    params = grid.cv_results_['params'][r]\n",
    "    print(f'{mean_score:.3f} +/- {std_dev:.2f} {params}')\n",
    "print(f'Best parameters: {grid.best_params_}')\n",
    "print(f'ROC AUC : {grid.best_score_:.2f}')"
   ]
  },
  {
   "cell_type": "markdown",
   "id": "7cac8844-40de-4c28-8014-d22433ef88d6",
   "metadata": {},
   "source": [
    "#### Alternative: stacking ensemble\n",
    "\n",
    "*Stacking* uses a two level model.  The first level is fit to the data, then a second level is fit to the first level predictions.  Then the model is used to make final predictions.\n",
    "\n",
    "## Bagging – building an ensemble of classifiers from bootstrap samples\n",
    "\n",
    "*Bagging* refers to drawing bootstrap samples to train the models within the ensemble. Also known as *bootstrap aggregating*. \n",
    "\n",
    "### Bagging in a nutshell\n",
    "\n",
    "Consider a training dataset.  $m$ bagging rounds draw training samples, training $C_m$ models.\n",
    "\n",
    "### Applying bagging to classify examples in the Wine dataset\n",
    "\n",
    "Use only two classes and only two features."
   ]
  },
  {
   "cell_type": "code",
   "execution_count": 24,
   "id": "002f1419-902e-404a-9910-80d697df1687",
   "metadata": {},
   "outputs": [],
   "source": [
    "import pandas as pd\n",
    "df_wine = pd.read_csv('wine_data.csv').drop(columns = ['Unnamed: 0'])\n",
    "df_wine.columns = ['Class label', 'Alcohol',\n",
    "    'Malic acid', 'Ash',\n",
    "    'Alcalinity of ash',\n",
    "    'Magnesium', 'Total phenols',\n",
    "    'Flavanoids', 'Nonflavanoid phenols',\n",
    "    'Proanthocyanins',\n",
    "    'Color intensity', 'Hue',\n",
    "    'OD280/OD315 of diluted wines',\n",
    "    'Proline']\n",
    " # drop 1 class\n",
    "df_wine = df_wine[df_wine['Class label'] != 1] \n",
    "y = df_wine['Class label'].values\n",
    "X = df_wine[['Alcohol', 'OD280/OD315 of diluted wines']].values"
   ]
  },
  {
   "cell_type": "code",
   "execution_count": 25,
   "id": "fa439f46-72fc-4855-bee7-74faf4a891da",
   "metadata": {},
   "outputs": [],
   "source": [
    "from sklearn.preprocessing import LabelEncoder\n",
    "from sklearn.model_selection import train_test_split \n",
    "le = LabelEncoder()\n",
    "y = le.fit_transform(y)\n",
    "X_train, X_test, y_train, y_test = train_test_split(X, y,\n",
    "                 test_size=0.2,\n",
    "                 random_state=1,\n",
    "                 stratify=y)"
   ]
  },
  {
   "cell_type": "markdown",
   "id": "ac9459a9-2c6d-472d-8a5a-9c83ac1100db",
   "metadata": {},
   "source": [
    "Scikit-learn has a `BaggingClassifier` that we can use:"
   ]
  },
  {
   "cell_type": "code",
   "execution_count": 26,
   "id": "1ef2d6ca-b3b7-4789-a595-07d9f7864c64",
   "metadata": {},
   "outputs": [],
   "source": [
    "from sklearn.ensemble import BaggingClassifier \n",
    "tree = DecisionTreeClassifier(criterion='entropy', \n",
    "                              random_state=1, \n",
    "                              max_depth=None)\n",
    "bag = BaggingClassifier(base_estimator=tree,\n",
    "                        n_estimators=500,\n",
    "                        max_samples=1.0,\n",
    "                        max_features=1.0,\n",
    "                        bootstrap=True,\n",
    "                        bootstrap_features=False,\n",
    "                        n_jobs=1,\n",
    "                        random_state=1)\n"
   ]
  },
  {
   "cell_type": "markdown",
   "id": "b4d9de1c-80a4-44b9-bd59-ef5e0798b692",
   "metadata": {},
   "source": [
    "Now we can compare an untrimmed tree model and the bagging classifier by the accuracy metric."
   ]
  },
  {
   "cell_type": "code",
   "execution_count": 27,
   "id": "f4472394-f5c4-4029-ba23-030f1897f200",
   "metadata": {},
   "outputs": [
    {
     "name": "stdout",
     "output_type": "stream",
     "text": [
      "Decision tree train/test accuracies 1.000/0.833\n"
     ]
    }
   ],
   "source": [
    "from sklearn.metrics import accuracy_score \n",
    "tree = tree.fit(X_train, y_train)\n",
    "y_train_pred = tree.predict(X_train)\n",
    "y_test_pred = tree.predict(X_test)\n",
    "tree_train = accuracy_score(y_train, y_train_pred) \n",
    "tree_test = accuracy_score(y_test, y_test_pred) \n",
    "print(f'Decision tree train/test accuracies {tree_train:.3f}/{tree_test:.3f}')"
   ]
  },
  {
   "cell_type": "code",
   "execution_count": 28,
   "id": "d4115b1b-0683-4762-a643-520e88f6ece1",
   "metadata": {},
   "outputs": [
    {
     "name": "stdout",
     "output_type": "stream",
     "text": [
      "Bagging train/test accuracies 1.000/0.917\n"
     ]
    }
   ],
   "source": [
    "bag = bag.fit(X_train, y_train)\n",
    "y_train_pred = bag.predict(X_train)\n",
    "y_test_pred = bag.predict(X_test)\n",
    "bag_train = accuracy_score(y_train, y_train_pred) \n",
    "bag_test = accuracy_score(y_test, y_test_pred) \n",
    "print(f'Bagging train/test accuracies {bag_train:.3f}/{bag_test:.3f}')"
   ]
  },
  {
   "cell_type": "markdown",
   "id": "fea8a520-805e-40f9-8122-bf579e227eb9",
   "metadata": {},
   "source": [
    "The decision tree's test accuracy indicates high variance. However, the bagging model significantly reduces the variance."
   ]
  },
  {
   "cell_type": "code",
   "execution_count": 29,
   "id": "ef257af6-a0db-45a9-bc17-b1e649fb0fd0",
   "metadata": {},
   "outputs": [
    {
     "data": {
      "image/png": "[encoded data removed]",
      "text/plain": [
       "<Figure size 576x216 with 2 Axes>"
      ]
     },
     "metadata": {
      "needs_background": "light"
     },
     "output_type": "display_data"
    }
   ],
   "source": [
    "x_min = X_train[:, 0].min() - 1\n",
    "x_max = X_train[:, 0].max() + 1\n",
    "y_min = X_train[:, 1].min() - 1\n",
    "y_max = X_train[:, 1].max() + 1\n",
    "xx, yy = np.meshgrid(np.arange(x_min, x_max, 0.1), np.arange(y_min, y_max, 0.1)) \n",
    "f, axarr = plt.subplots(nrows=1, ncols=2,\n",
    "                        sharex='col',\n",
    "                        sharey='row',\n",
    "                        figsize=(8, 3)) \n",
    "for idx, clf, tt in zip([0, 1], \n",
    "                        [tree, bag],\n",
    "                        ['Decision Tree', 'Bagging']):\n",
    "    clf.fit(X_train, y_train)\n",
    "    Z = clf.predict(np.c_[xx.ravel(), yy.ravel()])\n",
    "    Z = Z.reshape(xx.shape)\n",
    "    axarr[idx].contourf(xx, yy, Z, alpha = 0.3)\n",
    "    axarr[idx].scatter(X_train[y_train==0, 0],\n",
    "                       X_train[y_train==0, 1],\n",
    "                       c = 'blue', marker = '^')\n",
    "    axarr[idx].scatter(X_train[y_train == 1, 0],\n",
    "                       X_train[y_train == 1, 1],\n",
    "                       c = 'green', marker = 'o')\n",
    "    axarr[idx].set_title(tt)\n",
    "axarr[0].set_ylabel('Alcohol', fontsize=12) \n",
    "plt.tight_layout()\n",
    "plt.text(0, -0.2,\n",
    "    s='OD280/OD315 of diluted wines',\n",
    "    ha='center',\n",
    "    va='center',\n",
    "    fontsize=12,\n",
    "    transform=axarr[1].transAxes) \n",
    "plt.show()"
   ]
  },
  {
   "cell_type": "markdown",
   "id": "c04c1daf-5190-4160-b8b0-c4cef80bbb18",
   "metadata": {},
   "source": [
    "When a model has high variance (especially with high dimensionality), bagging classifiers can be beneficial to reducing this variance. However, bagging is ineffective at reducing bias.  Hence bagging classifiers are best for models with high variance.\n",
    "\n",
    "## Leverageing weak learners via adaptive boosting\n",
    "\n",
    "*Boosting*: Allow weak classifiers to focus on data that is misclassified by other models in order to improve the overall performance. Boosting uses *weak learners*, or models that are little better than random guessing.\n",
    "\n",
    "### How adaptive boosting works\n",
    "\n",
    "The following is a typical boosting algorithm:\n",
    "1. Draw a random subset of samples, $d_1$, from a training set, $D$, to train a weak learner, $C_1$.\n",
    "2. Draw a second subset of samples, $d_2$, and add half of the missclassified examples from $C_1$ to train $C_2$.\n",
    "3. Create $d_3$ of training samples that are misclassified y both $C_1$ and $C_2$ to train $C_3$.\n",
    "4. Combine $C_1$, $C_2$ and $C_3$ into an ensemble majority vote model.\n",
    "\n",
    "*AdaBoost* is a common implementation that uses the entire data set to train the weak classifiers, but reweights the training samples that are misclassified.  The algorithm is as follows:\n",
    "1. Set the weight vector, $w$, to uniform weights where $\\sum w_i = 1$.\n",
    "2. For $j$ and $m$ boosting rounds:\n",
    "    1. Train $C_j = train(X, y, w)$\n",
    "    2. Predict: $\\hat{y} = predict(C_j, X)$\n",
    "    3. Compute the weighted error: $\\epsilon = w \\cdot (\\hat{y} \\neq y)$\n",
    "    4. Compute the coefficient: $a_j = 0.5 \\log \\frac{1 - \\epsilon}{\\epsilon}$\n",
    "    5. update the weights: $w := w \\times \\exp (- a_j \\times \\hat{y} \\times y)$\n",
    "    6. Normalize weights to sum to one: $w := \\frac{w}{\\sum w_i}$\n",
    "3. Compute the final prediction: $\\hat{y} = (\\sum_{j=1}^m (a_j \\times \\text{predict}(C_j, X)) > 0)$\n",
    "\n"
   ]
  },
  {
   "cell_type": "code",
   "execution_count": null,
   "id": "f811295f-1e90-46ba-93fc-41e2c80f9933",
   "metadata": {},
   "outputs": [],
   "source": []
  }
 ],
 "metadata": {
  "kernelspec": {
   "display_name": "Python 3 (ipykernel)",
   "language": "python",
   "name": "python3"
  },
  "language_info": {
   "codemirror_mode": {
    "name": "ipython",
    "version": 3
   },
   "file_extension": ".py",
   "mimetype": "text/x-python",
   "name": "python",
   "nbconvert_exporter": "python",
   "pygments_lexer": "ipython3",
   "version": "3.9.12"
  }
 },
 "nbformat": 4,
 "nbformat_minor": 5
}
