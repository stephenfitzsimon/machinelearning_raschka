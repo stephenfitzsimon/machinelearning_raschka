{
 "cells": [
  {
   "cell_type": "markdown",
   "id": "902a766f-8d53-4643-8062-4bf86bc0649a",
   "metadata": {
    "tags": []
   },
   "source": [
    "# Chapter 8 : Applying Machine Learning to Sentiment Analysis\n",
    "\n",
    "## Preparing the IMDb movie review data for text processing\n",
    "\n",
    "*Sentiment analysis* or *opinion mining* concerns the classification of the attitude of the writer; generally, positive or negative. \n",
    "\n",
    "### Preprocessing the movie dataset into a convenient format\n",
    "\n",
    "The files need to be made into a single `.csv` file.\n",
    "\n",
    "first loop through all the files and put them into a single dataframe"
   ]
  },
  {
   "cell_type": "code",
   "execution_count": 6,
   "id": "e6878020-3783-40a4-aa52-2df4e0cd600e",
   "metadata": {},
   "outputs": [
    {
     "name": "stderr",
     "output_type": "stream",
     "text": [
      "/var/folders/lw/_43z7rb5635_x1dwsyzrnc_m0000gn/T/ipykernel_34194/4101027212.py:14: FutureWarning: The frame.append method is deprecated and will be removed from pandas in a future version. Use pandas.concat instead.\n",
      "  df = df.append([[txt, labels[l]]], ignore_index = True)\n"
     ]
    }
   ],
   "source": [
    "import pandas as pd\n",
    "import os\n",
    "import sys\n",
    "# # change the 'basepath' to the directory of the >>> # unzipped movie dataset\n",
    "# basepath = 'aclImdb'\n",
    "# labels = {'pos': 1, 'neg': 0}\n",
    "# df = pd.DataFrame()\n",
    "# for s in ('test', 'train'):\n",
    "#     for l in ('pos', 'neg'):\n",
    "#         path = os.path.join(basepath, s, l) \n",
    "#         for file in sorted(os.listdir(path)):\n",
    "#             with open(os.path.join(path, file), 'r', encoding = 'utf-8') as infile:\n",
    "#                 txt = infile.read()\n",
    "#             df = df.append([[txt, labels[l]]], ignore_index = True)\n",
    "# df.columns = ['review', 'sentiment']"
   ]
  },
  {
   "cell_type": "markdown",
   "id": "8478027c-3ea1-453d-b6e9-03e5930dbfc2",
   "metadata": {},
   "source": [
    "Save the dataframe to a csv and then read it:"
   ]
  },
  {
   "cell_type": "code",
   "execution_count": 8,
   "id": "0c12801b-ec4f-43a5-9a46-5a5b53a08089",
   "metadata": {},
   "outputs": [],
   "source": [
    "import numpy as np\n",
    "np.random.seed(0)\n",
    "df = df.reindex(np.random.permutation(df.index))\n",
    "df.to_csv('movie_data.csv', index=False, encoding='utf-8')"
   ]
  },
  {
   "cell_type": "code",
   "execution_count": 10,
   "id": "9c9b7ad3-4e45-4c37-9b67-a7e0b7e9b1af",
   "metadata": {},
   "outputs": [
    {
     "data": {
      "text/html": [
       "<div>\n",
       "<style scoped>\n",
       "    .dataframe tbody tr th:only-of-type {\n",
       "        vertical-align: middle;\n",
       "    }\n",
       "\n",
       "    .dataframe tbody tr th {\n",
       "        vertical-align: top;\n",
       "    }\n",
       "\n",
       "    .dataframe thead th {\n",
       "        text-align: right;\n",
       "    }\n",
       "</style>\n",
       "<table border=\"1\" class=\"dataframe\">\n",
       "  <thead>\n",
       "    <tr style=\"text-align: right;\">\n",
       "      <th></th>\n",
       "      <th>review</th>\n",
       "      <th>sentiment</th>\n",
       "    </tr>\n",
       "  </thead>\n",
       "  <tbody>\n",
       "    <tr>\n",
       "      <th>28921</th>\n",
       "      <td>This film deals with the Irish rebellion in th...</td>\n",
       "      <td>1</td>\n",
       "    </tr>\n",
       "    <tr>\n",
       "      <th>11971</th>\n",
       "      <td>This movie is pure guano. Mom always said if y...</td>\n",
       "      <td>0</td>\n",
       "    </tr>\n",
       "    <tr>\n",
       "      <th>15919</th>\n",
       "      <td>Well the plot is entertaining but it is full o...</td>\n",
       "      <td>0</td>\n",
       "    </tr>\n",
       "  </tbody>\n",
       "</table>\n",
       "</div>"
      ],
      "text/plain": [
       "                                                  review  sentiment\n",
       "28921  This film deals with the Irish rebellion in th...          1\n",
       "11971  This movie is pure guano. Mom always said if y...          0\n",
       "15919  Well the plot is entertaining but it is full o...          0"
      ]
     },
     "execution_count": 10,
     "metadata": {},
     "output_type": "execute_result"
    }
   ],
   "source": [
    "df = pd.read_csv('movie_data.csv', encoding='utf-8')\n",
    "# the following column renaming is necessary on some computers: >>> \n",
    "df = df.rename(columns={\"0\": \"review\", \"1\": \"sentiment\"})\n",
    "df.sample(3)"
   ]
  },
  {
   "cell_type": "code",
   "execution_count": 11,
   "id": "dc9a598f-a5a2-4f98-a7be-cd0a95d33ded",
   "metadata": {},
   "outputs": [
    {
     "data": {
      "text/plain": [
       "(50000, 2)"
      ]
     },
     "execution_count": 11,
     "metadata": {},
     "output_type": "execute_result"
    }
   ],
   "source": [
    "df.shape"
   ]
  },
  {
   "cell_type": "markdown",
   "id": "762f5964-a329-4e2c-a6ac-bb15e38954d9",
   "metadata": {},
   "source": [
    "## Introducing the bag of words model\n",
    "\n",
    "*Bag-of-words* represents texts as numerical feature vectors.  This is done by:\n",
    "1. Making a vocbulary of unique tokens from the entire set of documents\n",
    "2. A feature vector is made for each document that contains counts of the tokens\n",
    "\n",
    "These feature vectors tend to be *sparse*, i.e. they contain a lot of zeros.\n",
    "\n",
    "### Transforming words into feature vectors\n",
    "\n",
    "`CountVectorizer` is built into scikit-learn and builds a bag-of-words model automatically:"
   ]
  },
  {
   "cell_type": "code",
   "execution_count": 17,
   "id": "82cf0c4c-95b6-4fe4-99da-4e71bb9427de",
   "metadata": {},
   "outputs": [],
   "source": [
    "from sklearn.feature_extraction.text import CountVectorizer \n",
    "count = CountVectorizer() #make the object\n",
    "docs = np.array(['The sun is shining',\n",
    "                 'The weather is sweet',\n",
    "                 'The sun is shining, the weather is sweet, and one and one is two']) \n",
    "bag = count.fit_transform(docs) #fit and transform"
   ]
  },
  {
   "cell_type": "code",
   "execution_count": 18,
   "id": "eef8e42f-a852-46de-98f3-ebf60a5a5494",
   "metadata": {},
   "outputs": [
    {
     "name": "stdout",
     "output_type": "stream",
     "text": [
      "{'the': 6, 'sun': 4, 'is': 1, 'shining': 3, 'weather': 8, 'sweet': 5, 'and': 0, 'one': 2, 'two': 7}\n"
     ]
    }
   ],
   "source": [
    "#can get the counts\n",
    "print(count.vocabulary_)"
   ]
  },
  {
   "cell_type": "code",
   "execution_count": 19,
   "id": "b9cb4408-8f2e-40b4-9640-7a65b7f7b23d",
   "metadata": {},
   "outputs": [
    {
     "data": {
      "text/plain": [
       "array([[0, 1, 0, 1, 1, 0, 1, 0, 0],\n",
       "       [0, 1, 0, 0, 0, 1, 1, 0, 1],\n",
       "       [2, 3, 2, 1, 1, 1, 2, 1, 1]])"
      ]
     },
     "execution_count": 19,
     "metadata": {},
     "output_type": "execute_result"
    }
   ],
   "source": [
    "#and the vectorized text\n",
    "bag.toarray()"
   ]
  },
  {
   "cell_type": "markdown",
   "id": "840b9764-2b1b-403b-972f-5271fd5807a7",
   "metadata": {},
   "source": [
    "Note that each position of the vector in `bag.toarray()` corresponds to a document and the count of tokens in it. These vector values are called the *raw term frequencies*: $tf(t, d)$, where $t$ is the term and $d$ is the number of occurences.  \n",
    "\n",
    "#### N-Gram models\n",
    "Bag-of-words is also called the *unigram model* since it counts only sequences of one word.  This can be extended to *n-grams* that use sequences of $n$ words. This is implemented in `CountVectorizer` via the `ngram_range = (x, y)` parameter: where x and y are the range of word sequences."
   ]
  },
  {
   "cell_type": "code",
   "execution_count": null,
   "id": "adf6cda4-e2c8-447e-bf6d-125cc8aec75f",
   "metadata": {},
   "outputs": [],
   "source": []
  }
 ],
 "metadata": {
  "kernelspec": {
   "display_name": "Python 3 (ipykernel)",
   "language": "python",
   "name": "python3"
  },
  "language_info": {
   "codemirror_mode": {
    "name": "ipython",
    "version": 3
   },
   "file_extension": ".py",
   "mimetype": "text/x-python",
   "name": "python",
   "nbconvert_exporter": "python",
   "pygments_lexer": "ipython3",
   "version": "3.9.12"
  }
 },
 "nbformat": 4,
 "nbformat_minor": 5
}
