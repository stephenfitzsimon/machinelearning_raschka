{
 "cells": [
  {
   "cell_type": "markdown",
   "id": "3d09f0f9-4d1e-462e-84bf-5395e7edeee6",
   "metadata": {},
   "source": [
    "# Chapter 4\n",
    "## Building good training datasets - data preprocessing\n",
    "\n",
    "Computational tools are generally unable to handle missing values. They should be removed or imputed. "
   ]
  },
  {
   "cell_type": "code",
   "execution_count": 1,
   "id": "1d67ed5a-7e3e-4063-ac39-42d06d748403",
   "metadata": {},
   "outputs": [
    {
     "data": {
      "text/html": [
       "<div>\n",
       "<style scoped>\n",
       "    .dataframe tbody tr th:only-of-type {\n",
       "        vertical-align: middle;\n",
       "    }\n",
       "\n",
       "    .dataframe tbody tr th {\n",
       "        vertical-align: top;\n",
       "    }\n",
       "\n",
       "    .dataframe thead th {\n",
       "        text-align: right;\n",
       "    }\n",
       "</style>\n",
       "<table border=\"1\" class=\"dataframe\">\n",
       "  <thead>\n",
       "    <tr style=\"text-align: right;\">\n",
       "      <th></th>\n",
       "      <th>A</th>\n",
       "      <th>B</th>\n",
       "      <th>C</th>\n",
       "      <th>D</th>\n",
       "    </tr>\n",
       "  </thead>\n",
       "  <tbody>\n",
       "    <tr>\n",
       "      <th>0</th>\n",
       "      <td>1.0</td>\n",
       "      <td>2.0</td>\n",
       "      <td>3.0</td>\n",
       "      <td>4.0</td>\n",
       "    </tr>\n",
       "    <tr>\n",
       "      <th>1</th>\n",
       "      <td>5.0</td>\n",
       "      <td>6.0</td>\n",
       "      <td>NaN</td>\n",
       "      <td>8.0</td>\n",
       "    </tr>\n",
       "    <tr>\n",
       "      <th>2</th>\n",
       "      <td>10.0</td>\n",
       "      <td>11.0</td>\n",
       "      <td>12.0</td>\n",
       "      <td>NaN</td>\n",
       "    </tr>\n",
       "  </tbody>\n",
       "</table>\n",
       "</div>"
      ],
      "text/plain": [
       "      A     B     C    D\n",
       "0   1.0   2.0   3.0  4.0\n",
       "1   5.0   6.0   NaN  8.0\n",
       "2  10.0  11.0  12.0  NaN"
      ]
     },
     "execution_count": 1,
     "metadata": {},
     "output_type": "execute_result"
    }
   ],
   "source": [
    "import pandas as pd\n",
    "from io import StringIO\n",
    "csv_data = \\\n",
    "    '''A,B,C,D\n",
    "    1.0,2.0,3.0,4.0\n",
    "    5.0,6.0,,8.0\n",
    "    10.0,11.0,12.0,'''\n",
    "df = pd.read_csv(StringIO(csv_data))\n",
    "df"
   ]
  },
  {
   "cell_type": "markdown",
   "id": "6802df3e-4942-4ad5-a42b-6b388fda0e12",
   "metadata": {},
   "source": [
    "Easiest way to identify null values is isnull"
   ]
  },
  {
   "cell_type": "code",
   "execution_count": 2,
   "id": "1c44f9f2-73e0-4955-9cb8-10c053c663ca",
   "metadata": {},
   "outputs": [
    {
     "data": {
      "text/plain": [
       "A    0\n",
       "B    0\n",
       "C    1\n",
       "D    1\n",
       "dtype: int64"
      ]
     },
     "execution_count": 2,
     "metadata": {},
     "output_type": "execute_result"
    }
   ],
   "source": [
    "df.isnull().sum()"
   ]
  },
  {
   "cell_type": "markdown",
   "id": "512192d0-d841-45b5-9fb0-48d865ee4017",
   "metadata": {},
   "source": [
    "Scikit-learn was originally built with Numpy and not pandas.  Most functions support dataframe inputs, but not all; therefore, it is usually better to pass a numpy array into scikit-learn functions.\n",
    "\n",
    "Null values can be dropped via the `dropna` method. Use `axis` to determine rows or columns dropped; `how=all` will drop all columns with only `NaN`.  `thresh` will drop rows with fewer than x real values.  `subset` will drop `NaN` only from specified columns. \n",
    "\n",
    "Note that dropping values always represents a possible information loss; too many rows or features might be dropped.\n",
    "\n",
    "An alternative is to impute values.  Scikit-learn has a `SimpleImputer` class to impute values. Below the mean of the column is imputed for the missing values.  Other strategies can be used; for example, median  or most-common value.  An alternative strategy is is to use `fillna`.  Moreover, more complex algorithms can also be used, such as `KNNImputer`"
   ]
  },
  {
   "cell_type": "code",
   "execution_count": 3,
   "id": "846d5afa-bd2b-43bc-abad-00576deb886a",
   "metadata": {},
   "outputs": [
    {
     "data": {
      "text/plain": [
       "array([[ 1. ,  2. ,  3. ,  4. ],\n",
       "       [ 5. ,  6. ,  7.5,  8. ],\n",
       "       [10. , 11. , 12. ,  6. ]])"
      ]
     },
     "execution_count": 3,
     "metadata": {},
     "output_type": "execute_result"
    }
   ],
   "source": [
    "from sklearn.impute import SimpleImputer\n",
    "import numpy as np\n",
    "imr = SimpleImputer(missing_values=np.nan, strategy='mean') \n",
    "imr = imr.fit(df.values)\n",
    "imr.transform(df.values)"
   ]
  },
  {
   "cell_type": "code",
   "execution_count": 4,
   "id": "17a2f4c1-1214-4034-89b0-1183aca50cff",
   "metadata": {},
   "outputs": [
    {
     "data": {
      "text/html": [
       "<div>\n",
       "<style scoped>\n",
       "    .dataframe tbody tr th:only-of-type {\n",
       "        vertical-align: middle;\n",
       "    }\n",
       "\n",
       "    .dataframe tbody tr th {\n",
       "        vertical-align: top;\n",
       "    }\n",
       "\n",
       "    .dataframe thead th {\n",
       "        text-align: right;\n",
       "    }\n",
       "</style>\n",
       "<table border=\"1\" class=\"dataframe\">\n",
       "  <thead>\n",
       "    <tr style=\"text-align: right;\">\n",
       "      <th></th>\n",
       "      <th>A</th>\n",
       "      <th>B</th>\n",
       "      <th>C</th>\n",
       "      <th>D</th>\n",
       "    </tr>\n",
       "  </thead>\n",
       "  <tbody>\n",
       "    <tr>\n",
       "      <th>0</th>\n",
       "      <td>1.0</td>\n",
       "      <td>2.0</td>\n",
       "      <td>3.0</td>\n",
       "      <td>4.0</td>\n",
       "    </tr>\n",
       "    <tr>\n",
       "      <th>1</th>\n",
       "      <td>5.0</td>\n",
       "      <td>6.0</td>\n",
       "      <td>7.5</td>\n",
       "      <td>8.0</td>\n",
       "    </tr>\n",
       "    <tr>\n",
       "      <th>2</th>\n",
       "      <td>10.0</td>\n",
       "      <td>11.0</td>\n",
       "      <td>12.0</td>\n",
       "      <td>6.0</td>\n",
       "    </tr>\n",
       "  </tbody>\n",
       "</table>\n",
       "</div>"
      ],
      "text/plain": [
       "      A     B     C    D\n",
       "0   1.0   2.0   3.0  4.0\n",
       "1   5.0   6.0   7.5  8.0\n",
       "2  10.0  11.0  12.0  6.0"
      ]
     },
     "execution_count": 4,
     "metadata": {},
     "output_type": "execute_result"
    }
   ],
   "source": [
    "df.fillna(df.mean())"
   ]
  },
  {
   "cell_type": "code",
   "execution_count": 5,
   "id": "e648e6ee-9d9f-493a-910a-21de56d21ab8",
   "metadata": {},
   "outputs": [
    {
     "data": {
      "text/plain": [
       "array([[ 1.        ,  2.        ,  3.        ,  4.        ],\n",
       "       [ 5.        ,  6.        ,  7.        ,  8.        ],\n",
       "       [10.        , 11.        , 12.        ,  6.57142857]])"
      ]
     },
     "execution_count": 5,
     "metadata": {},
     "output_type": "execute_result"
    }
   ],
   "source": [
    "from sklearn.impute import KNNImputer\n",
    "knn_impute = KNNImputer(n_neighbors=2, weights=\"distance\").fit(df)\n",
    "knn_impute.transform(df)"
   ]
  },
  {
   "cell_type": "markdown",
   "id": "1543ba05-89b6-46d3-9c35-585e3573e8d4",
   "metadata": {},
   "source": [
    "## transformers and estimators API in scikit-learn\n",
    "\n",
    "Scikit-learn's API uses `transform` and `fit` to transform data. `fit` learns parameters from data and `transform` then changes the data.  All data passed to `transform` needs to have the same number of features as the data passed to `fit`.\n",
    "\n",
    "Estimators are conceptually similar to transformers.  They have a `fit` and `transform` method; however, they also include a `predict` method.\n",
    "\n",
    "## handling categorical data\n",
    "\n",
    "- *ordinal* data: ordered categories, for example grade levels in school\n",
    "- *nominal* data: no order implied"
   ]
  },
  {
   "cell_type": "code",
   "execution_count": 6,
   "id": "4a0f5c89-a9bb-46ba-9e23-1f1c2545213c",
   "metadata": {},
   "outputs": [
    {
     "data": {
      "text/html": [
       "<div>\n",
       "<style scoped>\n",
       "    .dataframe tbody tr th:only-of-type {\n",
       "        vertical-align: middle;\n",
       "    }\n",
       "\n",
       "    .dataframe tbody tr th {\n",
       "        vertical-align: top;\n",
       "    }\n",
       "\n",
       "    .dataframe thead th {\n",
       "        text-align: right;\n",
       "    }\n",
       "</style>\n",
       "<table border=\"1\" class=\"dataframe\">\n",
       "  <thead>\n",
       "    <tr style=\"text-align: right;\">\n",
       "      <th></th>\n",
       "      <th>color</th>\n",
       "      <th>size</th>\n",
       "      <th>price</th>\n",
       "      <th>classlabel</th>\n",
       "    </tr>\n",
       "  </thead>\n",
       "  <tbody>\n",
       "    <tr>\n",
       "      <th>0</th>\n",
       "      <td>green</td>\n",
       "      <td>M</td>\n",
       "      <td>10.1</td>\n",
       "      <td>class2</td>\n",
       "    </tr>\n",
       "    <tr>\n",
       "      <th>1</th>\n",
       "      <td>red</td>\n",
       "      <td>L</td>\n",
       "      <td>13.5</td>\n",
       "      <td>class1</td>\n",
       "    </tr>\n",
       "    <tr>\n",
       "      <th>2</th>\n",
       "      <td>blue</td>\n",
       "      <td>XL</td>\n",
       "      <td>15.3</td>\n",
       "      <td>class2</td>\n",
       "    </tr>\n",
       "  </tbody>\n",
       "</table>\n",
       "</div>"
      ],
      "text/plain": [
       "   color size  price classlabel\n",
       "0  green    M   10.1     class2\n",
       "1    red    L   13.5     class1\n",
       "2   blue   XL   15.3     class2"
      ]
     },
     "execution_count": 6,
     "metadata": {},
     "output_type": "execute_result"
    }
   ],
   "source": [
    "df = pd.DataFrame([['green', 'M', 10.1, 'class2'],['red', 'L', 13.5, 'class1'],['blue', 'XL', 15.3, 'class2']])\n",
    "df.columns = ['color', 'size', 'price', 'classlabel']\n",
    "df"
   ]
  },
  {
   "cell_type": "markdown",
   "id": "282fbd3b-4375-4ef3-8fe5-6fbe65e22d64",
   "metadata": {},
   "source": [
    "### handling ordinal features\n",
    "\n",
    "Consider the size column.  It can be manually mapped, and then inversed:"
   ]
  },
  {
   "cell_type": "code",
   "execution_count": 7,
   "id": "2e846253-a941-441c-ab24-31886ed6cc7b",
   "metadata": {},
   "outputs": [
    {
     "data": {
      "text/html": [
       "<div>\n",
       "<style scoped>\n",
       "    .dataframe tbody tr th:only-of-type {\n",
       "        vertical-align: middle;\n",
       "    }\n",
       "\n",
       "    .dataframe tbody tr th {\n",
       "        vertical-align: top;\n",
       "    }\n",
       "\n",
       "    .dataframe thead th {\n",
       "        text-align: right;\n",
       "    }\n",
       "</style>\n",
       "<table border=\"1\" class=\"dataframe\">\n",
       "  <thead>\n",
       "    <tr style=\"text-align: right;\">\n",
       "      <th></th>\n",
       "      <th>color</th>\n",
       "      <th>size</th>\n",
       "      <th>price</th>\n",
       "      <th>classlabel</th>\n",
       "    </tr>\n",
       "  </thead>\n",
       "  <tbody>\n",
       "    <tr>\n",
       "      <th>0</th>\n",
       "      <td>green</td>\n",
       "      <td>1</td>\n",
       "      <td>10.1</td>\n",
       "      <td>class2</td>\n",
       "    </tr>\n",
       "    <tr>\n",
       "      <th>1</th>\n",
       "      <td>red</td>\n",
       "      <td>2</td>\n",
       "      <td>13.5</td>\n",
       "      <td>class1</td>\n",
       "    </tr>\n",
       "    <tr>\n",
       "      <th>2</th>\n",
       "      <td>blue</td>\n",
       "      <td>3</td>\n",
       "      <td>15.3</td>\n",
       "      <td>class2</td>\n",
       "    </tr>\n",
       "  </tbody>\n",
       "</table>\n",
       "</div>"
      ],
      "text/plain": [
       "   color  size  price classlabel\n",
       "0  green     1   10.1     class2\n",
       "1    red     2   13.5     class1\n",
       "2   blue     3   15.3     class2"
      ]
     },
     "execution_count": 7,
     "metadata": {},
     "output_type": "execute_result"
    }
   ],
   "source": [
    "size_mapping = {'M':1, 'L':2, 'XL':3}\n",
    "df['size'] = df['size'].map(size_mapping)\n",
    "df"
   ]
  },
  {
   "cell_type": "code",
   "execution_count": 8,
   "id": "ee44b1bc-60c6-4cfe-8faf-dfbc3ee10e87",
   "metadata": {},
   "outputs": [
    {
     "data": {
      "text/html": [
       "<div>\n",
       "<style scoped>\n",
       "    .dataframe tbody tr th:only-of-type {\n",
       "        vertical-align: middle;\n",
       "    }\n",
       "\n",
       "    .dataframe tbody tr th {\n",
       "        vertical-align: top;\n",
       "    }\n",
       "\n",
       "    .dataframe thead th {\n",
       "        text-align: right;\n",
       "    }\n",
       "</style>\n",
       "<table border=\"1\" class=\"dataframe\">\n",
       "  <thead>\n",
       "    <tr style=\"text-align: right;\">\n",
       "      <th></th>\n",
       "      <th>color</th>\n",
       "      <th>size</th>\n",
       "      <th>price</th>\n",
       "      <th>classlabel</th>\n",
       "    </tr>\n",
       "  </thead>\n",
       "  <tbody>\n",
       "    <tr>\n",
       "      <th>0</th>\n",
       "      <td>green</td>\n",
       "      <td>M</td>\n",
       "      <td>10.1</td>\n",
       "      <td>class2</td>\n",
       "    </tr>\n",
       "    <tr>\n",
       "      <th>1</th>\n",
       "      <td>red</td>\n",
       "      <td>L</td>\n",
       "      <td>13.5</td>\n",
       "      <td>class1</td>\n",
       "    </tr>\n",
       "    <tr>\n",
       "      <th>2</th>\n",
       "      <td>blue</td>\n",
       "      <td>XL</td>\n",
       "      <td>15.3</td>\n",
       "      <td>class2</td>\n",
       "    </tr>\n",
       "  </tbody>\n",
       "</table>\n",
       "</div>"
      ],
      "text/plain": [
       "   color size  price classlabel\n",
       "0  green    M   10.1     class2\n",
       "1    red    L   13.5     class1\n",
       "2   blue   XL   15.3     class2"
      ]
     },
     "execution_count": 8,
     "metadata": {},
     "output_type": "execute_result"
    }
   ],
   "source": [
    "inv_size_mapping = {v: k for k, v in size_mapping.items()}\n",
    "df['size'] = df['size'].map(inv_size_mapping)\n",
    "df"
   ]
  },
  {
   "cell_type": "markdown",
   "id": "f604bd15-0e96-4c4a-ad6d-a4514f3a56df",
   "metadata": {},
   "source": [
    "However, machine learning algorithms generally cannot handle non-numeric values.  Most ML algorithms will convert labels to numeric types internally, but they should be handled beforehand. Use a similar map as above."
   ]
  },
  {
   "cell_type": "code",
   "execution_count": 9,
   "id": "91cc1edd-7e36-4130-ad57-f725fb6961db",
   "metadata": {},
   "outputs": [
    {
     "data": {
      "text/html": [
       "<div>\n",
       "<style scoped>\n",
       "    .dataframe tbody tr th:only-of-type {\n",
       "        vertical-align: middle;\n",
       "    }\n",
       "\n",
       "    .dataframe tbody tr th {\n",
       "        vertical-align: top;\n",
       "    }\n",
       "\n",
       "    .dataframe thead th {\n",
       "        text-align: right;\n",
       "    }\n",
       "</style>\n",
       "<table border=\"1\" class=\"dataframe\">\n",
       "  <thead>\n",
       "    <tr style=\"text-align: right;\">\n",
       "      <th></th>\n",
       "      <th>color</th>\n",
       "      <th>size</th>\n",
       "      <th>price</th>\n",
       "      <th>classlabel</th>\n",
       "    </tr>\n",
       "  </thead>\n",
       "  <tbody>\n",
       "    <tr>\n",
       "      <th>0</th>\n",
       "      <td>green</td>\n",
       "      <td>M</td>\n",
       "      <td>10.1</td>\n",
       "      <td>1</td>\n",
       "    </tr>\n",
       "    <tr>\n",
       "      <th>1</th>\n",
       "      <td>red</td>\n",
       "      <td>L</td>\n",
       "      <td>13.5</td>\n",
       "      <td>0</td>\n",
       "    </tr>\n",
       "    <tr>\n",
       "      <th>2</th>\n",
       "      <td>blue</td>\n",
       "      <td>XL</td>\n",
       "      <td>15.3</td>\n",
       "      <td>1</td>\n",
       "    </tr>\n",
       "  </tbody>\n",
       "</table>\n",
       "</div>"
      ],
      "text/plain": [
       "   color size  price  classlabel\n",
       "0  green    M   10.1           1\n",
       "1    red    L   13.5           0\n",
       "2   blue   XL   15.3           1"
      ]
     },
     "execution_count": 9,
     "metadata": {},
     "output_type": "execute_result"
    }
   ],
   "source": [
    "class_mapping = {label: idx for idx, label in enumerate(np.unique(df['classlabel']))}\n",
    "df['classlabel'] = df['classlabel'].map(class_mapping)\n",
    "df"
   ]
  },
  {
   "cell_type": "code",
   "execution_count": 10,
   "id": "c53c3331-54d3-47cd-92a9-d251717dc6ce",
   "metadata": {},
   "outputs": [
    {
     "data": {
      "text/html": [
       "<div>\n",
       "<style scoped>\n",
       "    .dataframe tbody tr th:only-of-type {\n",
       "        vertical-align: middle;\n",
       "    }\n",
       "\n",
       "    .dataframe tbody tr th {\n",
       "        vertical-align: top;\n",
       "    }\n",
       "\n",
       "    .dataframe thead th {\n",
       "        text-align: right;\n",
       "    }\n",
       "</style>\n",
       "<table border=\"1\" class=\"dataframe\">\n",
       "  <thead>\n",
       "    <tr style=\"text-align: right;\">\n",
       "      <th></th>\n",
       "      <th>color</th>\n",
       "      <th>size</th>\n",
       "      <th>price</th>\n",
       "      <th>classlabel</th>\n",
       "    </tr>\n",
       "  </thead>\n",
       "  <tbody>\n",
       "    <tr>\n",
       "      <th>0</th>\n",
       "      <td>green</td>\n",
       "      <td>M</td>\n",
       "      <td>10.1</td>\n",
       "      <td>class2</td>\n",
       "    </tr>\n",
       "    <tr>\n",
       "      <th>1</th>\n",
       "      <td>red</td>\n",
       "      <td>L</td>\n",
       "      <td>13.5</td>\n",
       "      <td>class1</td>\n",
       "    </tr>\n",
       "    <tr>\n",
       "      <th>2</th>\n",
       "      <td>blue</td>\n",
       "      <td>XL</td>\n",
       "      <td>15.3</td>\n",
       "      <td>class2</td>\n",
       "    </tr>\n",
       "  </tbody>\n",
       "</table>\n",
       "</div>"
      ],
      "text/plain": [
       "   color size  price classlabel\n",
       "0  green    M   10.1     class2\n",
       "1    red    L   13.5     class1\n",
       "2   blue   XL   15.3     class2"
      ]
     },
     "execution_count": 10,
     "metadata": {},
     "output_type": "execute_result"
    }
   ],
   "source": [
    "inv_class_mapping = {v: k for k, v in class_mapping.items()}\n",
    "df['classlabel'] = df['classlabel'].map(inv_class_mapping)\n",
    "df"
   ]
  },
  {
   "cell_type": "markdown",
   "id": "770cee41-3a8a-41a3-855d-bbaaf0ea7e7c",
   "metadata": {},
   "source": [
    "Scikit-learn also includes `LabelEncoder` that is a transformer:"
   ]
  },
  {
   "cell_type": "code",
   "execution_count": 11,
   "id": "a58967c6-0df8-48cd-9ed8-78ad9b13754e",
   "metadata": {},
   "outputs": [
    {
     "data": {
      "text/plain": [
       "array([1, 0, 1])"
      ]
     },
     "execution_count": 11,
     "metadata": {},
     "output_type": "execute_result"
    }
   ],
   "source": [
    "from sklearn.preprocessing import LabelEncoder\n",
    "class_le = LabelEncoder()\n",
    "y = class_le.fit_transform(df['classlabel'].values)\n",
    "y"
   ]
  },
  {
   "cell_type": "code",
   "execution_count": 12,
   "id": "62087f9b-2056-417e-8ccb-483e702fa659",
   "metadata": {
    "tags": []
   },
   "outputs": [
    {
     "data": {
      "text/plain": [
       "array(['class2', 'class1', 'class2'], dtype=object)"
      ]
     },
     "execution_count": 12,
     "metadata": {},
     "output_type": "execute_result"
    }
   ],
   "source": [
    "#it also include the inverse:\n",
    "class_le.inverse_transform(y)"
   ]
  },
  {
   "cell_type": "markdown",
   "id": "c52847c2-ae64-49a9-8c0e-4a2475207cba",
   "metadata": {},
   "source": [
    "## Handling nominal categories\n",
    "\n",
    "Note that if the same techniques above that are used with ordinal data are then used with nominal data, then there is the possibility with some algorithms that the nominal categories are interpreted as ordinal.\n",
    "\n",
    "A way around this is *one-hot encoding* which to make the nominal categories into a series of boolean columns.  This is done below with the color column."
   ]
  },
  {
   "cell_type": "code",
   "execution_count": 13,
   "id": "1f9fd86d-ac12-4b8f-b1c5-673e4a1cff95",
   "metadata": {},
   "outputs": [
    {
     "data": {
      "text/plain": [
       "array([[0., 1., 0.],\n",
       "       [0., 0., 1.],\n",
       "       [1., 0., 0.]])"
      ]
     },
     "execution_count": 13,
     "metadata": {},
     "output_type": "execute_result"
    }
   ],
   "source": [
    "from sklearn.preprocessing import OneHotEncoder\n",
    "X = df[['color', 'size', 'price']].values\n",
    "color_ohe = OneHotEncoder()\n",
    "color_ohe.fit_transform(X[:, 0].reshape(-1, 1)).toarray() #use slice and reshape to only transform color column"
   ]
  },
  {
   "cell_type": "markdown",
   "id": "27e3c67b-b0c1-47f4-894a-9d0a6a0e1e4e",
   "metadata": {},
   "source": [
    "`ColumnTransformer` can also be used to passa transformer to only select columns"
   ]
  },
  {
   "cell_type": "code",
   "execution_count": 14,
   "id": "a48f59d2-a143-4879-b54f-4bfbb8cc4283",
   "metadata": {},
   "outputs": [
    {
     "data": {
      "text/plain": [
       "array([[ 0. ,  1. ,  0. , 10.1],\n",
       "       [ 0. ,  0. ,  1. , 13.5],\n",
       "       [ 1. ,  0. ,  0. , 15.3]])"
      ]
     },
     "execution_count": 14,
     "metadata": {},
     "output_type": "execute_result"
    }
   ],
   "source": [
    "from sklearn.compose import ColumnTransformer\n",
    "X = df[['color', 'size', 'price']].values\n",
    "#only apply the OneHotEncoder to the color column\n",
    "#passthrough for the other columns\n",
    "c_transf = ColumnTransformer([\n",
    "    ('onehot', OneHotEncoder(), [0]),\n",
    "    ('nothing', 'passthrough', [2])\n",
    "])\n",
    "c_transf.fit_transform(df).astype(float)"
   ]
  },
  {
   "cell_type": "markdown",
   "id": "7cbae2d5-d4f4-4c55-b041-e765cdc80903",
   "metadata": {},
   "source": [
    "pandas also has a `get_dummies` that performs the same:"
   ]
  },
  {
   "cell_type": "code",
   "execution_count": 15,
   "id": "0384f0d7-c02d-4b82-964f-34d7ec3f5521",
   "metadata": {},
   "outputs": [
    {
     "data": {
      "text/html": [
       "<div>\n",
       "<style scoped>\n",
       "    .dataframe tbody tr th:only-of-type {\n",
       "        vertical-align: middle;\n",
       "    }\n",
       "\n",
       "    .dataframe tbody tr th {\n",
       "        vertical-align: top;\n",
       "    }\n",
       "\n",
       "    .dataframe thead th {\n",
       "        text-align: right;\n",
       "    }\n",
       "</style>\n",
       "<table border=\"1\" class=\"dataframe\">\n",
       "  <thead>\n",
       "    <tr style=\"text-align: right;\">\n",
       "      <th></th>\n",
       "      <th>price</th>\n",
       "      <th>color_blue</th>\n",
       "      <th>color_green</th>\n",
       "      <th>color_red</th>\n",
       "      <th>size_L</th>\n",
       "      <th>size_M</th>\n",
       "      <th>size_XL</th>\n",
       "    </tr>\n",
       "  </thead>\n",
       "  <tbody>\n",
       "    <tr>\n",
       "      <th>0</th>\n",
       "      <td>10.1</td>\n",
       "      <td>0</td>\n",
       "      <td>1</td>\n",
       "      <td>0</td>\n",
       "      <td>0</td>\n",
       "      <td>1</td>\n",
       "      <td>0</td>\n",
       "    </tr>\n",
       "    <tr>\n",
       "      <th>1</th>\n",
       "      <td>13.5</td>\n",
       "      <td>0</td>\n",
       "      <td>0</td>\n",
       "      <td>1</td>\n",
       "      <td>1</td>\n",
       "      <td>0</td>\n",
       "      <td>0</td>\n",
       "    </tr>\n",
       "    <tr>\n",
       "      <th>2</th>\n",
       "      <td>15.3</td>\n",
       "      <td>1</td>\n",
       "      <td>0</td>\n",
       "      <td>0</td>\n",
       "      <td>0</td>\n",
       "      <td>0</td>\n",
       "      <td>1</td>\n",
       "    </tr>\n",
       "  </tbody>\n",
       "</table>\n",
       "</div>"
      ],
      "text/plain": [
       "   price  color_blue  color_green  color_red  size_L  size_M  size_XL\n",
       "0   10.1           0            1          0       0       1        0\n",
       "1   13.5           0            0          1       1       0        0\n",
       "2   15.3           1            0          0       0       0        1"
      ]
     },
     "execution_count": 15,
     "metadata": {},
     "output_type": "execute_result"
    }
   ],
   "source": [
    "pd.get_dummies(df[['price', 'color', 'size']])"
   ]
  },
  {
   "cell_type": "markdown",
   "id": "3fd560c4-1ad6-4f67-ab17-1b84bbc81727",
   "metadata": {},
   "source": [
    "Note that encoding introduces multi-colinearity which can cause a problem for methods that use matrix inversion.  One way to prevent this is to pass the `drop_first=True` to `get_dummies` and `drop='first'` to OneHotEncoder.\n",
    "\n",
    "In addition, there are other types of encoding; the following inportant ones are included in the [library `category_encodesr`](https://contrib.scikit-learn.org/category_encoders/):\n",
    "- [Binary encoding](https://contrib.scikit-learn.org/category_encoders/binary.html) : uses binary features like OneHotEncoder; however, it produces less columns: $\\log_2(K) < K-1$ where $K$ is the number of columns.\n",
    "- [Count encoding](https://contrib.scikit-learn.org/category_encoders/count.html) :  Replaces the category with the count of the category for the column\n",
    "\n",
    "These do not necessarily perform better than OneHotEncoder or `get_dummies`, but can be considered hyperparameters for a model.\n",
    "\n",
    "#### Option: encoding ordinal features\n",
    "\n",
    "Features can be categorized into bins of features.  For example x > M and x > L for shirt sizes.\n",
    "\n",
    "## Partitioning train and test sets\n",
    "\n",
    "Use `train_test_split`.  \n",
    "\n",
    "#### Choosing a good split \n",
    "- common splits are 60:40 to 80:20\n",
    "- larger datasets can be 90:10 to 99:1\n",
    "- once a model is finalized, it is often retrained on the whole dataset"
   ]
  },
  {
   "cell_type": "code",
   "execution_count": 16,
   "id": "264bf491-0f89-411f-9ceb-bb6a62271724",
   "metadata": {},
   "outputs": [],
   "source": [
    "df_wine = pd.read_csv('wine_data.csv').drop(columns = ['Unnamed: 0'])\n",
    "df_wine.columns = ['Class label', 'Alcohol',\n",
    "    'Malic acid', 'Ash',\n",
    "    'Alcalinity of ash', 'Magnesium',\n",
    "    'Total phenols', 'Flavanoids',\n",
    "    'Nonflavanoid phenols',\n",
    "    'Proanthocyanins',\n",
    "    'Color intensity', 'Hue',\n",
    "    'OD280/OD315 of diluted wines',\n",
    "    'Proline']"
   ]
  },
  {
   "cell_type": "code",
   "execution_count": 17,
   "id": "2de8f860-7f18-45b9-b501-58c5f95a2e76",
   "metadata": {},
   "outputs": [],
   "source": [
    "from sklearn.model_selection import train_test_split\n",
    "X, y = df_wine.iloc[:, 1:].values, df_wine.iloc[:, 0].values \n",
    "X_train, X_test, y_train, y_test = train_test_split(X, y,\n",
    "                 test_size=0.3,\n",
    "                 random_state=0,\n",
    "                 stratify=y)"
   ]
  },
  {
   "cell_type": "markdown",
   "id": "751cea53-212c-431a-b9b3-990ae9a85d93",
   "metadata": {
    "tags": []
   },
   "source": [
    "### Feature scaling\n",
    "\n",
    "Two common approaches:\n",
    "\n",
    "1. *normalization* : rescaling features to the range $[0.1]$ for example min-max scaling:\n",
    "$$\n",
    "    x_{norm}^{(i)} = \\frac{x^{(i)} - x_{min}}{x_{max} - x_{min}}\n",
    "$$"
   ]
  },
  {
   "cell_type": "code",
   "execution_count": 18,
   "id": "595aa981-18cd-4d99-8845-b8d24a629387",
   "metadata": {},
   "outputs": [],
   "source": [
    "from sklearn.preprocessing import MinMaxScaler \n",
    "mms = MinMaxScaler()\n",
    "X_train_norm = mms.fit_transform(X_train)\n",
    "X_test_norm = mms.transform(X_test)"
   ]
  },
  {
   "cell_type": "code",
   "execution_count": 19,
   "id": "5b037341-8a2b-4bbc-832a-61721a6addb4",
   "metadata": {},
   "outputs": [
    {
     "data": {
      "text/plain": [
       "array([[0.64619883, 0.83201581, 0.4248366 , 0.46236559, 0.27160494,\n",
       "        0.35172414, 0.09704641, 0.68      , 0.18987342, 0.23623446,\n",
       "        0.45744681, 0.28571429, 0.19400856],\n",
       "       [0.6871345 , 0.15612648, 0.65359477, 0.43548387, 0.7654321 ,\n",
       "        0.67931034, 0.50632911, 0.74      , 0.2943038 , 0.3250444 ,\n",
       "        0.81914894, 0.63369963, 0.68259629]])"
      ]
     },
     "execution_count": 19,
     "metadata": {},
     "output_type": "execute_result"
    }
   ],
   "source": [
    "X_train_norm[:2]"
   ]
  },
  {
   "cell_type": "markdown",
   "id": "75f6c488-d302-4b64-94b8-b44733cdb882",
   "metadata": {},
   "source": [
    "2. *standardization* : using the z value\n",
    "\n",
    "This is better for many optimization algorithms like gradient descent, as then the weights--when initialized--are learned more quickly.  In addition, it retains information about outliers.\n",
    "\n",
    "It can be performed manually and with `StandardScaler` in scikit-learn"
   ]
  },
  {
   "cell_type": "code",
   "execution_count": 20,
   "id": "3fbf2816-3084-4b00-a580-bbbbafaacbae",
   "metadata": {},
   "outputs": [
    {
     "name": "stdout",
     "output_type": "stream",
     "text": [
      "standardized: [-1.46385011 -0.87831007 -0.29277002  0.29277002  0.87831007  1.46385011]\n",
      "normalized: [0.  0.2 0.4 0.6 0.8 1. ]\n"
     ]
    }
   ],
   "source": [
    "ex = np.array([0, 1, 2, 3, 4, 5])\n",
    "print('standardized:', (ex - ex.mean()) / ex.std())\n",
    "print('normalized:', (ex - ex.min()) / (ex.max() - ex.min()))"
   ]
  },
  {
   "cell_type": "code",
   "execution_count": 21,
   "id": "61763b9e-205c-4d99-bcd6-4ada78a54302",
   "metadata": {},
   "outputs": [],
   "source": [
    "from sklearn.preprocessing import StandardScaler \n",
    "stdsc = StandardScaler()\n",
    "X_train_std = stdsc.fit_transform(X_train)\n",
    "X_test_std = stdsc.transform(X_test)"
   ]
  },
  {
   "cell_type": "code",
   "execution_count": 22,
   "id": "a4741813-bb1a-4dee-a3ca-0fc1c09cfb68",
   "metadata": {},
   "outputs": [
    {
     "data": {
      "text/plain": [
       "array([[ 0.71225893,  2.22048673, -0.13025864,  0.05962872, -0.50432733,\n",
       "        -0.52831584, -1.24000033,  0.84118003, -1.05215112, -0.29218864,\n",
       "        -0.20017028, -0.82164144, -0.62946362],\n",
       "       [ 0.88229214, -0.70457155,  1.17533605, -0.09065504,  2.34147876,\n",
       "         1.01675879,  0.66299475,  1.0887425 , -0.49293533,  0.13152077,\n",
       "         1.33982592,  0.54931269,  1.47568796]])"
      ]
     },
     "execution_count": 22,
     "metadata": {},
     "output_type": "execute_result"
    }
   ],
   "source": [
    "X_train_std[:2]"
   ]
  },
  {
   "cell_type": "markdown",
   "id": "ec6204d0-8c52-4d63-a5df-ccdb58ebfd37",
   "metadata": {},
   "source": [
    "Other options are:\n",
    "- `RobustScaler`: good for small datasets with many outliers and algorithms that are prone to overfitting\n",
    "    - Removes median values and scales according to the 1st and 3rd quartile\n",
    "    \n",
    "## Selecting meaningful features\n",
    "\n",
    "When a model does not generalize well, it is said to have *high variance* and that the model fits the training data too closely.  Common solutions are:\n",
    "- Collect more training data\n",
    "- regularization to penalize complexity\n",
    "- simpler model with less parameters\n",
    "- reduce data dimensionality\n",
    "\n",
    "### L1 and L2 regularization\n",
    "\n",
    "L2 regularization:\n",
    "$$\n",
    "    \\|w\\|^2_2 = \\sum_{j=1}^m w_j^2\n",
    "$$\n",
    "This penalizes large weights.\n",
    "Alternative L1 regularization\n",
    "$$\n",
    "    \\|w\\|_1 = \\sum_{j=1}^m |w_j|\n",
    "$$\n",
    "\n",
    "L1 regularization tends to yield sparese feature vectors as most weights will be zero; this can be helpful for high-dimensionality datasets with many irrelevant features.  L1 is then a form of feature selection.\n",
    "\n",
    "### L2 regularization geometry\n",
    "\n",
    "Consider the MSE; this is a spherical function (sum of squares of a difference) that we want to minimize.  L2 regularization adds a penalty: $\\lambda\\|w\\|^2_2$ to this loss function; especially large for large weights, making the MSE objective function \"harder\" to minimize. The larger the $\\lambda$, or regularization strength, we shrink weights towards zero to decrease reliance on the training set.  The L2 regularization penalty can be imagined as a sphere; the best value for regularization will therefore be where the L2 ball intersects the unpenalized loss function sphere.\n",
    "\n",
    "### L1 regularization and sparsity\n",
    "\n",
    "Instead of a sphere like L2 regularization, L1 uses a diamond with vertices on the axis of the plane.  Therefore, the intersection between the loss function and the L1 function are more likely to be on the axes.\n",
    "\n",
    "### Adding regularization to models\n",
    "\n",
    "Use the model's `penalty` parameter.  Note that not all optimization algorithms are compatable with `l1` regularization."
   ]
  },
  {
   "cell_type": "code",
   "execution_count": 23,
   "id": "c1ef63c8-b28c-4680-b64f-7f68c180513f",
   "metadata": {},
   "outputs": [
    {
     "name": "stdout",
     "output_type": "stream",
     "text": [
      "Training accuracy: 1.0\n",
      "Test accuracy: 1.0\n"
     ]
    }
   ],
   "source": [
    "from sklearn.linear_model import LogisticRegression\n",
    "lr = LogisticRegression(penalty='l1', C=1.0, solver='liblinear', multi_class='ovr')\n",
    "lr.fit(X_train_std, y_train)\n",
    "print('Training accuracy:', lr.score(X_train_std, y_train))\n",
    "print('Test accuracy:', lr.score(X_test_std, y_test))"
   ]
  },
  {
   "cell_type": "markdown",
   "id": "283c171c-bf78-4e0b-ab45-75c43d0550ee",
   "metadata": {},
   "source": [
    "Note that each intercept represents a fit to each class prediction as logistic regression uses a OvR for multiclass predictions."
   ]
  },
  {
   "cell_type": "code",
   "execution_count": 24,
   "id": "cfde3f96-2703-4b90-8c73-b62d636a2610",
   "metadata": {},
   "outputs": [
    {
     "data": {
      "text/plain": [
       "array([-1.26389344, -1.21542712, -2.37119006])"
      ]
     },
     "execution_count": 24,
     "metadata": {},
     "output_type": "execute_result"
    }
   ],
   "source": [
    "lr.intercept_ #this corresponds to the bias unit"
   ]
  },
  {
   "cell_type": "markdown",
   "id": "3ec31207-be44-47a0-a2e4-030b4e96c84e",
   "metadata": {},
   "source": [
    "The corresponding weights for each class show how only some of the features are selected."
   ]
  },
  {
   "cell_type": "code",
   "execution_count": 25,
   "id": "86731382-f4d0-4c43-907b-14eeb3ab03f3",
   "metadata": {},
   "outputs": [
    {
     "data": {
      "text/plain": [
       "array([[ 1.24618631,  0.18040846,  0.74616855, -1.16373131,  0.        ,\n",
       "         0.        ,  1.16015323,  0.        ,  0.        ,  0.        ,\n",
       "         0.        ,  0.55777749,  2.50854125],\n",
       "       [-1.5396405 , -0.38542762, -0.99587866,  0.36389711, -0.05897135,\n",
       "         0.        ,  0.66687406,  0.        ,  0.        , -1.93127088,\n",
       "         1.23875662,  0.        , -2.2328428 ],\n",
       "       [ 0.13576164,  0.16881011,  0.35729309,  0.        ,  0.        ,\n",
       "         0.        , -2.43727019,  0.        ,  0.        ,  1.56311626,\n",
       "        -0.81769926, -0.49384015,  0.        ]])"
      ]
     },
     "execution_count": 25,
     "metadata": {},
     "output_type": "execute_result"
    }
   ],
   "source": [
    "lr.coef_ #this is the weights vector"
   ]
  },
  {
   "cell_type": "markdown",
   "id": "4bde468b-38a2-4d9b-b47b-053ec4b202e6",
   "metadata": {},
   "source": [
    "Note that the weights are not sparse: more have non-zero values. More sparsity can be enforced by choosing a low `C` (inverse of the regularization strength) parameter.  Note in the graph below that a strong $\\lambda$ makes more of the parameters have weights of 0"
   ]
  },
  {
   "cell_type": "code",
   "execution_count": 26,
   "id": "21f1bc49-03c0-4e44-b3e1-2cc1f5ac1960",
   "metadata": {},
   "outputs": [
    {
     "data": {
      "image/png": "[encoded data removed]",
      "text/plain": [
       "<Figure size 432x288 with 1 Axes>"
      ]
     },
     "metadata": {
      "needs_background": "light"
     },
     "output_type": "display_data"
    }
   ],
   "source": [
    "import matplotlib.pyplot as plt\n",
    "fig = plt.figure()\n",
    "ax = plt.subplot(111)\n",
    "colors = ['blue', 'green', 'red', 'cyan', 'magenta', 'yellow', 'black', 'pink', 'lightgreen', 'lightblue', 'gray', 'indigo', 'orange']\n",
    "weights, params = [], []\n",
    "for c in np.arange(-4., 6.):\n",
    "    lr = LogisticRegression(penalty='l1', C=10.**c,solver='liblinear', multi_class='ovr', random_state=0)\n",
    "    lr.fit(X_train_std, y_train)\n",
    "    weights.append(lr.coef_[1]) \n",
    "    params.append(10**c)\n",
    "weights = np.array(weights)\n",
    "for column, color in zip(range(weights.shape[1]), colors):\n",
    "    plt.plot(params, weights[:, column],label=df_wine.columns[column + 1], color=color)\n",
    "plt.axhline(0, color='black', linestyle='--', linewidth=3) \n",
    "plt.xlim([10**(-5), 10**5])\n",
    "plt.ylabel('Weight coefficient')\n",
    "plt.xlabel('C (inverse regularization strength)') \n",
    "plt.xscale('log')\n",
    "plt.legend(loc='upper left')\n",
    "ax.legend(loc='upper center', bbox_to_anchor=(1.38, 1.03), ncol=1, fancybox=True) \n",
    "plt.show()"
   ]
  },
  {
   "cell_type": "markdown",
   "id": "fe77982a-84b6-4446-ad85-b518c07d4972",
   "metadata": {},
   "source": [
    "## Sequential feature selection algorithm\n",
    "\n",
    "- *dimensionality reduction* can help prevent overfitting.  There are two types:\n",
    "    - *feature selection* : select a subset of features\n",
    "    - *feature extraction* : derive information from features to make a new feature subspace\n",
    "- this is useful in algorithms that do not support regularization\n",
    "\n",
    "Sequential feature extraction tries to reduce a $d$-dimensional space to a $k$-dimensional space where $d > k$.  This is done by algorthmically selecting a subset of meaningful features.  A common algorithm is *sequential backward selection*; sequential backward selection uses a criterion function, $J$, that is minimized to remove features until a desired size subset is formed.\n",
    "\n",
    "The algorithm is summarized as follows:\n",
    "1. Initialize with $k=d$ where $d$ is the dimensionality of the full feature space, $X_d$\n",
    "2. Determine the feature, $x^-$, which maximizes $\\text{argmax}J(X_k - X)$ where $x \\in X_k$\n",
    "3. Remove $x^-$ and set $X_{k-1} = X_k - x^-$ and $k = k-1$\n",
    "4. Continue or terminate if $k$ is the desired dimensionality\n",
    "\n",
    "### Implementing sequential backward selection in python"
   ]
  },
  {
   "cell_type": "code",
   "execution_count": 31,
   "id": "8a592a39-e861-4c70-b322-296f33962d19",
   "metadata": {},
   "outputs": [],
   "source": [
    "from sklearn.base import clone\n",
    "from itertools import combinations\n",
    "import numpy as np\n",
    "from sklearn.metrics import accuracy_score\n",
    "from sklearn.model_selection import train_test_split\n",
    "\n",
    "class SBS:\n",
    "    def __init__(self, estimator, k_features, scoring=accuracy_score, test_size = 0.25, random_state=1):\n",
    "        self.scoring = scoring #scoring metric\n",
    "        self.estimator = clone(estimator) #model used\n",
    "        self.k_features = k_features #number of features to reduce to\n",
    "        self.test_size = test_size #split size\n",
    "        self.random_state = random_state\n",
    "        \n",
    "    def fit(self, X, y):\n",
    "        #split\n",
    "        X_train, X_test, y_train, y_test = train_test_split(X, y, test_size = self.test_size, random_state = self.random_state)\n",
    "        #outside of the wile loop, the algorithm is initialized with k = d\n",
    "        #get dimenstions of the feature space\n",
    "        dim = X_train.shape[1]\n",
    "        #make indices\n",
    "        self.indices_ = tuple(range(dim))\n",
    "        #get the subsets of indices\n",
    "        self.subsets_ = [self.indices_]\n",
    "        #score the initial whole set.  this is used to evaluate the subsets\n",
    "        score = self._calc_score(X_train, y_train, X_test, y_test, self.indices_)\n",
    "        self.scores_ = [score]\n",
    "        # while loop will run until the number of dimensions is reduced to \n",
    "        # the desired k_features\n",
    "        while dim > self.k_features:\n",
    "            scores = []\n",
    "            subsets = []\n",
    "            #feature subsets; get a combination of features that is size r\n",
    "            for p in combinations(self.indices_, r = dim -1):\n",
    "                #score the subset\n",
    "                score = self._calc_score(X_train, y_train, X_test, y_test, p)\n",
    "                scores.append(score)\n",
    "                subsets.append(p)\n",
    "            #calculate the inputs of the best scoring\n",
    "            best = np.argmax(scores)\n",
    "            self.indices_ = subsets[best]\n",
    "            self.subsets_.append(self.indices_)\n",
    "            #reduce until dim = k_features\n",
    "            dim -= 1\n",
    "            self.scores_.append(scores[best])\n",
    "        self.k_score_ = self.scores_[-1]\n",
    "        return self\n",
    "    \n",
    "    def transform(self, X):\n",
    "        return X[:, self.indices_]\n",
    "    \n",
    "    def _calc_score(self, X_train, y_train, X_test, y_test, indices):\n",
    "        self.estimator.fit(X_train[:, indices], y_train)\n",
    "        y_pred = self.estimator.predict(X_test[:, indices])\n",
    "        score = self.scoring(y_test, y_pred)\n",
    "        return score"
   ]
  },
  {
   "cell_type": "markdown",
   "id": "ad43ea87-62f2-4be9-9578-95d9654e46c4",
   "metadata": {},
   "source": [
    "Note that even though there is a test/train split in the SBS class, the dataset passed to the class is already split. This prevents leaking the original test data into the training of a model.  \n",
    "\n",
    "The KNN algorithm looks like it just needs three features:"
   ]
  },
  {
   "cell_type": "code",
   "execution_count": 33,
   "id": "2321e9ff-ffa1-43be-826c-63b601d0a94a",
   "metadata": {},
   "outputs": [
    {
     "data": {
      "image/png": "[encoded data removed]",
      "text/plain": [
       "<Figure size 432x288 with 1 Axes>"
      ]
     },
     "metadata": {
      "needs_background": "light"
     },
     "output_type": "display_data"
    }
   ],
   "source": [
    "from sklearn.neighbors import KNeighborsClassifier \n",
    "knn = KNeighborsClassifier(n_neighbors=5)\n",
    "sbs = SBS(knn, k_features=1)\n",
    "sbs.fit(X_train_std, y_train)\n",
    "\n",
    "#see how the algorithm performs for each subset of the features\n",
    "k_feat = [len(k) for k in sbs.subsets_] \n",
    "plt.plot(k_feat, sbs.scores_, marker='o') \n",
    "plt.ylim([0.7, 1.02])\n",
    "plt.ylabel('Accuracy')\n",
    "plt.xlabel('Number of features') \n",
    "plt.grid()\n",
    "plt.tight_layout()\n",
    "plt.show()"
   ]
  },
  {
   "cell_type": "markdown",
   "id": "d05cdae3-bd63-43ed-9c27-075631da6a62",
   "metadata": {},
   "source": [
    "What are these three features?"
   ]
  },
  {
   "cell_type": "code",
   "execution_count": 34,
   "id": "c3809b0a-e86a-4c65-9dc4-5e49fff9dd97",
   "metadata": {},
   "outputs": [
    {
     "name": "stdout",
     "output_type": "stream",
     "text": [
      "Index(['Alcohol', 'Malic acid', 'OD280/OD315 of diluted wines'], dtype='object')\n"
     ]
    }
   ],
   "source": [
    "k3 = list(sbs.subsets_[10]) \n",
    "print(df_wine.columns[1:][k3])"
   ]
  },
  {
   "cell_type": "markdown",
   "id": "350553f9-e697-4dd3-bc5e-ac7226c7facd",
   "metadata": {},
   "source": [
    "Evaluate on the orignal data set:"
   ]
  },
  {
   "cell_type": "code",
   "execution_count": 35,
   "id": "1ae3a5d4-d926-4c7d-929d-3277b4f50a55",
   "metadata": {},
   "outputs": [
    {
     "name": "stdout",
     "output_type": "stream",
     "text": [
      "Training accuracy: 0.967741935483871\n",
      "Test accuracy: 0.9629629629629629\n"
     ]
    }
   ],
   "source": [
    "#for all the features\n",
    "knn.fit(X_train_std, y_train)\n",
    "print('Training accuracy:', knn.score(X_train_std, y_train))\n",
    "print('Test accuracy:', knn.score(X_test_std, y_test))"
   ]
  },
  {
   "cell_type": "code",
   "execution_count": 36,
   "id": "62a20ac7-a98a-4c61-adfc-c7951f1bb579",
   "metadata": {},
   "outputs": [
    {
     "name": "stdout",
     "output_type": "stream",
     "text": [
      "Training accuracy: 0.9516129032258065\n",
      "Test accuracy: 0.9259259259259259\n"
     ]
    }
   ],
   "source": [
    "#for the 3 best features\n",
    "knn.fit(X_train_std[:, k3], y_train)\n",
    "print('Training accuracy:', knn.score(X_train_std[:, k3], y_train))\n",
    "print('Test accuracy:',knn.score(X_test_std[:, k3], y_test))"
   ]
  },
  {
   "cell_type": "markdown",
   "id": "53a59d49-583a-450f-a83a-35a38a71b0bc",
   "metadata": {},
   "source": [
    "Even though there is a decline in the accuracy, the dimensions are reduced from 14 features to 3.  Not only does less data need to be collected, but the computational complexity is decreased.\n",
    "\n",
    "## Feature importance using random forests\n",
    "\n",
    "Feature importance here is the average impurity decrease for a feature over dataset. The `RandomForestClassifier` in scikit-learn has the attribute `feature_importances_` that can be accessed."
   ]
  },
  {
   "cell_type": "code",
   "execution_count": 39,
   "id": "9b6fcef3-9a0c-4631-bc4a-6d77e89d9e33",
   "metadata": {},
   "outputs": [
    {
     "name": "stdout",
     "output_type": "stream",
     "text": [
      " 1) Proline                        0.185453\n",
      " 2) Flavanoids                     0.174751\n",
      " 3) Color intensity                0.143920\n",
      " 4) OD280/OD315 of diluted wines   0.136162\n",
      " 5) Alcohol                        0.118529\n",
      " 6) Hue                            0.058739\n",
      " 7) Total phenols                  0.050872\n",
      " 8) Magnesium                      0.031357\n",
      " 9) Malic acid                     0.025648\n",
      "10) Proanthocyanins                0.025570\n",
      "11) Alcalinity of ash              0.022366\n",
      "12) Nonflavanoid phenols           0.013354\n",
      "13) Ash                            0.013279\n"
     ]
    }
   ],
   "source": [
    "from sklearn.ensemble import RandomForestClassifier \n",
    "feat_labels = df_wine.columns[1:]\n",
    "forest = RandomForestClassifier(n_estimators=500, random_state=1)\n",
    "forest.fit(X_train, y_train)\n",
    "importances = forest.feature_importances_\n",
    "indices = np.argsort(importances)[::-1]\n",
    "for f in range(X_train.shape[1]):\n",
    "    print(\"%2d) %-*s %f\" % (f + 1, 30,\n",
    "    feat_labels[indices[f]],\n",
    "    importances[indices[f]]))"
   ]
  },
  {
   "cell_type": "code",
   "execution_count": 40,
   "id": "3403be7b-3e8b-46b5-a5a4-ea109c4f72bd",
   "metadata": {},
   "outputs": [
    {
     "data": {
      "image/png": "[encoded data removed]",
      "text/plain": [
       "<Figure size 432x288 with 1 Axes>"
      ]
     },
     "metadata": {
      "needs_background": "light"
     },
     "output_type": "display_data"
    }
   ],
   "source": [
    "plt.title('Feature importance')\n",
    "plt.bar(range(X_train.shape[1]), importances[indices], align='center')\n",
    "plt.xticks(range(X_train.shape[1]), feat_labels[indices], rotation=90) \n",
    "plt.xlim([-1, X_train.shape[1]])\n",
    "plt.tight_layout()\n",
    "plt.show()"
   ]
  },
  {
   "cell_type": "markdown",
   "id": "58b1447c-95f6-4ce1-9f39-fa128753346a",
   "metadata": {},
   "source": [
    "Note the overlap with SBS: 2 of the top 5 random features are shared.  Note however that impurity might not catch highly correlated features. \n",
    "\n",
    "Scikit-learn also implements `SelectFromModel` to select features from a set threshold; this can be used as a feature selector in a pipeline.  For example, if a Random Forest is used as a feature selector for another model."
   ]
  },
  {
   "cell_type": "code",
   "execution_count": 43,
   "id": "52625d46-10f3-4d78-8685-26550d193b31",
   "metadata": {},
   "outputs": [
    {
     "name": "stdout",
     "output_type": "stream",
     "text": [
      "Number of features that meet this threshold criterion: 5\n",
      " 1) Proline                        0.185453\n",
      " 2) Flavanoids                     0.174751\n",
      " 3) Color intensity                0.143920\n",
      " 4) OD280/OD315 of diluted wines   0.136162\n",
      " 5) Alcohol                        0.118529\n"
     ]
    }
   ],
   "source": [
    "from sklearn.feature_selection import SelectFromModel \n",
    "sfm = SelectFromModel(forest, threshold=0.1, prefit=True) \n",
    "X_selected = sfm.transform(X_train)\n",
    "print(f'Number of features that meet this threshold criterion: {X_selected.shape[1]}')\n",
    "for f in range(X_selected.shape[1]):\n",
    "    print(\"%2d) %-*s %f\" % (f + 1, 30,\n",
    "                        feat_labels[indices[f]],\n",
    "                        importances[indices[f]]))"
   ]
  },
  {
   "cell_type": "code",
   "execution_count": null,
   "id": "52279c51-6496-4af4-9b96-f2d58862a40f",
   "metadata": {},
   "outputs": [],
   "source": []
  }
 ],
 "metadata": {
  "kernelspec": {
   "display_name": "Python 3 (ipykernel)",
   "language": "python",
   "name": "python3"
  },
  "language_info": {
   "codemirror_mode": {
    "name": "ipython",
    "version": 3
   },
   "file_extension": ".py",
   "mimetype": "text/x-python",
   "name": "python",
   "nbconvert_exporter": "python",
   "pygments_lexer": "ipython3",
   "version": "3.9.12"
  }
 },
 "nbformat": 4,
 "nbformat_minor": 5
}
