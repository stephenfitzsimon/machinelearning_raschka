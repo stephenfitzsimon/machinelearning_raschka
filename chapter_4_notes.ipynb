{
 "cells": [
  {
   "cell_type": "markdown",
   "id": "3d09f0f9-4d1e-462e-84bf-5395e7edeee6",
   "metadata": {},
   "source": [
    "# Chapter 4\n",
    "## Building good training datasets - data preprocessing"
   ]
  },
  {
   "cell_type": "code",
   "execution_count": null,
   "id": "1d67ed5a-7e3e-4063-ac39-42d06d748403",
   "metadata": {},
   "outputs": [],
   "source": []
  }
 ],
 "metadata": {
  "kernelspec": {
   "display_name": "Python 3 (ipykernel)",
   "language": "python",
   "name": "python3"
  },
  "language_info": {
   "codemirror_mode": {
    "name": "ipython",
    "version": 3
   },
   "file_extension": ".py",
   "mimetype": "text/x-python",
   "name": "python",
   "nbconvert_exporter": "python",
   "pygments_lexer": "ipython3",
   "version": "3.9.12"
  }
 },
 "nbformat": 4,
 "nbformat_minor": 5
}
