{
 "cells": [
  {
   "cell_type": "markdown",
   "id": "a4d27690-8573-486b-b3e4-be0060773a5a",
   "metadata": {},
   "source": [
    "# Chapter 10 - Working with unlabled data: clustering analysis\n",
    "\n",
    "*Unsupervised learning*: techniques of finding patters in data that is unlabeled.\n",
    "\n",
    "*Clustering*: an unsupervised learning technique that finds groups of data that are similar.\n",
    "\n",
    "Other important points:\n",
    "- *K-means* to find centers of similarities in data\n",
    "- Bottom-up approach of clustering using hierachical clustering tress\n",
    "- Finding arbitrary shapes in data using density based clustering\n",
    "\n",
    "## Grouping objects by similarity using k-means\n",
    "\n"
   ]
  }
 ],
 "metadata": {
  "kernelspec": {
   "display_name": "Python 3 (ipykernel)",
   "language": "python",
   "name": "python3"
  },
  "language_info": {
   "codemirror_mode": {
    "name": "ipython",
    "version": 3
   },
   "file_extension": ".py",
   "mimetype": "text/x-python",
   "name": "python",
   "nbconvert_exporter": "python",
   "pygments_lexer": "ipython3",
   "version": "3.9.12"
  }
 },
 "nbformat": 4,
 "nbformat_minor": 5
}
