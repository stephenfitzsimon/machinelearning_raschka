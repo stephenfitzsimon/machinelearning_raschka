{
 "cells": [
  {
   "cell_type": "markdown",
   "id": "480b3a96-0ed4-4d26-9bdb-8803a497f299",
   "metadata": {},
   "source": [
    "# Chapter 9: Predicting Continuous Target Variables with Regression Analysis\n",
    "\n",
    "*Regression analysis* predict a continuous dependent variable.\n",
    "\n",
    "## Introducing Linear Regression\n",
    "\n",
    "### Simple Linear Regression\n",
    "\n",
    "This is also called *univariate* regression because it models a single feature (called the *explanatory variable*) to predict a continuous *target* (*response varibale*). The relation is mapped as a line:\n",
    "$$\n",
    "    y = w_1x+b\n",
    "$$\n",
    "Where $b$, the bias variable, is the y-intercept, and $w_1$ is the weight coefficient.  This finds the best fit straight line through the training example. This line is called the *regresison line* with the *vertical offset* (or *residuals*) defined as \n",
    "$$\n",
    "    | \\hat{y} - y |\n",
    "$$\n",
    "\n",
    "### Multiple Linear Regression\n",
    "\n",
    "*Multiple linear regression* is a generalization to higher dimensions:\n",
    "$$\n",
    "    y = \\sum_{i = 1}^m w_ix_i + b = w^Tx + b\n",
    "$$\n",
    "\n",
    "This generalization uses the same evaluation and concepts as simple linear regression."
   ]
  },
  {
   "cell_type": "code",
   "execution_count": null,
   "id": "1db36830-de48-4f1d-b30d-b6a3ab0c56be",
   "metadata": {},
   "outputs": [],
   "source": []
  }
 ],
 "metadata": {
  "kernelspec": {
   "display_name": "Python 3 (ipykernel)",
   "language": "python",
   "name": "python3"
  },
  "language_info": {
   "codemirror_mode": {
    "name": "ipython",
    "version": 3
   },
   "file_extension": ".py",
   "mimetype": "text/x-python",
   "name": "python",
   "nbconvert_exporter": "python",
   "pygments_lexer": "ipython3",
   "version": "3.9.12"
  }
 },
 "nbformat": 4,
 "nbformat_minor": 5
}
