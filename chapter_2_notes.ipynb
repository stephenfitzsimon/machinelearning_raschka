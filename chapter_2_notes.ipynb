{
 "cells": [
  {
   "cell_type": "markdown",
   "id": "f7826b89-b802-4de5-b628-843cfcf4e181",
   "metadata": {},
   "source": [
    "# Chapter 2\n",
    "## Training simple machine learning algorithms for classification\n",
    "\n",
    "### Formal definition of an artificial neuron (Rosenblatt)\n",
    "\n",
    "#### Decision function\n",
    "Define the decision function as a step function:\n",
    "$$\\sigma(z) = \\left\\{\n",
    "                    \\begin{array}{ll}\n",
    "                        1 & \\quad z \\geq \\theta \\\\\n",
    "                        0 & \\quad \\text{otherwise}\n",
    "                    \\end{array}\n",
    "                \\right.\n",
    "$$\n",
    "Where $\\theta$ is a defined threshold\n",
    "\n",
    "The function argument (aka *net input*) is defined as:\n",
    "$$\n",
    "    z = \\vec{x} \\cdot \\vec{w}\n",
    "$$\n",
    "Where $\\vec{x}$ is a training input and $\\vec{w}$ is a weight vector\n",
    "\n",
    "<a href = 'matrix_dot'></a>\n",
    "Rewrite in matrix multiplication:\n",
    "$$\n",
    "    z = \\bf{x}^T\\bf{w} = \\sum_{m} x_iw_i\n",
    "$$\n",
    "\n",
    "#### The bias unit\n",
    "We can rewrite the $\\sigma(z)$ condition as\n",
    "$$\n",
    "    z \\geq \\theta \\implies z - \\theta \\geq 0\n",
    "$$\n",
    "\n",
    "and define the bias unit as \n",
    "$$\n",
    "    b = - \\theta\n",
    "$$\n",
    "\n",
    "Which means\n",
    "$$\n",
    "    z = \\bf{x}^T\\bf{w} + b\n",
    "$$\n",
    "\n",
    "#### Final form of the decision function $\\sigma$\n",
    "Using the bias unit we can write $\\sigma(z)$ as\n",
    "$$\\sigma(z) = \\left\\{\n",
    "                    \\begin{array}{ll}\n",
    "                        1 & \\quad z \\geq 0 \\\\\n",
    "                        0 & \\quad \\text{otherwise}\n",
    "                    \\end{array}\n",
    "                \\right.\n",
    "$$\n",
    "\n",
    "### The perceptrion training rule using the $\\sigma(z)$ decision function\n",
    "In order to train $\\sigma(z)$ we need to determine $\\bf{w}$ by the following algorithm:\n",
    "1. Initialize $\\bf{w}$ and $\\bf{b}$ as zero or random weights (usually small)\n",
    "2. For every training example $\\bf{x}^{(i)}$ compute a predicted class value $\\hat{y}^{(i)}$ then update $\\bf{w}$ and $\\bf{b}$ based on correct classification.\n",
    "\n",
    "The change in the weight and the bias unit is defined by:\n",
    "$$\n",
    "\\Delta\\bf{w}_j = \\eta(y^{(i)} - \\hat{y}^{(i)})x_j^{(i)}\n",
    "$$ \n",
    "where $w_j$ is the jth weight corresponding to the $x_j$ feature in the training sample and \n",
    "$$\n",
    "\\Delta\\bf{b} = \\eta(y^{(i)} - \\hat{y}^{(i)})\n",
    "$$\n",
    "(NB: $\\eta$ is the learning weight, a hyperparameter; and $y^{(i)}$ is the true value for the ith training example)\n",
    "\n",
    "Note that this algorithm can only predict on datasets where the points are linearly seperable.\n",
    "\n",
    "### Implementing the perceptron in python"
   ]
  },
  {
   "cell_type": "code",
   "execution_count": 4,
   "id": "b84e3d9a-424d-4e8c-912a-6e7501727718",
   "metadata": {},
   "outputs": [],
   "source": [
    "import numpy as np\n",
    "import pydataset as pydata\n",
    "import pandas as pd\n",
    "import matplotlib.pyplot as plt"
   ]
  },
  {
   "cell_type": "code",
   "execution_count": 5,
   "id": "f751396e-a6f4-44ec-b6cb-8d4df247a30a",
   "metadata": {},
   "outputs": [],
   "source": [
    "class Perceptron:\n",
    "    \n",
    "    def __init__(self, eta = 0.01, n_iter = 50, random_state = 1):\n",
    "        self.eta = eta #learning rate\n",
    "        self.n_iter = n_iter #number of epochs\n",
    "        self.random_state = random_state #random state to initialize weights\n",
    "        \n",
    "    def fit(self, X, y):\n",
    "        #X is a collection of training vectors and y is a collection of correct classifications\n",
    "        #set initial weight and bias unit\n",
    "        rgen = np.random.RandomState(self.random_state)\n",
    "        # initialize weights as small, normally distributed, random values\n",
    "        self.w_ = rgen.normal(loc = 0.0, scale = 0.01, size = X.shape[1])\n",
    "        #bias unit is set to zero initially\n",
    "        self.b_ = np.float_(0.)\n",
    "        #list to hold misclassified items\n",
    "        self.errors_ = list()\n",
    "        #move through the epochs\n",
    "        for _ in range(self.n_iter):\n",
    "            errors = 0\n",
    "            #move through each traning example and pair it with the correct target\n",
    "            for xi, target in zip(X, y):\n",
    "                #compute the update multiplier\n",
    "                update = self.eta * (target - self.predict(xi))\n",
    "                #update the weights\n",
    "                self.w_ += update * xi\n",
    "                #update the bias unit\n",
    "                self.b_ += update\n",
    "                #check if there was an error,\n",
    "                # if the update wasn't zero, get a boolean represented by 0 or 1\n",
    "                errors += int(update != 0.0)\n",
    "            self.errors_.append(errors)\n",
    "        return self\n",
    "    \n",
    "    def net_input(self, X):\n",
    "        #calculates teh dot product to get the z for the decision function\n",
    "        return np.dot(X, self.w_) + self.b_\n",
    "    \n",
    "    def predict(self, X):\n",
    "        #the decision function\n",
    "        return np.where(self.net_input(X) >= 0.0, 1, 0)"
   ]
  },
  {
   "cell_type": "code",
   "execution_count": 6,
   "id": "d4352ed4-947a-4504-9fd3-c96ea1584015",
   "metadata": {},
   "outputs": [],
   "source": [
    "## use perceptron class to predict on iris\n",
    "#get data set\n",
    "df = pydata.data('iris')\n",
    "# select setosa and versicolor only for one-versus-one predictions\n",
    "y = df.iloc[0:100, 4].values\n",
    "y = np.where(y == 'setosa', 0, 1)\n",
    "# get data rows for sepal length and petal length\n",
    "X = df.iloc[0:100, [0, 2]].values"
   ]
  },
  {
   "cell_type": "code",
   "execution_count": 7,
   "id": "58c0d474-38c0-4e66-a2ad-e916fef5fe33",
   "metadata": {},
   "outputs": [
    {
     "data": {
      "image/png": "[encoded data removed]",
      "text/plain": [
       "<Figure size 432x288 with 1 Axes>"
      ]
     },
     "metadata": {
      "needs_background": "light"
     },
     "output_type": "display_data"
    }
   ],
   "source": [
    "#plot extracted data\n",
    "plt.scatter(X[:50, 0], X[:50, 1],\n",
    "color='red', marker='o', label='Setosa')\n",
    "plt.scatter(X[50:100, 0], X[50:100, 1],\n",
    "color='blue', marker='s', label='Versicolor')\n",
    "plt.xlabel('Sepal length [cm]')\n",
    "plt.ylabel('Petal length [cm]')\n",
    "plt.legend(loc='upper left')\n",
    "plt.show()"
   ]
  },
  {
   "cell_type": "code",
   "execution_count": 8,
   "id": "c3822b91-cddf-4395-9ed2-ce7b9fe8afe2",
   "metadata": {},
   "outputs": [
    {
     "data": {
      "text/plain": [
       "<__main__.Perceptron at 0x7ff6f95adcd0>"
      ]
     },
     "execution_count": 8,
     "metadata": {},
     "output_type": "execute_result"
    }
   ],
   "source": [
    "# make perceptron object\n",
    "ppn = Perceptron(eta = 0.1, n_iter = 10)\n",
    "# fit the perceptron object\n",
    "ppn.fit(X, y)"
   ]
  },
  {
   "cell_type": "code",
   "execution_count": 9,
   "id": "9732d210-b85c-4fc2-9c4c-eec1facecc0b",
   "metadata": {},
   "outputs": [
    {
     "data": {
      "image/png": "[encoded data removed]",
      "text/plain": [
       "<Figure size 432x288 with 1 Axes>"
      ]
     },
     "metadata": {
      "needs_background": "light"
     },
     "output_type": "display_data"
    }
   ],
   "source": [
    "# plot the epochs\n",
    "plt.plot(range(1, len(ppn.errors_) + 1), ppn.errors_, marker='o')\n",
    "plt.xlabel('Epochs')\n",
    "plt.ylabel('Number of updates')\n",
    "plt.show()"
   ]
  },
  {
   "cell_type": "code",
   "execution_count": 10,
   "id": "71879bf3-e6d2-4926-8f5f-8a72dd9c845c",
   "metadata": {},
   "outputs": [
    {
     "data": {
      "image/png": "[encoded data removed]",
      "text/plain": [
       "<Figure size 432x288 with 1 Axes>"
      ]
     },
     "metadata": {
      "needs_background": "light"
     },
     "output_type": "display_data"
    }
   ],
   "source": [
    "from matplotlib.colors import ListedColormap\n",
    "def plot_decision_regions(X, y, classifier, resolution=0.02):\n",
    "    # setup marker generator and color map\n",
    "    markers = ('o', 's', '^', 'v', '<')\n",
    "    colors = ('red', 'blue', 'lightgreen', 'gray', 'cyan')\n",
    "    cmap = ListedColormap(colors[:len(np.unique(y))])\n",
    "    # plot the decision surface\n",
    "    x1_min, x1_max = X[:, 0].min() - 1, X[:, 0].max() + 1\n",
    "    x2_min, x2_max = X[:, 1].min() - 1, X[:, 1].max() + 1\n",
    "    xx1, xx2 = np.meshgrid(np.arange(x1_min, x1_max, resolution),\n",
    "                           np.arange(x2_min, x2_max, resolution))\n",
    "    lab = classifier.predict(np.array([xx1.ravel(), xx2.ravel()]).T)\n",
    "    lab = lab.reshape(xx1.shape)\n",
    "    plt.contourf(xx1, xx2, lab, alpha=0.3, cmap=cmap)\n",
    "    plt.xlim(xx1.min(), xx1.max())\n",
    "    plt.ylim(xx2.min(), xx2.max())\n",
    "    # plot class examples\n",
    "    for idx, cl in enumerate(np.unique(y)):\n",
    "        plt.scatter(x=X[y == cl, 0],\n",
    "                    y=X[y == cl, 1],\n",
    "                    alpha=0.8,\n",
    "                    c=colors[idx],\n",
    "                    marker=markers[idx],\n",
    "                    label=f'Class {cl}',\n",
    "                    edgecolor='black')\n",
    "\n",
    "plot_decision_regions(X,y,ppn)"
   ]
  },
  {
   "cell_type": "markdown",
   "id": "0c9bd95b-ee73-49b8-a9ab-db15658fe649",
   "metadata": {
    "tags": []
   },
   "source": [
    "## Implementing Adaline\n",
    "\n",
    "- Adaline = ADAptive LInear NEuron\n",
    "- Uses the Widrow-Hoff (aka Adaline) Rule: the input function updates weights based on a continuous *activation* function, in this case, the identity function.  The activation's functions output is used to compute the error, which then determines the weight updates\n",
    "- The final prediction still uses the threshold function for the final prediciton\n",
    "\n",
    "### Minimizing Loss Function with Gradient Descent\n",
    "\n",
    "- Weights are updated through a defined *objective function* which is optimized during the learning process\n",
    "- An advantage of this objective function is that it is differentiable and convex, allowing for ease of finding local minimums to optimize it via *gradient descent*\n",
    "- *Gradient descent* takes the negative of the gradient of the function and stepping in that direction (see: https://en.wikipedia.org/wiki/Gradient_descent)\n",
    "- For Adaline this is the Mean Square Error:\n",
    "$$\n",
    "    L(w, b) = \\frac{1}{2n}\\sum_{i=1}^n (y^{(i)} - \\sigma(z^{(i)}))^2\n",
    "$$\n",
    "\n",
    "Update of the weights and bias unit becomes:\n",
    "$$\n",
    "    \\Delta w = -\\eta\\nabla_w L(w, b), \\Delta b = -\\eta\\nabla_b L(w, b)\n",
    "$$\n",
    "\n",
    "Recall that the gradient is calculated as:\n",
    "$$\n",
    "    \\nabla f(p) = \\begin{bmatrix} \\frac{\\partial f}{\\partial x_1}(p) \\\\ \\vdots \\\\ \\frac{\\partial f}{\\partial x_n}(p) \\end{bmatrix}\n",
    "$$\n",
    "\n",
    "Derivation:\n",
    "$$\n",
    "    \\frac{\\partial L}{\\partial w_j} = \\frac{\\partial}{\\partial w_j} \\frac{1}{n} \\sum_{i=1}^n (y^{(i)} - \\sigma(z^{(i)}))^2\n",
    "$$\n",
    "\n",
    "Move constant multilier outside of derivative and apply the [chain rule](https://en.wikipedia.org/wiki/Chain_rule):\n",
    "\n",
    "$$\n",
    "    \\frac{\\partial L}{\\partial w_j} = \\frac{2}{n} \\sum_{i=1}^n (y^{(i)} - \\sigma(z^{(i)}))^2 \\frac{\\partial}{\\partial w_j} (y^{(i)} - \\sigma(z^{(i)}))^2\n",
    "$$\n",
    "\n",
    "Derivative of a constant is 0, and the derivative of x is 1 (note minus sign before the summation):\n",
    "\n",
    "$$\n",
    "    \\frac{\\partial L}{\\partial w_j} = \\frac{2}{n} \\sum_{i=1}^n (y^{(i)} - \\sigma(z^{(i)}))^2 (-x^{(i)}_j) = - \\frac{2}{n} \\sum_{i=1}^n (y^{(i)} - \\sigma(z^{(i)}))^2 (x^{(i)}_j) = -\\eta\\frac{\\partial L}{\\partial w_j} \n",
    "$$\n",
    "\n",
    "Therefore:\n",
    "\n",
    "$$\n",
    "    \\Delta w_j = - \\frac{2}{n} \\sum_{i=1}^n (y^{(i)} - \\sigma(z^{(i)}))^2 (x^{(i)}_j) = -\\eta\\frac{\\partial L}{\\partial w_j} \n",
    "$$\n",
    "\n",
    "By a similar process:\n",
    "\n",
    "$$\n",
    "    \\Delta b = - \\frac{2}{n} \\sum_i (y^{(i)} - \\sigma(z^{(i)})) = -\\eta\\frac{\\partial L}{\\partial b} \n",
    "$$\n",
    "\n",
    "Note that the summation means that all of the parameters simultaneously.  Updateing the weights simultaneously for all the training examples is called *batch gradient descent*, and *full batch gradient descent*.\n",
    "\n",
    "## Implementing Adaline in python with numpy\n",
    "\n",
    "- similar to the perceptron implementation\n",
    "- need to change the `fit` method in order to use the gradient descent method\n",
    "- note that `fit` now has a single for loop because of the full batch gradient descent, which uses the whole training data set\n",
    "- the weight update could be updated individually via a `for` loop; but this is rewritten as a dot product (see <a href='#matrix_dot'>here</a> for info)"
   ]
  },
  {
   "cell_type": "code",
   "execution_count": 14,
   "id": "0c7949a1-66e2-4fef-80a7-4efc4a3e2038",
   "metadata": {},
   "outputs": [],
   "source": [
    "class AdalineGD:\n",
    "    \n",
    "    def __init__(self, eta = 0.01, n_iter = 50, random_state = 1):\n",
    "        self.eta = eta #learning rate\n",
    "        self.n_iter = n_iter #number of epochs\n",
    "        self.random_state = random_state #random state to initialize weights\n",
    "        \n",
    "    def fit(self, X, y):\n",
    "        #X is a collection of training vectors and y is a collection of correct classifications\n",
    "        #set initial weight and bias unit\n",
    "        rgen = np.random.RandomState(self.random_state)\n",
    "        # initialize weights as small, normally distributed, random values\n",
    "        self.w_ = rgen.normal(loc = 0.0, scale = 0.01, size = X.shape[1])\n",
    "        #bias unit is set to zero initially\n",
    "        self.b_ = np.float_(0.)\n",
    "        #list to hold the loss function outputs\n",
    "        self.losses_ = list()\n",
    "        #move through the epochs\n",
    "        for i in range(self.n_iter):\n",
    "            #calculate the net input (i.e. z)\n",
    "            net_input = self.net_input(X)\n",
    "            #calculate the loss via the activation function\n",
    "            output = self.activation(net_input)\n",
    "            #calculate error as how far off the activation function was\n",
    "            errors = y - output\n",
    "            #update weights\n",
    "            self.w_ += self.eta * 2.0 * X.T.dot(errors) / X.shape[0]\n",
    "            #update bia unit\n",
    "            self.b_ += self.eta * 2.0 * errors.mean()\n",
    "            #calculate the loss\n",
    "            loss = (errors**2).mean()\n",
    "            #add to the loss list\n",
    "            self.losses_.append(loss)\n",
    "        return self\n",
    "    \n",
    "    def net_input(self, X):\n",
    "        #calculates teh dot product to get the z for the decision function\n",
    "        return np.dot(X, self.w_) + self.b_\n",
    "    \n",
    "    def activation(self, X):\n",
    "        #activation for adaline is the identity function\n",
    "        return X\n",
    "    \n",
    "    def predict(self, X):\n",
    "        #the decision function\n",
    "        return np.where(self.net_input(X) >= 0.5, 1, 0)"
   ]
  },
  {
   "cell_type": "code",
   "execution_count": 15,
   "id": "e203112b-da11-4db5-95d0-56fe3140bcf9",
   "metadata": {},
   "outputs": [
    {
     "data": {
      "image/png": "[encoded data removed]",
      "text/plain": [
       "<Figure size 720x288 with 2 Axes>"
      ]
     },
     "metadata": {
      "needs_background": "light"
     },
     "output_type": "display_data"
    }
   ],
   "source": [
    "fig, ax = plt.subplots(nrows=1, ncols=2, figsize=(10, 4))\n",
    "ada1 = AdalineGD(n_iter=15, eta=0.1).fit(X, y)\n",
    "ax[0].plot(range(1, len(ada1.losses_) + 1), np.log10(ada1.losses_), marker='o')\n",
    "ax[0].set_xlabel('Epochs')\n",
    "ax[0].set_ylabel('log(Mean squared error)')\n",
    "ax[0].set_title('Adaline - Learning rate 0.1')\n",
    "ada2 = AdalineGD(n_iter=15, eta=0.0001).fit(X, y)\n",
    "ax[1].plot(range(1, len(ada2.losses_) + 1), ada2.losses_, marker='o')\n",
    "ax[1].set_xlabel('Epochs')\n",
    "ax[1].set_ylabel('Mean squared error')\n",
    "ax[1].set_title('Adaline - Learning rate 0.0001')\n",
    "plt.show()"
   ]
  },
  {
   "cell_type": "markdown",
   "id": "f65e0f86-f29d-415d-a096-73f8d506910d",
   "metadata": {},
   "source": [
    "The above graph shows two problems:\n",
    "- with too large η the gradient descent algorithm overshoots the minimum\n",
    "- with too small η the gradient descent algorithm needs a lot of epochs to converge\n",
    "\n",
    "Some of these problems can be solved through *feature scaling* and *standardization* which helps the gradient descent converge more quickly.  In un-standardized features, the optimal η might be different for the weights and bias unit. Note that this does not normalize the data, but shift the mean to 0 with a standard deviation of 1."
   ]
  },
  {
   "cell_type": "code",
   "execution_count": 16,
   "id": "308ed489-2ae2-4f55-9e46-5f55ce2eb0d6",
   "metadata": {},
   "outputs": [],
   "source": [
    "#computes the z score for every feature\n",
    "def standardize_features(X):\n",
    "    X_std = np.copy(X)\n",
    "    for i in range(X_std.shape[1]):\n",
    "        X_std[:, i] = (X[:, i] - X[:, i].mean()) / X[:, i].std()\n",
    "    return X_std"
   ]
  },
  {
   "cell_type": "code",
   "execution_count": 21,
   "id": "4eabb131-4c2b-49d1-8792-850ea9e5dd79",
   "metadata": {},
   "outputs": [
    {
     "data": {
      "text/plain": [
       "<__main__.AdalineGD at 0x7ff701c50d00>"
      ]
     },
     "execution_count": 21,
     "metadata": {},
     "output_type": "execute_result"
    }
   ],
   "source": [
    "X_std = standardize_features(X)\n",
    "ada_gd = AdalineGD(n_iter=20, eta=0.5)\n",
    "ada_gd.fit(X_std, y)"
   ]
  },
  {
   "cell_type": "code",
   "execution_count": 24,
   "id": "ce7e1f20-993b-480e-a62f-fa9e211c18c9",
   "metadata": {},
   "outputs": [
    {
     "data": {
      "image/png": "[encoded data removed]",
      "text/plain": [
       "<Figure size 432x288 with 1 Axes>"
      ]
     },
     "metadata": {
      "needs_background": "light"
     },
     "output_type": "display_data"
    },
    {
     "data": {
      "image/png": "[encoded data removed]",
      "text/plain": [
       "<Figure size 432x288 with 1 Axes>"
      ]
     },
     "metadata": {
      "needs_background": "light"
     },
     "output_type": "display_data"
    }
   ],
   "source": [
    "plot_decision_regions(X_std, y, classifier=ada_gd)\n",
    "plt.title('Adaline - Gradient descent')\n",
    "plt.xlabel('Sepal length [standardized]')\n",
    "plt.ylabel('Petal length [standardized]')\n",
    "plt.legend(loc='upper left')\n",
    "plt.tight_layout()\n",
    "plt.show()\n",
    "plt.plot(range(1, len(ada_gd.losses_) + 1), ada_gd.losses_, marker='o')\n",
    "plt.xlabel('Epochs')\n",
    "plt.ylabel('Mean squared error')\n",
    "plt.tight_layout()\n",
    "plt.show()"
   ]
  },
  {
   "cell_type": "markdown",
   "id": "481c237e-c8d9-4aec-a97e-007ad8920448",
   "metadata": {},
   "source": [
    "## Large scale machine learning with stochastic gradient descent\n",
    "\n",
    "- updating as a full batch gradient descent can be computationally intensive\n",
    "- an alternatice to full batch gradient descent is *stochastic gradient descent*, which updates the weight incrementally:\n",
    "$$\n",
    "    \\Delta w_j = \\eta(y^{(i)} - \\sigma(z^{(i)}))x_j^{(i)}, \\Delta b = \\eta(y^{(i)} - \\sigma(z^{(i)}))\n",
    "$$\n",
    "- this can help reach a convergence faster\n",
    "- another advantage is *online learning* where new training data is continually added\n",
    "- for best performance, training data should be presented in a random order; and every epoch, the training data should be reset in a random order\n",
    "- (NB: an alternative compromise is *mini batch gradient descent* where subsets of the weights are re-calculated)\n",
    "\n",
    "### python implementation of adaline with stochastic gradient descent\n",
    "- `partial_fit` will implement *online learning*, as it does not reinitialize weights\n",
    "- note how much faster the average loss converges towards 0 in the visualization"
   ]
  },
  {
   "cell_type": "code",
   "execution_count": 36,
   "id": "e43cf886-48ea-4fdc-96a2-60871a91e4f2",
   "metadata": {},
   "outputs": [],
   "source": [
    "class AdalineSGD:\n",
    "    \n",
    "    def __init__(self, eta = 0.01, n_iter = 50, shuffle = True, random_state = 1):\n",
    "        self.eta = eta #learning rate\n",
    "        self.n_iter = n_iter #number of epochs\n",
    "        self.random_state = random_state #random state to initialize weights\n",
    "        #determine initial weights\n",
    "        self.w_initialized = False\n",
    "        self.shuffle = shuffle\n",
    "        \n",
    "    def fit(self, X, y):\n",
    "        #X is a collection of training vectors and y is a collection of correct classifications\n",
    "        #initialize weights via a private class method\n",
    "        self._initialize_weights(X.shape[1])\n",
    "        #to store losses\n",
    "        self.losses_ = list()\n",
    "        #move through the epochs\n",
    "        for i in range(self.n_iter):\n",
    "            if self.shuffle:\n",
    "                #shuffle option flagged, shuffle the training set\n",
    "                X, y = self._shuffle(X, y)\n",
    "            # store the losses\n",
    "            losses = list()\n",
    "            for xi, target in zip(X, y):\n",
    "                #update weight for the X incrementally\n",
    "                losses.append(self._update_weights(xi, target))\n",
    "            #get average loss\n",
    "            avg_loss = np.mean(losses)\n",
    "            #append to list of losses\n",
    "            self.losses_.append(avg_loss)\n",
    "        return self\n",
    "    \n",
    "    def partial_fit(self, X, y):\n",
    "        #fit training without initializing the weights\n",
    "        if not self.w_initialized:\n",
    "            #weights were not initialized, initialize them\n",
    "            self._initialize_weights(X.shape[1])\n",
    "        #.ravel() flattens the array\n",
    "        if y.ravel().shape[0] > 1:\n",
    "            #there is more than one training record, loop through them\n",
    "            #updating for each one\n",
    "            for xi, target in zip(X, y):\n",
    "                self._update_weights(xi, target)\n",
    "        else:\n",
    "            #there is only one training record, update based on it\n",
    "            self._update_weights(X, y)\n",
    "        return self\n",
    "    \n",
    "    def _shuffle(self, X, y):\n",
    "        #generate a random sequence of numbers in range (0, len(y))\n",
    "        #use these to shuffle the training sets\n",
    "        r = self.rgen.permutation(len(y))\n",
    "        return X[r], y[r]\n",
    "    \n",
    "    def _initialize_weights(self, m):\n",
    "        #initializes weight to small random numbers\n",
    "        #generate random numbers\n",
    "        self.rgen = np.random.RandomState(self.random_state)\n",
    "        #set the weights to normally distributed random nunbers\n",
    "        self.w_ = self.rgen.normal(loc = 0.0, scale = 0.01, size = m)\n",
    "        #set bias unit\n",
    "        self.b_ = np.float_(0.)\n",
    "        #change flag\n",
    "        self.w_initialized = True\n",
    "        \n",
    "    def _update_weights(self, xi, target):\n",
    "        #get the initial output of the activation function\n",
    "        output = self.activation(self.net_input(xi))\n",
    "        #calculate the error\n",
    "        error = (target - output)\n",
    "        #uodate weight and bias unit\n",
    "        self.w_ += self.eta * 2.0 * xi * (error)\n",
    "        self.b_ += self.eta * 2.0 * error\n",
    "        #calculate loss\n",
    "        loss = error ** 2\n",
    "        return loss\n",
    "    \n",
    "    def net_input(self, X):\n",
    "        #calculates teh dot product to get the z for the decision function\n",
    "        return np.dot(X, self.w_) + self.b_\n",
    "    \n",
    "    def activation(self, X):\n",
    "        #activation for adaline is the identity function\n",
    "        return X\n",
    "    \n",
    "    def predict(self, X):\n",
    "        #the decision function\n",
    "        return np.where(self.net_input(X) >= 0.5, 1, 0)"
   ]
  },
  {
   "cell_type": "code",
   "execution_count": 37,
   "id": "a4c354f8-6647-473d-b510-8033633d1461",
   "metadata": {},
   "outputs": [
    {
     "data": {
      "image/png": "[encoded data removed]",
      "text/plain": [
       "<Figure size 432x288 with 1 Axes>"
      ]
     },
     "metadata": {
      "needs_background": "light"
     },
     "output_type": "display_data"
    },
    {
     "data": {
      "image/png": "[encoded data removed]",
      "text/plain": [
       "<Figure size 432x288 with 1 Axes>"
      ]
     },
     "metadata": {
      "needs_background": "light"
     },
     "output_type": "display_data"
    }
   ],
   "source": [
    "ada_sgd = AdalineSGD(n_iter=15, eta=0.01, random_state=1)\n",
    "ada_sgd.fit(X_std, y)\n",
    "plot_decision_regions(X_std, y, classifier=ada_sgd)\n",
    "plt.title('Adaline - Stochastic gradient descent')\n",
    "plt.xlabel('Sepal length [standardized]')\n",
    "plt.ylabel('Petal length [standardized]')\n",
    "plt.legend(loc='upper left')\n",
    "plt.tight_layout()\n",
    "plt.show()\n",
    "plt.plot(range(1, len(ada_sgd.losses_) + 1), ada_sgd.losses_, marker='o')\n",
    "plt.xlabel('Epochs')\n",
    "plt.ylabel('Average loss')\n",
    "plt.tight_layout()\n",
    "plt.show()"
   ]
  },
  {
   "cell_type": "code",
   "execution_count": null,
   "id": "ff8f4177-b82a-4036-adf1-86758b4712f0",
   "metadata": {},
   "outputs": [],
   "source": []
  }
 ],
 "metadata": {
  "kernelspec": {
   "display_name": "Python 3 (ipykernel)",
   "language": "python",
   "name": "python3"
  },
  "language_info": {
   "codemirror_mode": {
    "name": "ipython",
    "version": 3
   },
   "file_extension": ".py",
   "mimetype": "text/x-python",
   "name": "python",
   "nbconvert_exporter": "python",
   "pygments_lexer": "ipython3",
   "version": "3.9.12"
  }
 },
 "nbformat": 4,
 "nbformat_minor": 5
}
