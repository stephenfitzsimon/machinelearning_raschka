{
 "cells": [
  {
   "cell_type": "markdown",
   "id": "50e9e985-964f-4670-83fc-f9ee782ae370",
   "metadata": {},
   "source": [
    "# Chapter 11 : Implementing a Multilayer Artificial Neural Network from Scratch"
   ]
  }
 ],
 "metadata": {
  "kernelspec": {
   "display_name": "Python 3 (ipykernel)",
   "language": "python",
   "name": "python3"
  },
  "language_info": {
   "codemirror_mode": {
    "name": "ipython",
    "version": 3
   },
   "file_extension": ".py",
   "mimetype": "text/x-python",
   "name": "python",
   "nbconvert_exporter": "python",
   "pygments_lexer": "ipython3",
   "version": "3.9.12"
  }
 },
 "nbformat": 4,
 "nbformat_minor": 5
}
