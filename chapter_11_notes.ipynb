{
 "cells": [
  {
   "cell_type": "markdown",
   "id": "50e9e985-964f-4670-83fc-f9ee782ae370",
   "metadata": {},
   "source": [
    "# Chapter 11 : Implementing a Multilayer Artificial Neural Network from Scratch\n",
    "\n",
    "## Modeling complex functions with artificial neural networks\n",
    "\n",
    "Note that a *neural network* originates in the 1940s with models such as ADALINE and the perceptron, already covered in this book.  Neural networks have become more populated after the ability to create *deep neural networks* which have multiple layers of neurons.\n",
    "\n",
    "### Single layer neural network recap\n",
    "\n",
    "For example, consider ADALINE.  Recall that in every epoch, the weight vector, $w$, and bias unit, $b$, are updated. Where\n",
    "$$\n",
    "    w := w + \\Delta w \\text{ and } b := b + \\Delta b\n",
    "$$\n",
    "and\n",
    "$$\n",
    "    \\Delta w_j = -\\eta \\frac{\\partial L}{\\partial w_j}\n",
    "$$\n",
    "and\n",
    "$$\n",
    "    \\Delta b = -\\eta\\frac{\\partial L}{\\partial b}\n",
    "$$\n",
    "\n",
    "This is done through multiple passes over the training set where an activiation function (in ADALINE, the identity function) output is compared with the actual value.  Recall that this takes the opposite direction of the loss gradient ($\\nabla L(w)$) to find optimal weights of the model.  Generally $L$ is defined as the mean of square errors.  The model learning phase is accelerated by stochastic gradient descent.\n",
    "\n",
    "This will be used to implement and train a *multilayer perceptron* (MLP) model.\n",
    "\n",
    "### Introducing the multilayer neural network architecture\n",
    "\n",
    "A MLP model consists in an input layer, one or more hidden layers, and an output payer. If a network has more than one hidden layer, then it is said to be a *deep NN*. \n",
    "\n",
    "The $i$th activation unit in the $l$th later is denoted $a_i^{(l)}$.  Numerical units are usally not used for the layers; therfore, $x_i^{(in)}$ refers to the $i$th input feature value, $a_i^{(h)}$ refers to the $i$th unit in the hidden layer, and $a_i^{(out)}$ refers to the $i$th unit in the output layer. $b^{(h)}$, $b^{(out)}$ denote bias unit vectors storing $d$, the number of nodes, bias units for the hidden and output layers.\n",
    "\n",
    "### Activating a neural network via forward propagation\n",
    "\n",
    "The MLP procedure is summarized in three steps:\n",
    "1. Starting at $x_i^{(in)}$, patterns are forward propagated through the network\n",
    "2. Based on network output, calculate the loss we want to minimize using a loss function\n",
    "3. Back propogate the loss, finding the derivative of each weight and bias unity, updating the model\n",
    "These steps are repeated for each epoch. \n",
    "\n",
    "Moving step by step as follows.  First, calcualte the activation unit for the hidden layer as follows:\n",
    "$$\n",
    "    z_1^{(h)} = x_1^{(in)}w_{1,1}^{(h)} + \\dots + x_m^{(in)}w_{1,m}^{(h)}\n",
    "$$\n",
    "thus,\n",
    "$$\n",
    "    a_1^{(h)} = \\sigma(z_1^{(h)})\n",
    "$$\n",
    "Note that complex problems need a nonlinear activation function.  For example, the logistic regression's sigmoid activation function.\n",
    "\n",
    "The calculation can be generalized to $n$ examples as follows:\n",
    "$$\n",
    "    Z^{(h)}= X^{(in)}W^{{h)T} + b^{(h)}\n",
    "$$\n",
    "Thus:\n",
    "$$\n",
    "    A^{(h)} = \\sigma(Z^{(h)})\n",
    "$$\n",
    "And finally:\n",
    "$$\n",
    "    A^{(out)} = \\sigma(Z^{(out)})\n",
    "$$\n",
    "\n",
    "## Classifying handwritten digits\n",
    "\n",
    "Before implementing a multilayer perceptron, prepare the handwritten digits data set.\n",
    "\n",
    "Get data set from sci-kit learn.print(X.shape)"
   ]
  },
  {
   "cell_type": "code",
   "execution_count": 1,
   "id": "3f6f9e0c-d5b0-4d13-b7ce-0e1b1918460e",
   "metadata": {},
   "outputs": [],
   "source": [
    "from sklearn.datasets import fetch_openml \n",
    "X, y = fetch_openml('mnist_784', version=1, return_X_y=True)\n",
    "X = X.values\n",
    "y = y.astype(int).values"
   ]
  },
  {
   "cell_type": "code",
   "execution_count": 2,
   "id": "048490a3-fd70-47e2-bdca-f1a1dbaf30df",
   "metadata": {
    "tags": []
   },
   "outputs": [
    {
     "name": "stdout",
     "output_type": "stream",
     "text": [
      "(70000, 784)\n",
      "(70000,)\n"
     ]
    }
   ],
   "source": [
    "print(X.shape)\n",
    "print(y.shape)"
   ]
  },
  {
   "cell_type": "markdown",
   "id": "08c6f5a2-30c0-4005-a3c4-fa70f40491a7",
   "metadata": {},
   "source": [
    "Normalize the pixels. Recall that gradient-based optimization is better using normalized data. "
   ]
  },
  {
   "cell_type": "code",
   "execution_count": 3,
   "id": "a9a197b9-6d62-4e7b-abee-ca46e8498e0d",
   "metadata": {},
   "outputs": [],
   "source": [
    "X = ((X / 255.) - .5) * 2"
   ]
  },
  {
   "cell_type": "markdown",
   "id": "98a404f0-7565-4026-a445-c46f0a09ceb6",
   "metadata": {},
   "source": [
    "Split the data."
   ]
  },
  {
   "cell_type": "code",
   "execution_count": 4,
   "id": "b5817e32-5b11-4935-963d-64d571e9eb95",
   "metadata": {},
   "outputs": [],
   "source": [
    "from sklearn.model_selection import train_test_split \n",
    "X_temp, X_test, y_temp, y_test = train_test_split(X, y, test_size=10000, random_state=123, stratify=y)\n",
    "X_train, X_valid, y_train, y_valid = train_test_split(X_temp, y_temp, test_size=5000, random_state=123, stratify=y_temp)"
   ]
  },
  {
   "cell_type": "markdown",
   "id": "aedcc0bd-b2c9-4424-b9df-f685d3551b9b",
   "metadata": {},
   "source": [
    "### Implementing a multilayer perceptron\n",
    "\n",
    "This will implement a MLP with a single hidden layer.\n",
    "\n",
    "Write helper functions to calculate sigmoid function and to encode labels."
   ]
  },
  {
   "cell_type": "code",
   "execution_count": 5,
   "id": "a43184f2-69ac-444b-8915-43fb937b737d",
   "metadata": {},
   "outputs": [],
   "source": [
    "import numpy as np\n",
    "\n",
    "def sigmoid(z):\n",
    "    return 1. / (1. + np.exp(-z))\n",
    "\n",
    "def int_to_onehot(y, num_labels):\n",
    "    ary = np.zeros((y.shape[0], num_labels))\n",
    "    for i, val in enumerate(y):\n",
    "        ary[i, val] = 1\n",
    "    return ary"
   ]
  },
  {
   "cell_type": "markdown",
   "id": "32be736b-575a-4443-96fa-0fd3a7a570da",
   "metadata": {},
   "source": [
    "Make the NeuralNetMLP class.\n",
    "\n",
    "Notes:\n",
    "1. `__init__` : This instantiates the weights for both the output and hidden layers\n",
    "2. `.forward` : Uses training examples to make a prediction. `a_h` contains the activation values of the hidden layer, and `a_out` contains the class membership probabilities\n",
    "3. `.backward`  : Updates the weight and bias parameters of the network.  This is called the *backpropagation* algorithm.  This is done by calculating the loss gradient, and returning the updated bias and weights for the hidden layer and the membership probabilities."
   ]
  },
  {
   "cell_type": "code",
   "execution_count": 9,
   "id": "7234a7b6-af8c-4822-a08a-eebc1bf59602",
   "metadata": {},
   "outputs": [],
   "source": [
    "class NeuralNetMLP:\n",
    "    def __init__(self, num_features, num_hidden,\n",
    "                 num_classes, random_seed=123):\n",
    "        super().__init__()\n",
    "        self.num_classes = num_classes\n",
    "        # hidden\n",
    "        rng = np.random.RandomState(random_seed)\n",
    "        self.weight_h = rng.normal(\n",
    "            loc=0.0, scale=0.1, size=(num_hidden, num_features))\n",
    "        self.bias_h = np.zeros(num_hidden)\n",
    "        # output\n",
    "        self.weight_out = rng.normal(\n",
    "            loc=0.0, scale=0.1, size=(num_classes, num_hidden))\n",
    "        self.bias_out = np.zeros(num_classes)\n",
    "    \n",
    "    def forward(self, x): \n",
    "        # Hidden layer\n",
    "        # input dim: [n_hidden, n_features]\n",
    "        # dot [n_features, n_examples] .T\n",
    "        # output dim: [n_examples, n_hidden]\n",
    "        z_h = np.dot(x, self.weight_h.T) + self.bias_h \n",
    "        a_h = sigmoid(z_h)\n",
    "        # Output layer\n",
    "        # input dim: [n_classes, n_hidden]\n",
    "        # dot [n_hidden, n_examples] .T\n",
    "        # output dim: [n_examples, n_classes]\n",
    "        z_out = np.dot(a_h, self.weight_out.T) + self.bias_out \n",
    "        a_out = sigmoid(z_out)\n",
    "        return a_h, a_out\n",
    "    \n",
    "    def backward(self, x, a_h, a_out, y):\n",
    "        #########################\n",
    "        ### Output layer weights\n",
    "        #########################\n",
    "        # one-hot encoding\n",
    "        y_onehot = int_to_onehot(y, self.num_classes)\n",
    "        \n",
    "        # Part 1: dLoss/dOutWeights\n",
    "        ## = dLoss/dOutAct * dOutAct/dOutNet * dOutNet/dOutWeight\n",
    "        ## where DeltaOut = dLoss/dOutAct * dOutAct/dOutNet\n",
    "        ## for convenient re-use\n",
    "        # input/output dim: [n_examples, n_classes]\n",
    "        d_loss__d_a_out = 2.*(a_out - y_onehot) / y.shape[0] \n",
    "        # input/output dim: [n_examples, n_classes]\n",
    "        d_a_out__d_z_out = a_out * (1. - a_out) \n",
    "        # sigmoid derivative # output dim: [n_examples, n_classes]\n",
    "        delta_out = d_loss__d_a_out * d_a_out__d_z_out\n",
    "        # gradient for output weights\n",
    "        # [n_examples, n_hidden]\n",
    "        d_z_out__dw_out = a_h\n",
    "        # input dim: [n_classes, n_examples]\n",
    "        # dot [n_examples, n_hidden]\n",
    "        # output dim: [n_classes, n_hidden]\n",
    "        d_loss__dw_out = np.dot(delta_out.T, d_z_out__dw_out) \n",
    "        d_loss__db_out = np.sum(delta_out, axis=0)\n",
    "        \n",
    "        #################################\n",
    "        # Part 2: dLoss/dHiddenWeights\n",
    "        ## = DeltaOut * dOutNet/dHiddenAct * dHiddenAct/dHiddenNet\n",
    "        #    * dHiddenNet/dWeight\n",
    "        # [n_classes, n_hidden]\n",
    "        d_z_out__a_h = self.weight_out\n",
    "        # output dim: [n_examples, n_hidden]\n",
    "        d_loss__a_h = np.dot(delta_out, d_z_out__a_h)\n",
    "        # [n_examples, n_hidden]\n",
    "        d_a_h__d_z_h = a_h * (1. - a_h) \n",
    "        # sigmoid derivative\n",
    "        # [n_examples, n_features]\n",
    "        d_z_h__d_w_h = x\n",
    "        # output dim: [n_hidden, n_features]\n",
    "        d_loss__d_w_h = np.dot((d_loss__a_h * d_a_h__d_z_h).T,\n",
    "                        d_z_h__d_w_h)\n",
    "        d_loss__d_b_h = np.sum((d_loss__a_h * d_a_h__d_z_h), axis=0)\n",
    "        return (d_loss__dw_out, d_loss__db_out, d_loss__d_w_h, d_loss__d_b_h)"
   ]
  },
  {
   "cell_type": "markdown",
   "id": "63d1f642-4b72-4469-a408-71c52238d2c0",
   "metadata": {},
   "source": [
    "Initialize a new model:"
   ]
  },
  {
   "cell_type": "code",
   "execution_count": 10,
   "id": "96c19a79-12bf-47bf-af18-274e5cebf762",
   "metadata": {},
   "outputs": [],
   "source": [
    "model = NeuralNetMLP(num_features=28*28,\n",
    "    num_hidden=50,\n",
    "    num_classes=10)"
   ]
  },
  {
   "cell_type": "markdown",
   "id": "c35163d5-f751-4acd-bd09-d3c200e2a3ca",
   "metadata": {},
   "source": [
    "### Coding the Neural Network training loop\n",
    "\n",
    "Define a helper function to generate mini matches of the data set:"
   ]
  },
  {
   "cell_type": "code",
   "execution_count": 14,
   "id": "1a5fea88-6b96-41f8-930f-a9b19b0f5983",
   "metadata": {},
   "outputs": [],
   "source": [
    "import numpy as np\n",
    "num_epochs = 50\n",
    "minibatch_size = 100\n",
    "def minibatch_generator(X, y, minibatch_size):\n",
    "    indices = np.arange(X.shape[0])\n",
    "    np.random.shuffle(indices)\n",
    "    for start_idx in range(0, indices.shape[0] - minibatch_size + 1, minibatch_size):\n",
    "        batch_idx = indices[start_idx:start_idx + minibatch_size] \n",
    "        yield X[batch_idx], y[batch_idx]\n",
    "        \n",
    "def mse_loss(targets, probas, num_labels=10):\n",
    "    onehot_targets = int_to_onehot(\n",
    "    targets, num_labels=num_labels\n",
    "    )\n",
    "    return np.mean((onehot_targets - probas)**2)\n",
    "\n",
    "def accuracy(targets, predicted_labels):\n",
    "    return np.mean(predicted_labels == targets)"
   ]
  },
  {
   "cell_type": "markdown",
   "id": "6db59ce2-1622-445c-9f4e-18e48abd5340",
   "metadata": {},
   "source": [
    "Get the minibatches."
   ]
  },
  {
   "cell_type": "code",
   "execution_count": 16,
   "id": "141be98a-7b97-42ab-af02-b2a92a969ecf",
   "metadata": {},
   "outputs": [
    {
     "name": "stdout",
     "output_type": "stream",
     "text": [
      "(100, 784)\n",
      "(100,)\n"
     ]
    }
   ],
   "source": [
    "for i in range(num_epochs):\n",
    "    minibatch_gen = minibatch_generator(X_train, y_train, minibatch_size)\n",
    "    for X_train_mini, y_train_mini in minibatch_gen:\n",
    "        break\n",
    "    break\n",
    "print(X_train_mini.shape)\n",
    "print(y_train_mini.shape)"
   ]
  },
  {
   "cell_type": "markdown",
   "id": "76ba3370-ee13-47ba-9c7e-faf75834e536",
   "metadata": {},
   "source": [
    "Now predict on the model using `.forward`.  This returns the hidden and output layer activations.  From this, the accuracy can be calculated."
   ]
  },
  {
   "cell_type": "code",
   "execution_count": 17,
   "id": "967e8fdd-9c6b-4b9f-b44e-1c9bb005a824",
   "metadata": {},
   "outputs": [
    {
     "name": "stdout",
     "output_type": "stream",
     "text": [
      "Initial validation MSE: 0.3\n",
      "Initial validation accuracy: 9.4%\n"
     ]
    }
   ],
   "source": [
    "_, probas = model.forward(X_valid)\n",
    "mse = mse_loss(y_valid, probas)\n",
    "print(f'Initial validation MSE: {mse:.1f}')\n",
    "\n",
    "predicted_labels = np.argmax(probas, axis=1)\n",
    "acc = accuracy(y_valid, predicted_labels)\n",
    "print(f'Initial validation accuracy: {acc*100:.1f}%')"
   ]
  },
  {
   "cell_type": "code",
   "execution_count": 19,
   "id": "da09e8a6-2942-411e-964d-40109f4ca09c",
   "metadata": {},
   "outputs": [],
   "source": [
    "def compute_mse_and_acc(nnet, X, y, num_labels=10,\n",
    "    minibatch_size=100):\n",
    "    mse, correct_pred, num_examples = 0., 0, 0\n",
    "    minibatch_gen = minibatch_generator(X, y, minibatch_size)\n",
    "    for i, (features, targets) in enumerate(minibatch_gen):\n",
    "        _, probas = nnet.forward(features)\n",
    "        predicted_labels = np.argmax(probas, axis=1)\n",
    "        onehot_targets = int_to_onehot(\n",
    "        targets, num_labels=num_labels\n",
    "        )\n",
    "        loss = np.mean((onehot_targets - probas)**2)\n",
    "        correct_pred += (predicted_labels == targets).sum()\n",
    "        num_examples += targets.shape[0]\n",
    "        mse += loss\n",
    "    mse = mse/i\n",
    "    acc = correct_pred/num_examples\n",
    "    return mse, acc"
   ]
  },
  {
   "cell_type": "code",
   "execution_count": 20,
   "id": "482020ad-ab8e-42a8-8e9f-54c5e3f5fdf3",
   "metadata": {},
   "outputs": [
    {
     "name": "stdout",
     "output_type": "stream",
     "text": [
      "Initial valid MSE: 0.3\n",
      "Initial valid accuracy: 9.4%\n"
     ]
    }
   ],
   "source": [
    "mse, acc = compute_mse_and_acc(model, X_valid, y_valid)\n",
    "print(f'Initial valid MSE: {mse:.1f}')\n",
    "print(f'Initial valid accuracy: {acc*100:.1f}%')"
   ]
  },
  {
   "cell_type": "markdown",
   "id": "a3371ac9-eb15-46c2-beb4-2b90d013a861",
   "metadata": {},
   "source": [
    "Now develope a `train` function which will handle the layers.  It will\n",
    "- iterate over multiple epochs\n",
    "- uses mini-batches to iterate over the training set\n",
    "- use `.forward()` to obtain output\n",
    "- use `.backward()` to compute gradient loss and update weights"
   ]
  },
  {
   "cell_type": "code",
   "execution_count": 24,
   "id": "6591e801-02b2-411c-820b-7c2d15db91ea",
   "metadata": {},
   "outputs": [],
   "source": [
    "def train(model, X_train, y_train, X_valid, y_valid, num_epochs, learning_rate=0.1):\n",
    "    epoch_loss = []\n",
    "    epoch_train_acc = []\n",
    "    epoch_valid_acc = []\n",
    "    for e in range(num_epochs):\n",
    "        # iterate over minibatches\n",
    "        minibatch_gen = minibatch_generator(\n",
    "        X_train, y_train, minibatch_size)\n",
    "        for X_train_mini, y_train_mini in minibatch_gen:\n",
    "            #### Compute outputs ####\n",
    "            a_h, a_out = model.forward(X_train_mini)\n",
    "            #### Compute gradients ####\n",
    "            d_loss__d_w_out, d_loss__d_b_out, \\\n",
    "            d_loss__d_w_h, d_loss__d_b_h = \\\n",
    "            model.backward(X_train_mini, a_h, a_out,\n",
    "            y_train_mini) \n",
    "            #### Update weights ####\n",
    "            model.weight_h -= learning_rate * d_loss__d_w_h\n",
    "            model.bias_h -= learning_rate * d_loss__d_b_h\n",
    "            model.weight_out -= learning_rate * d_loss__d_w_out\n",
    "            model.bias_out -= learning_rate * d_loss__d_b_out\n",
    "        #### Epoch Logging ####\n",
    "        train_mse, train_acc = compute_mse_and_acc(\n",
    "        model, X_train, y_train\n",
    "        )\n",
    "        valid_mse, valid_acc = compute_mse_and_acc(\n",
    "        model, X_valid, y_valid\n",
    "        )\n",
    "        train_acc, valid_acc = train_acc*100, valid_acc*100\n",
    "        epoch_train_acc.append(train_acc)\n",
    "        epoch_valid_acc.append(valid_acc)\n",
    "        epoch_loss.append(train_mse)\n",
    "        print(f'Epoch: {e+1:03d}/{num_epochs:03d} '\n",
    "        f'| Train MSE: {train_mse:.2f} '\n",
    "        f'| Train Acc: {train_acc:.2f}% '\n",
    "        f'| Valid Acc: {valid_acc:.2f}%')\n",
    "    return epoch_loss, epoch_train_acc, epoch_valid_acc"
   ]
  },
  {
   "cell_type": "markdown",
   "id": "9487bce9-4808-4d5c-9560-59f264e2fb7c",
   "metadata": {},
   "source": [
    "Now call the `train` function over 50 epochs."
   ]
  },
  {
   "cell_type": "code",
   "execution_count": 25,
   "id": "35f64d2b-c17f-4165-bd08-9ac63ea532d8",
   "metadata": {},
   "outputs": [
    {
     "name": "stdout",
     "output_type": "stream",
     "text": [
      "Epoch: 001/050 | Train MSE: 0.03 | Train Acc: 85.39% | Valid Acc: 84.96%\n",
      "Epoch: 002/050 | Train MSE: 0.02 | Train Acc: 87.91% | Valid Acc: 87.58%\n",
      "Epoch: 003/050 | Train MSE: 0.02 | Train Acc: 89.20% | Valid Acc: 89.06%\n",
      "Epoch: 004/050 | Train MSE: 0.02 | Train Acc: 90.17% | Valid Acc: 89.94%\n",
      "Epoch: 005/050 | Train MSE: 0.02 | Train Acc: 90.78% | Valid Acc: 90.52%\n",
      "Epoch: 006/050 | Train MSE: 0.02 | Train Acc: 91.10% | Valid Acc: 90.92%\n",
      "Epoch: 007/050 | Train MSE: 0.02 | Train Acc: 91.48% | Valid Acc: 91.04%\n",
      "Epoch: 008/050 | Train MSE: 0.01 | Train Acc: 91.75% | Valid Acc: 91.44%\n",
      "Epoch: 009/050 | Train MSE: 0.01 | Train Acc: 92.12% | Valid Acc: 91.78%\n",
      "Epoch: 010/050 | Train MSE: 0.01 | Train Acc: 92.30% | Valid Acc: 92.10%\n",
      "Epoch: 011/050 | Train MSE: 0.01 | Train Acc: 92.51% | Valid Acc: 92.28%\n",
      "Epoch: 012/050 | Train MSE: 0.01 | Train Acc: 92.68% | Valid Acc: 92.34%\n",
      "Epoch: 013/050 | Train MSE: 0.01 | Train Acc: 92.81% | Valid Acc: 92.58%\n",
      "Epoch: 014/050 | Train MSE: 0.01 | Train Acc: 92.97% | Valid Acc: 92.82%\n",
      "Epoch: 015/050 | Train MSE: 0.01 | Train Acc: 93.15% | Valid Acc: 92.90%\n",
      "Epoch: 016/050 | Train MSE: 0.01 | Train Acc: 93.25% | Valid Acc: 92.90%\n",
      "Epoch: 017/050 | Train MSE: 0.01 | Train Acc: 93.40% | Valid Acc: 93.12%\n",
      "Epoch: 018/050 | Train MSE: 0.01 | Train Acc: 93.51% | Valid Acc: 93.18%\n",
      "Epoch: 019/050 | Train MSE: 0.01 | Train Acc: 93.58% | Valid Acc: 93.22%\n",
      "Epoch: 020/050 | Train MSE: 0.01 | Train Acc: 93.77% | Valid Acc: 93.42%\n",
      "Epoch: 021/050 | Train MSE: 0.01 | Train Acc: 93.81% | Valid Acc: 93.52%\n",
      "Epoch: 022/050 | Train MSE: 0.01 | Train Acc: 93.91% | Valid Acc: 93.62%\n",
      "Epoch: 023/050 | Train MSE: 0.01 | Train Acc: 94.10% | Valid Acc: 93.78%\n",
      "Epoch: 024/050 | Train MSE: 0.01 | Train Acc: 94.18% | Valid Acc: 93.82%\n",
      "Epoch: 025/050 | Train MSE: 0.01 | Train Acc: 94.20% | Valid Acc: 93.78%\n",
      "Epoch: 026/050 | Train MSE: 0.01 | Train Acc: 94.38% | Valid Acc: 93.94%\n",
      "Epoch: 027/050 | Train MSE: 0.01 | Train Acc: 94.40% | Valid Acc: 94.00%\n",
      "Epoch: 028/050 | Train MSE: 0.01 | Train Acc: 94.50% | Valid Acc: 94.12%\n",
      "Epoch: 029/050 | Train MSE: 0.01 | Train Acc: 94.53% | Valid Acc: 94.04%\n",
      "Epoch: 030/050 | Train MSE: 0.01 | Train Acc: 94.63% | Valid Acc: 94.14%\n",
      "Epoch: 031/050 | Train MSE: 0.01 | Train Acc: 94.70% | Valid Acc: 94.16%\n",
      "Epoch: 032/050 | Train MSE: 0.01 | Train Acc: 94.78% | Valid Acc: 94.30%\n",
      "Epoch: 033/050 | Train MSE: 0.01 | Train Acc: 94.79% | Valid Acc: 94.04%\n",
      "Epoch: 034/050 | Train MSE: 0.01 | Train Acc: 94.91% | Valid Acc: 94.20%\n",
      "Epoch: 035/050 | Train MSE: 0.01 | Train Acc: 94.96% | Valid Acc: 94.38%\n",
      "Epoch: 036/050 | Train MSE: 0.01 | Train Acc: 95.01% | Valid Acc: 94.22%\n",
      "Epoch: 037/050 | Train MSE: 0.01 | Train Acc: 95.07% | Valid Acc: 94.30%\n",
      "Epoch: 038/050 | Train MSE: 0.01 | Train Acc: 95.16% | Valid Acc: 94.40%\n",
      "Epoch: 039/050 | Train MSE: 0.01 | Train Acc: 95.22% | Valid Acc: 94.36%\n",
      "Epoch: 040/050 | Train MSE: 0.01 | Train Acc: 95.24% | Valid Acc: 94.38%\n",
      "Epoch: 041/050 | Train MSE: 0.01 | Train Acc: 95.29% | Valid Acc: 94.56%\n",
      "Epoch: 042/050 | Train MSE: 0.01 | Train Acc: 95.34% | Valid Acc: 94.48%\n",
      "Epoch: 043/050 | Train MSE: 0.01 | Train Acc: 95.39% | Valid Acc: 94.40%\n",
      "Epoch: 044/050 | Train MSE: 0.01 | Train Acc: 95.46% | Valid Acc: 94.52%\n",
      "Epoch: 045/050 | Train MSE: 0.01 | Train Acc: 95.49% | Valid Acc: 94.60%\n",
      "Epoch: 046/050 | Train MSE: 0.01 | Train Acc: 95.53% | Valid Acc: 94.66%\n",
      "Epoch: 047/050 | Train MSE: 0.01 | Train Acc: 95.59% | Valid Acc: 94.68%\n",
      "Epoch: 048/050 | Train MSE: 0.01 | Train Acc: 95.64% | Valid Acc: 94.64%\n",
      "Epoch: 049/050 | Train MSE: 0.01 | Train Acc: 95.63% | Valid Acc: 94.64%\n",
      "Epoch: 050/050 | Train MSE: 0.01 | Train Acc: 95.65% | Valid Acc: 94.82%\n"
     ]
    }
   ],
   "source": [
    "np.random.seed(123) # for the training set shuffling \n",
    "epoch_loss, epoch_train_acc, epoch_valid_acc = train(\n",
    "    model, X_train, y_train, X_valid, y_valid,\n",
    "    num_epochs=50, learning_rate=0.1)"
   ]
  },
  {
   "cell_type": "markdown",
   "id": "3fb35ea3-abfe-4c6f-8849-b24211ee9138",
   "metadata": {},
   "source": [
    "By prinitng the output, it is possible to see the changes in train and valid accuracies. \n",
    "\n",
    "Note that deep NN are computationally expensive relative to other forms of machine learning. Therefore, using the information that is prited out, it is possible to stop and try different hyperparameters. \n",
    "\n",
    "### Evaluating the neural network performance\n",
    "\n",
    "Consider MSE over epochs. Consider:\n",
    "- significant improvement in MSE metric over the first ten epochs\n",
    "- improvement change decreases in the later epochs\n",
    "- but the slop at epochs 40-50 indicate that more epochs would lead to improvement in the MSE metric, if the computational resources justified it (especially because the model is not overfitting to train data)"
   ]
  },
  {
   "cell_type": "code",
   "execution_count": 27,
   "id": "8a31db92-56f7-45f7-957d-9513f583c88b",
   "metadata": {},
   "outputs": [
    {
     "data": {
      "image/png": "[encoded data removed]",
      "text/plain": [
       "<Figure size 432x288 with 1 Axes>"
      ]
     },
     "metadata": {
      "needs_background": "light"
     },
     "output_type": "display_data"
    }
   ],
   "source": [
    "import matplotlib.pyplot as plt\n",
    "\n",
    "plt.plot(range(len(epoch_loss)), epoch_loss) \n",
    "plt.ylabel('Mean squared error')\n",
    "plt.xlabel('Epoch')\n",
    "plt.show()"
   ]
  },
  {
   "cell_type": "markdown",
   "id": "307891be-adb0-4bfa-bcad-0aceb24b5183",
   "metadata": {},
   "source": [
    "However, plotting the train and validate accuracy shows that eventually there are minimal gains in validation accuracy at higher number of epochs."
   ]
  },
  {
   "cell_type": "code",
   "execution_count": 28,
   "id": "4840a8b7-7674-465b-98dc-7965d45c1925",
   "metadata": {},
   "outputs": [
    {
     "data": {
      "image/png": "[encoded data removed]",
      "text/plain": [
       "<Figure size 432x288 with 1 Axes>"
      ]
     },
     "metadata": {
      "needs_background": "light"
     },
     "output_type": "display_data"
    }
   ],
   "source": [
    "plt.plot(range(len(epoch_train_acc)), epoch_train_acc, label='Training')\n",
    "plt.plot(range(len(epoch_valid_acc)), epoch_valid_acc, label='Validation')\n",
    "plt.ylabel('Accuracy')\n",
    "plt.xlabel('Epochs')\n",
    "plt.legend(loc='lower right') \n",
    "plt.show()"
   ]
  },
  {
   "cell_type": "markdown",
   "id": "39c6e42b-58bf-494e-bb4b-cf0fb04f3d37",
   "metadata": {},
   "source": [
    "Note that test accuracy is high."
   ]
  },
  {
   "cell_type": "code",
   "execution_count": 29,
   "id": "ac3285a5-2cd9-423c-99f8-c8ce5e02a39a",
   "metadata": {},
   "outputs": [
    {
     "name": "stdout",
     "output_type": "stream",
     "text": [
      "Test accuracy: 94.61%\n"
     ]
    }
   ],
   "source": [
    "test_mse, test_acc = compute_mse_and_acc(model, X_test, y_test) \n",
    "print(f'Test accuracy: {test_acc*100:.2f}%')"
   ]
  },
  {
   "cell_type": "markdown",
   "id": "e3b696fc-cf70-4c9e-9b23-cf2ce8101128",
   "metadata": {},
   "source": [
    "To further improve the model, the following can be tuned:\n",
    "- $\\eta$, the learning rate\n",
    "- number of hidden layers\n",
    "Other advanced techniques are:\n",
    "- change $\\eta$ during training via learning rate schedulers\n",
    "- attaching loss functions to earlier layers"
   ]
  },
  {
   "cell_type": "markdown",
   "id": "36411c17-2d72-4b25-b6ad-4ecff3469fa0",
   "metadata": {},
   "source": [
    "## Training an artificial neural network\n",
    "\n",
    "### Computing the loss function\n",
    "\n"
   ]
  }
 ],
 "metadata": {
  "kernelspec": {
   "display_name": "Python 3 (ipykernel)",
   "language": "python",
   "name": "python3"
  },
  "language_info": {
   "codemirror_mode": {
    "name": "ipython",
    "version": 3
   },
   "file_extension": ".py",
   "mimetype": "text/x-python",
   "name": "python",
   "nbconvert_exporter": "python",
   "pygments_lexer": "ipython3",
   "version": "3.9.12"
  }
 },
 "nbformat": 4,
 "nbformat_minor": 5
}
